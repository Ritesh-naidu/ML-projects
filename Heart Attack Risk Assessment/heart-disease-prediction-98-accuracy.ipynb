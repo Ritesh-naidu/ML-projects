{
 "cells": [
  {
   "cell_type": "markdown",
   "id": "f89352c3",
   "metadata": {
    "papermill": {
     "duration": 0.009734,
     "end_time": "2025-02-13T09:37:08.011729",
     "exception": false,
     "start_time": "2025-02-13T09:37:08.001995",
     "status": "completed"
    },
    "tags": []
   },
   "source": [
    "# HEART DISEASE PREDICTION"
   ]
  },
  {
   "cell_type": "markdown",
   "id": "83217656",
   "metadata": {
    "id": "aTb-9TFFqprC",
    "papermill": {
     "duration": 0.007406,
     "end_time": "2025-02-13T09:37:08.026995",
     "exception": false,
     "start_time": "2025-02-13T09:37:08.019589",
     "status": "completed"
    },
    "tags": []
   },
   "source": [
    "### Importing Libraries"
   ]
  },
  {
   "cell_type": "code",
   "execution_count": null,
   "id": "ecb5e7c0",
   "metadata": {
    "execution": {
     "iopub.execute_input": "2025-02-13T09:37:08.044095Z",
     "iopub.status.busy": "2025-02-13T09:37:08.043740Z",
     "iopub.status.idle": "2025-02-13T09:37:09.997394Z",
     "shell.execute_reply": "2025-02-13T09:37:09.996337Z"
    },
    "executionInfo": {
     "elapsed": 1659,
     "status": "ok",
     "timestamp": 1653200233515,
     "user": {
      "displayName": "siddhardh selvam",
      "userId": "13966379820454708749"
     },
     "user_tz": -330
    },
    "id": "3q9U3S_whh3-",
    "papermill": {
     "duration": 1.965036,
     "end_time": "2025-02-13T09:37:09.999833",
     "exception": false,
     "start_time": "2025-02-13T09:37:08.034797",
     "status": "completed"
    },
    "tags": []
   },
   "outputs": [],
   "source": [
    "import numpy as np\n",
    "import pandas as pd\n",
    "\n",
    "from sklearn.preprocessing import MinMaxScaler\n",
    "from sklearn.model_selection import train_test_split\n",
    "\n",
    "from sklearn.linear_model import LogisticRegression\n",
    "from sklearn.tree import DecisionTreeClassifier\n",
    "from sklearn.tree import export_graphviz  # to export graph of decision tree to pdf\n",
    "from sklearn.ensemble import RandomForestClassifier\n",
    "from sklearn.model_selection import GridSearchCV\n",
    "\n",
    "from sklearn.metrics import accuracy_score, classification_report\n",
    "import warnings\n",
    "warnings.filterwarnings(\"ignore\")"
   ]
  },
  {
   "cell_type": "markdown",
   "id": "4a59558e",
   "metadata": {
    "id": "egMd5zeurTMR",
    "papermill": {
     "duration": 0.007506,
     "end_time": "2025-02-13T09:37:10.015265",
     "exception": false,
     "start_time": "2025-02-13T09:37:10.007759",
     "status": "completed"
    },
    "tags": []
   },
   "source": [
    "# Data Collection and Processing "
   ]
  },
  {
   "cell_type": "markdown",
   "id": "ae405080",
   "metadata": {
    "papermill": {
     "duration": 0.007237,
     "end_time": "2025-02-13T09:37:10.030059",
     "exception": false,
     "start_time": "2025-02-13T09:37:10.022822",
     "status": "completed"
    },
    "tags": []
   },
   "source": [
    "**About Dataset**  \n",
    "**Context**  \n",
    "This data set dates from 1988 and consists of four databases: Cleveland, Hungary, Switzerland, and Long Beach V. It contains 76 attributes, including the predicted attribute, but all published experiments refer to using a subset of 14 of them. The \"target\" field refers to the presence of heart disease in the patient. It is integer valued 0 = no disease and 1 = disease.  \n",
    "\n",
    "**Content**  \n",
    "Attribute Information:  \n",
    "\n",
    "age  \n",
    "sex  \n",
    "chest pain type (4 values)  \n",
    "resting blood pressure  \n",
    "serum cholestoral in mg/dl  \n",
    "fasting blood sugar > 120 mg/dl  \n",
    "resting electrocardiographic results (values 0,1,2)  \n",
    "maximum heart rate achieved  \n",
    "exercise induced angina  \n",
    "oldpeak = ST depression induced by exercise relative to rest  \n",
    "the slope of the peak exercise ST segment  \n",
    "number of major vessels (0-3) colored by flourosopy  \n",
    "thal: 0 = normal; 1 = fixed defect; 2 = reversable defect  \n",
    "The names and social security numbers of the patients were recently removed from the database, replaced with dummy values.  "
   ]
  },
  {
   "cell_type": "code",
   "execution_count": null,
   "id": "580e5bfa",
   "metadata": {
    "execution": {
     "iopub.execute_input": "2025-02-13T09:37:10.046913Z",
     "iopub.status.busy": "2025-02-13T09:37:10.046557Z",
     "iopub.status.idle": "2025-02-13T09:37:10.073073Z",
     "shell.execute_reply": "2025-02-13T09:37:10.072197Z"
    },
    "executionInfo": {
     "elapsed": 13,
     "status": "ok",
     "timestamp": 1653200233516,
     "user": {
      "displayName": "siddhardh selvam",
      "userId": "13966379820454708749"
     },
     "user_tz": -330
    },
    "id": "0q-3-LkQrREV",
    "papermill": {
     "duration": 0.037735,
     "end_time": "2025-02-13T09:37:10.075451",
     "exception": false,
     "start_time": "2025-02-13T09:37:10.037716",
     "status": "completed"
    },
    "tags": []
   },
   "outputs": [],
   "source": [
    "# loading the csv data to a Pandas DataFrame\n",
    "heart_data = pd.read_csv('/Users/riteshkumar/Downloads/ML projects/Heart Attack Risk Assessment/heart.csv')"
   ]
  },
  {
   "cell_type": "code",
   "execution_count": null,
   "id": "9cd64268",
   "metadata": {
    "execution": {
     "iopub.execute_input": "2025-02-13T09:37:10.092496Z",
     "iopub.status.busy": "2025-02-13T09:37:10.092080Z",
     "iopub.status.idle": "2025-02-13T09:37:10.124010Z",
     "shell.execute_reply": "2025-02-13T09:37:10.122936Z"
    },
    "executionInfo": {
     "elapsed": 12,
     "status": "ok",
     "timestamp": 1653200233516,
     "user": {
      "displayName": "siddhardh selvam",
      "userId": "13966379820454708749"
     },
     "user_tz": -330
    },
    "id": "M8dQxSTqriWD",
    "outputId": "0ab48855-8403-4103-c7c8-e307c07da055",
    "papermill": {
     "duration": 0.042961,
     "end_time": "2025-02-13T09:37:10.126269",
     "exception": false,
     "start_time": "2025-02-13T09:37:10.083308",
     "status": "completed"
    },
    "tags": []
   },
   "outputs": [],
   "source": [
    "# print first 5 rows of the dataset\n",
    "heart_data.head()"
   ]
  },
  {
   "cell_type": "code",
   "execution_count": null,
   "id": "c6c9d029",
   "metadata": {
    "execution": {
     "iopub.execute_input": "2025-02-13T09:37:10.143905Z",
     "iopub.status.busy": "2025-02-13T09:37:10.143558Z",
     "iopub.status.idle": "2025-02-13T09:37:10.156536Z",
     "shell.execute_reply": "2025-02-13T09:37:10.155621Z"
    },
    "executionInfo": {
     "elapsed": 808,
     "status": "ok",
     "timestamp": 1653200234314,
     "user": {
      "displayName": "siddhardh selvam",
      "userId": "13966379820454708749"
     },
     "user_tz": -330
    },
    "id": "Fx_aCZDgrqdR",
    "outputId": "a8dea85c-ba32-493b-c199-354a6e4ce093",
    "papermill": {
     "duration": 0.024265,
     "end_time": "2025-02-13T09:37:10.158634",
     "exception": false,
     "start_time": "2025-02-13T09:37:10.134369",
     "status": "completed"
    },
    "tags": []
   },
   "outputs": [],
   "source": [
    "# print last 5 rows of the dataset\n",
    "heart_data.tail()"
   ]
  },
  {
   "cell_type": "code",
   "execution_count": null,
   "id": "ed390892",
   "metadata": {
    "execution": {
     "iopub.execute_input": "2025-02-13T09:37:10.177205Z",
     "iopub.status.busy": "2025-02-13T09:37:10.176723Z",
     "iopub.status.idle": "2025-02-13T09:37:10.183203Z",
     "shell.execute_reply": "2025-02-13T09:37:10.182180Z"
    },
    "executionInfo": {
     "elapsed": 28,
     "status": "ok",
     "timestamp": 1653200234314,
     "user": {
      "displayName": "siddhardh selvam",
      "userId": "13966379820454708749"
     },
     "user_tz": -330
    },
    "id": "8nX1tIzbrz0u",
    "outputId": "aed82820-3f95-4fc3-bd5a-21dcbd434fb7",
    "papermill": {
     "duration": 0.01815,
     "end_time": "2025-02-13T09:37:10.185313",
     "exception": false,
     "start_time": "2025-02-13T09:37:10.167163",
     "status": "completed"
    },
    "tags": []
   },
   "outputs": [],
   "source": [
    "# number of rows and columns in the dataset\n",
    "heart_data.shape"
   ]
  },
  {
   "cell_type": "code",
   "execution_count": null,
   "id": "880dbd05",
   "metadata": {
    "execution": {
     "iopub.execute_input": "2025-02-13T09:37:10.204248Z",
     "iopub.status.busy": "2025-02-13T09:37:10.203287Z",
     "iopub.status.idle": "2025-02-13T09:37:10.228457Z",
     "shell.execute_reply": "2025-02-13T09:37:10.227251Z"
    },
    "executionInfo": {
     "elapsed": 26,
     "status": "ok",
     "timestamp": 1653200234315,
     "user": {
      "displayName": "siddhardh selvam",
      "userId": "13966379820454708749"
     },
     "user_tz": -330
    },
    "id": "7_xTcw1Sr6aJ",
    "outputId": "3dfcf6cf-f814-4b3b-f8be-57e2ea6ea7b2",
    "papermill": {
     "duration": 0.036782,
     "end_time": "2025-02-13T09:37:10.230618",
     "exception": false,
     "start_time": "2025-02-13T09:37:10.193836",
     "status": "completed"
    },
    "tags": []
   },
   "outputs": [],
   "source": [
    "# getting some info about the data\n",
    "heart_data.info()"
   ]
  },
  {
   "cell_type": "code",
   "execution_count": null,
   "id": "0d08cc27",
   "metadata": {
    "execution": {
     "iopub.execute_input": "2025-02-13T09:37:10.249166Z",
     "iopub.status.busy": "2025-02-13T09:37:10.248798Z",
     "iopub.status.idle": "2025-02-13T09:37:10.257389Z",
     "shell.execute_reply": "2025-02-13T09:37:10.256489Z"
    },
    "executionInfo": {
     "elapsed": 25,
     "status": "ok",
     "timestamp": 1653200234316,
     "user": {
      "displayName": "siddhardh selvam",
      "userId": "13966379820454708749"
     },
     "user_tz": -330
    },
    "id": "GjHtW31rsGlb",
    "outputId": "062af8fa-b836-480d-93dd-b84f335f0839",
    "papermill": {
     "duration": 0.020263,
     "end_time": "2025-02-13T09:37:10.259437",
     "exception": false,
     "start_time": "2025-02-13T09:37:10.239174",
     "status": "completed"
    },
    "tags": []
   },
   "outputs": [],
   "source": [
    "# checking for missing values\n",
    "heart_data.isnull().sum()"
   ]
  },
  {
   "cell_type": "code",
   "execution_count": null,
   "id": "277b180f",
   "metadata": {
    "execution": {
     "iopub.execute_input": "2025-02-13T09:37:10.278226Z",
     "iopub.status.busy": "2025-02-13T09:37:10.277857Z",
     "iopub.status.idle": "2025-02-13T09:37:10.326146Z",
     "shell.execute_reply": "2025-02-13T09:37:10.325083Z"
    },
    "executionInfo": {
     "elapsed": 24,
     "status": "ok",
     "timestamp": 1653200234317,
     "user": {
      "displayName": "siddhardh selvam",
      "userId": "13966379820454708749"
     },
     "user_tz": -330
    },
    "id": "OHmcP7DJsSEP",
    "outputId": "b08b05fa-7f04-45bb-8f9b-c676a77834c3",
    "papermill": {
     "duration": 0.060374,
     "end_time": "2025-02-13T09:37:10.328372",
     "exception": false,
     "start_time": "2025-02-13T09:37:10.267998",
     "status": "completed"
    },
    "tags": []
   },
   "outputs": [],
   "source": [
    "# statistical measures about the data\n",
    "heart_data.describe()"
   ]
  },
  {
   "cell_type": "markdown",
   "id": "05364784",
   "metadata": {
    "papermill": {
     "duration": 0.008595,
     "end_time": "2025-02-13T09:37:10.345800",
     "exception": false,
     "start_time": "2025-02-13T09:37:10.337205",
     "status": "completed"
    },
    "tags": []
   },
   "source": [
    "# Data Scaling"
   ]
  },
  {
   "cell_type": "code",
   "execution_count": null,
   "id": "4ede4826",
   "metadata": {
    "execution": {
     "iopub.execute_input": "2025-02-13T09:37:10.365178Z",
     "iopub.status.busy": "2025-02-13T09:37:10.364819Z",
     "iopub.status.idle": "2025-02-13T09:37:10.372909Z",
     "shell.execute_reply": "2025-02-13T09:37:10.371939Z"
    },
    "executionInfo": {
     "elapsed": 24,
     "status": "ok",
     "timestamp": 1653200234318,
     "user": {
      "displayName": "siddhardh selvam",
      "userId": "13966379820454708749"
     },
     "user_tz": -330
    },
    "id": "4InaOSIUsfWP",
    "outputId": "fb25a289-d5e9-438f-d21d-f09474cacbc6",
    "papermill": {
     "duration": 0.020293,
     "end_time": "2025-02-13T09:37:10.374978",
     "exception": false,
     "start_time": "2025-02-13T09:37:10.354685",
     "status": "completed"
    },
    "tags": []
   },
   "outputs": [],
   "source": [
    "# checking the distribution of Target Variable\n",
    "heart_data['target'].value_counts()"
   ]
  },
  {
   "cell_type": "markdown",
   "id": "366aa7d3",
   "metadata": {
    "id": "aSOBu4qDtJy5",
    "papermill": {
     "duration": 0.008589,
     "end_time": "2025-02-13T09:37:10.392561",
     "exception": false,
     "start_time": "2025-02-13T09:37:10.383972",
     "status": "completed"
    },
    "tags": []
   },
   "source": [
    "1 --> Defective Heart\n",
    "\n",
    "0 --> Healthy Heart"
   ]
  },
  {
   "cell_type": "markdown",
   "id": "3f2df1f9",
   "metadata": {
    "id": "tW8i4igjtPRC",
    "papermill": {
     "duration": 0.008487,
     "end_time": "2025-02-13T09:37:10.409789",
     "exception": false,
     "start_time": "2025-02-13T09:37:10.401302",
     "status": "completed"
    },
    "tags": []
   },
   "source": [
    "Splitting the Features and Target"
   ]
  },
  {
   "cell_type": "code",
   "execution_count": null,
   "id": "00c0a52a",
   "metadata": {
    "execution": {
     "iopub.execute_input": "2025-02-13T09:37:10.429345Z",
     "iopub.status.busy": "2025-02-13T09:37:10.428905Z",
     "iopub.status.idle": "2025-02-13T09:37:10.436599Z",
     "shell.execute_reply": "2025-02-13T09:37:10.435558Z"
    },
    "executionInfo": {
     "elapsed": 22,
     "status": "ok",
     "timestamp": 1653200234318,
     "user": {
      "displayName": "siddhardh selvam",
      "userId": "13966379820454708749"
     },
     "user_tz": -330
    },
    "id": "Q6yfbswrs7m3",
    "papermill": {
     "duration": 0.019641,
     "end_time": "2025-02-13T09:37:10.438521",
     "exception": false,
     "start_time": "2025-02-13T09:37:10.418880",
     "status": "completed"
    },
    "tags": []
   },
   "outputs": [],
   "source": [
    "X = heart_data.drop(columns='target', axis=1)\n",
    "Y = heart_data['target']"
   ]
  },
  {
   "cell_type": "code",
   "execution_count": null,
   "id": "66870fd8",
   "metadata": {
    "execution": {
     "iopub.execute_input": "2025-02-13T09:37:10.457758Z",
     "iopub.status.busy": "2025-02-13T09:37:10.457367Z",
     "iopub.status.idle": "2025-02-13T09:37:10.461745Z",
     "shell.execute_reply": "2025-02-13T09:37:10.460580Z"
    },
    "papermill": {
     "duration": 0.01638,
     "end_time": "2025-02-13T09:37:10.463805",
     "exception": false,
     "start_time": "2025-02-13T09:37:10.447425",
     "status": "completed"
    },
    "tags": []
   },
   "outputs": [],
   "source": [
    "# scaler = MinMaxScaler()\n",
    "# X = pd.DataFrame(scaler.fit_transform(X) , columns = X.columns)\n",
    "# X"
   ]
  },
  {
   "cell_type": "code",
   "execution_count": null,
   "id": "9f6de58d",
   "metadata": {
    "execution": {
     "iopub.execute_input": "2025-02-13T09:37:10.482907Z",
     "iopub.status.busy": "2025-02-13T09:37:10.482545Z",
     "iopub.status.idle": "2025-02-13T09:37:10.490419Z",
     "shell.execute_reply": "2025-02-13T09:37:10.489465Z"
    },
    "executionInfo": {
     "elapsed": 21,
     "status": "ok",
     "timestamp": 1653200234319,
     "user": {
      "displayName": "siddhardh selvam",
      "userId": "13966379820454708749"
     },
     "user_tz": -330
    },
    "id": "nukuj-YItq1w",
    "outputId": "ee5e6451-0b29-4a02-aebf-24367d73874b",
    "papermill": {
     "duration": 0.019825,
     "end_time": "2025-02-13T09:37:10.492514",
     "exception": false,
     "start_time": "2025-02-13T09:37:10.472689",
     "status": "completed"
    },
    "tags": []
   },
   "outputs": [],
   "source": [
    "Y"
   ]
  },
  {
   "cell_type": "code",
   "execution_count": null,
   "id": "3aa2a16d",
   "metadata": {
    "execution": {
     "iopub.execute_input": "2025-02-13T09:37:10.512446Z",
     "iopub.status.busy": "2025-02-13T09:37:10.511675Z",
     "iopub.status.idle": "2025-02-13T09:37:10.520858Z",
     "shell.execute_reply": "2025-02-13T09:37:10.519954Z"
    },
    "executionInfo": {
     "elapsed": 20,
     "status": "ok",
     "timestamp": 1653200234319,
     "user": {
      "displayName": "siddhardh selvam",
      "userId": "13966379820454708749"
     },
     "user_tz": -330
    },
    "id": "a-UUfRUxtuga",
    "papermill": {
     "duration": 0.021409,
     "end_time": "2025-02-13T09:37:10.522973",
     "exception": false,
     "start_time": "2025-02-13T09:37:10.501564",
     "status": "completed"
    },
    "tags": []
   },
   "outputs": [],
   "source": [
    "#Splitting Data into Training data & Testing Data\n",
    "\n",
    "X_train, X_test, Y_train, Y_test = train_test_split(X, Y, test_size=0.2, stratify=Y, random_state=2)"
   ]
  },
  {
   "cell_type": "code",
   "execution_count": null,
   "id": "fafac23a",
   "metadata": {
    "execution": {
     "iopub.execute_input": "2025-02-13T09:37:10.542361Z",
     "iopub.status.busy": "2025-02-13T09:37:10.542001Z",
     "iopub.status.idle": "2025-02-13T09:37:10.546960Z",
     "shell.execute_reply": "2025-02-13T09:37:10.545970Z"
    },
    "executionInfo": {
     "elapsed": 21,
     "status": "ok",
     "timestamp": 1653200234320,
     "user": {
      "displayName": "siddhardh selvam",
      "userId": "13966379820454708749"
     },
     "user_tz": -330
    },
    "id": "x7PrjC6zuf6X",
    "outputId": "d78b7e79-4659-4101-c9d6-61df1d0d5981",
    "papermill": {
     "duration": 0.017458,
     "end_time": "2025-02-13T09:37:10.549282",
     "exception": false,
     "start_time": "2025-02-13T09:37:10.531824",
     "status": "completed"
    },
    "tags": []
   },
   "outputs": [],
   "source": [
    "print(X.shape, X_train.shape, X_test.shape)"
   ]
  },
  {
   "cell_type": "markdown",
   "id": "15f481d4",
   "metadata": {
    "id": "beSkZmpVuvn9",
    "papermill": {
     "duration": 0.009225,
     "end_time": "2025-02-13T09:37:10.567612",
     "exception": false,
     "start_time": "2025-02-13T09:37:10.558387",
     "status": "completed"
    },
    "tags": []
   },
   "source": [
    "# Model Training & Evaluation"
   ]
  },
  {
   "cell_type": "markdown",
   "id": "4bd5d178",
   "metadata": {
    "id": "gi2NOWZjuxzw",
    "papermill": {
     "duration": 0.008607,
     "end_time": "2025-02-13T09:37:10.585179",
     "exception": false,
     "start_time": "2025-02-13T09:37:10.576572",
     "status": "completed"
    },
    "tags": []
   },
   "source": [
    "### Logistic Regression"
   ]
  },
  {
   "cell_type": "code",
   "execution_count": null,
   "id": "ca599724",
   "metadata": {
    "execution": {
     "iopub.execute_input": "2025-02-13T09:37:10.604880Z",
     "iopub.status.busy": "2025-02-13T09:37:10.604080Z",
     "iopub.status.idle": "2025-02-13T09:37:10.664604Z",
     "shell.execute_reply": "2025-02-13T09:37:10.663488Z"
    },
    "executionInfo": {
     "elapsed": 20,
     "status": "ok",
     "timestamp": 1653200234320,
     "user": {
      "displayName": "siddhardh selvam",
      "userId": "13966379820454708749"
     },
     "user_tz": -330
    },
    "id": "4-Md74FYuqNL",
    "papermill": {
     "duration": 0.07409,
     "end_time": "2025-02-13T09:37:10.668154",
     "exception": false,
     "start_time": "2025-02-13T09:37:10.594064",
     "status": "completed"
    },
    "tags": []
   },
   "outputs": [],
   "source": [
    "logistic_reg = LogisticRegression(random_state = 0)\n",
    "logistic_reg.fit(X_train, Y_train) # Training"
   ]
  },
  {
   "cell_type": "code",
   "execution_count": null,
   "id": "971257e5",
   "metadata": {
    "execution": {
     "iopub.execute_input": "2025-02-13T09:37:10.706004Z",
     "iopub.status.busy": "2025-02-13T09:37:10.704995Z",
     "iopub.status.idle": "2025-02-13T09:37:10.721468Z",
     "shell.execute_reply": "2025-02-13T09:37:10.718584Z"
    },
    "executionInfo": {
     "elapsed": 18,
     "status": "ok",
     "timestamp": 1653200234321,
     "user": {
      "displayName": "siddhardh selvam",
      "userId": "13966379820454708749"
     },
     "user_tz": -330
    },
    "id": "g19JaUTMvPKy",
    "papermill": {
     "duration": 0.038781,
     "end_time": "2025-02-13T09:37:10.724562",
     "exception": false,
     "start_time": "2025-02-13T09:37:10.685781",
     "status": "completed"
    },
    "tags": []
   },
   "outputs": [],
   "source": [
    "# accuracy on training data\n",
    "X_train_prediction1 = logistic_reg.predict(X_train)\n",
    "training_data_accuracy = accuracy_score(X_train_prediction1, Y_train)\n",
    "\n",
    "print('Accuracy on Training data : ', training_data_accuracy)"
   ]
  },
  {
   "cell_type": "code",
   "execution_count": null,
   "id": "4936de08",
   "metadata": {
    "execution": {
     "iopub.execute_input": "2025-02-13T09:37:10.764137Z",
     "iopub.status.busy": "2025-02-13T09:37:10.761603Z",
     "iopub.status.idle": "2025-02-13T09:37:10.777461Z",
     "shell.execute_reply": "2025-02-13T09:37:10.776381Z"
    },
    "executionInfo": {
     "elapsed": 12,
     "status": "ok",
     "timestamp": 1653200234908,
     "user": {
      "displayName": "siddhardh selvam",
      "userId": "13966379820454708749"
     },
     "user_tz": -330
    },
    "id": "mDONDJdlwBIO",
    "papermill": {
     "duration": 0.038438,
     "end_time": "2025-02-13T09:37:10.780616",
     "exception": false,
     "start_time": "2025-02-13T09:37:10.742178",
     "status": "completed"
    },
    "tags": []
   },
   "outputs": [],
   "source": [
    "# accuracy on test data\n",
    "X_test_prediction1 = logistic_reg.predict(X_test)\n",
    "test_data_accuracy = accuracy_score(X_test_prediction1, Y_test)\n",
    "print('Accuracy on Test data : ', test_data_accuracy)"
   ]
  },
  {
   "cell_type": "code",
   "execution_count": null,
   "id": "35b7ca10",
   "metadata": {
    "execution": {
     "iopub.execute_input": "2025-02-13T09:37:10.817696Z",
     "iopub.status.busy": "2025-02-13T09:37:10.817192Z",
     "iopub.status.idle": "2025-02-13T09:37:10.835922Z",
     "shell.execute_reply": "2025-02-13T09:37:10.834831Z"
    },
    "papermill": {
     "duration": 0.040718,
     "end_time": "2025-02-13T09:37:10.838769",
     "exception": false,
     "start_time": "2025-02-13T09:37:10.798051",
     "status": "completed"
    },
    "tags": []
   },
   "outputs": [],
   "source": [
    "# Confusion Matrix\n",
    "print(classification_report(Y_test , X_test_prediction1))"
   ]
  },
  {
   "cell_type": "markdown",
   "id": "165b340c",
   "metadata": {
    "papermill": {
     "duration": 0.009082,
     "end_time": "2025-02-13T09:37:10.857218",
     "exception": false,
     "start_time": "2025-02-13T09:37:10.848136",
     "status": "completed"
    },
    "tags": []
   },
   "source": [
    "### Decision Tree Classifier"
   ]
  },
  {
   "cell_type": "code",
   "execution_count": null,
   "id": "5d7fe9f8",
   "metadata": {
    "execution": {
     "iopub.execute_input": "2025-02-13T09:37:10.877855Z",
     "iopub.status.busy": "2025-02-13T09:37:10.877345Z",
     "iopub.status.idle": "2025-02-13T09:37:10.892181Z",
     "shell.execute_reply": "2025-02-13T09:37:10.890898Z"
    },
    "papermill": {
     "duration": 0.028109,
     "end_time": "2025-02-13T09:37:10.894718",
     "exception": false,
     "start_time": "2025-02-13T09:37:10.866609",
     "status": "completed"
    },
    "tags": []
   },
   "outputs": [],
   "source": [
    "dec_tree_clf = DecisionTreeClassifier(random_state=0, max_depth = 5 , min_samples_leaf = 1 , min_samples_split = 5) \n",
    "dec_tree_clf.fit(X_train, Y_train)  # fits the data"
   ]
  },
  {
   "cell_type": "code",
   "execution_count": null,
   "id": "b970890e",
   "metadata": {
    "execution": {
     "iopub.execute_input": "2025-02-13T09:37:10.916282Z",
     "iopub.status.busy": "2025-02-13T09:37:10.915336Z",
     "iopub.status.idle": "2025-02-13T09:37:10.923892Z",
     "shell.execute_reply": "2025-02-13T09:37:10.922863Z"
    },
    "papermill": {
     "duration": 0.021278,
     "end_time": "2025-02-13T09:37:10.925898",
     "exception": false,
     "start_time": "2025-02-13T09:37:10.904620",
     "status": "completed"
    },
    "tags": []
   },
   "outputs": [],
   "source": [
    "# accuracy on training data\n",
    "X_train_prediction2 = dec_tree_clf.predict(X_train)\n",
    "training_data_accuracy = accuracy_score(X_train_prediction2, Y_train)\n",
    "print('Accuracy on Training data : ', training_data_accuracy)"
   ]
  },
  {
   "cell_type": "code",
   "execution_count": null,
   "id": "f4ede5bc",
   "metadata": {
    "execution": {
     "iopub.execute_input": "2025-02-13T09:37:10.946921Z",
     "iopub.status.busy": "2025-02-13T09:37:10.946559Z",
     "iopub.status.idle": "2025-02-13T09:37:10.955490Z",
     "shell.execute_reply": "2025-02-13T09:37:10.954353Z"
    },
    "papermill": {
     "duration": 0.021863,
     "end_time": "2025-02-13T09:37:10.957540",
     "exception": false,
     "start_time": "2025-02-13T09:37:10.935677",
     "status": "completed"
    },
    "tags": []
   },
   "outputs": [],
   "source": [
    "# accuracy on test data\n",
    "X_test_prediction2 = dec_tree_clf.predict(X_test)\n",
    "test_data_accuracy = accuracy_score(X_test_prediction2, Y_test)\n",
    "print('Accuracy on Test data : ', test_data_accuracy)"
   ]
  },
  {
   "cell_type": "code",
   "execution_count": null,
   "id": "697f075f",
   "metadata": {
    "execution": {
     "iopub.execute_input": "2025-02-13T09:37:10.979371Z",
     "iopub.status.busy": "2025-02-13T09:37:10.978347Z",
     "iopub.status.idle": "2025-02-13T09:37:10.990703Z",
     "shell.execute_reply": "2025-02-13T09:37:10.989485Z"
    },
    "papermill": {
     "duration": 0.025518,
     "end_time": "2025-02-13T09:37:10.992819",
     "exception": false,
     "start_time": "2025-02-13T09:37:10.967301",
     "status": "completed"
    },
    "tags": []
   },
   "outputs": [],
   "source": [
    "# Confusion Matrix\n",
    "print(classification_report(Y_test , X_test_prediction2))"
   ]
  },
  {
   "cell_type": "markdown",
   "id": "19837a3a",
   "metadata": {
    "papermill": {
     "duration": 0.009571,
     "end_time": "2025-02-13T09:37:11.012232",
     "exception": false,
     "start_time": "2025-02-13T09:37:11.002661",
     "status": "completed"
    },
    "tags": []
   },
   "source": [
    "### Random Forest Classifier (BEST ACCURACY)"
   ]
  },
  {
   "cell_type": "code",
   "execution_count": null,
   "id": "35c4fa36",
   "metadata": {
    "execution": {
     "iopub.execute_input": "2025-02-13T09:37:11.033295Z",
     "iopub.status.busy": "2025-02-13T09:37:11.032921Z",
     "iopub.status.idle": "2025-02-13T09:37:11.227381Z",
     "shell.execute_reply": "2025-02-13T09:37:11.226296Z"
    },
    "papermill": {
     "duration": 0.207672,
     "end_time": "2025-02-13T09:37:11.229632",
     "exception": false,
     "start_time": "2025-02-13T09:37:11.021960",
     "status": "completed"
    },
    "tags": []
   },
   "outputs": [],
   "source": [
    "random_forest_clf = RandomForestClassifier(max_depth = 6, random_state=0)  # creating object or instance\n",
    "random_forest_clf.fit(X_train, Y_train)  # fits the data"
   ]
  },
  {
   "cell_type": "code",
   "execution_count": null,
   "id": "76eed436",
   "metadata": {
    "execution": {
     "iopub.execute_input": "2025-02-13T09:37:11.253579Z",
     "iopub.status.busy": "2025-02-13T09:37:11.252564Z",
     "iopub.status.idle": "2025-02-13T09:37:11.281051Z",
     "shell.execute_reply": "2025-02-13T09:37:11.279996Z"
    },
    "papermill": {
     "duration": 0.041788,
     "end_time": "2025-02-13T09:37:11.283126",
     "exception": false,
     "start_time": "2025-02-13T09:37:11.241338",
     "status": "completed"
    },
    "tags": []
   },
   "outputs": [],
   "source": [
    "# accuracy on training data\n",
    "X_train_prediction3 = random_forest_clf.predict(X_train)\n",
    "training_data_accuracy = accuracy_score(X_train_prediction3, Y_train)\n",
    "print('Accuracy on Training data : ', training_data_accuracy)"
   ]
  },
  {
   "cell_type": "code",
   "execution_count": null,
   "id": "efce7ac1",
   "metadata": {
    "execution": {
     "iopub.execute_input": "2025-02-13T09:37:11.304969Z",
     "iopub.status.busy": "2025-02-13T09:37:11.304625Z",
     "iopub.status.idle": "2025-02-13T09:37:11.325984Z",
     "shell.execute_reply": "2025-02-13T09:37:11.324836Z"
    },
    "papermill": {
     "duration": 0.034682,
     "end_time": "2025-02-13T09:37:11.328002",
     "exception": false,
     "start_time": "2025-02-13T09:37:11.293320",
     "status": "completed"
    },
    "tags": []
   },
   "outputs": [],
   "source": [
    "# accuracy on test data\n",
    "X_test_prediction3 = random_forest_clf.predict(X_test)\n",
    "test_data_accuracy = accuracy_score(X_test_prediction3, Y_test)\n",
    "print('Accuracy on Test data : ', test_data_accuracy)"
   ]
  },
  {
   "cell_type": "code",
   "execution_count": null,
   "id": "c8404b80",
   "metadata": {
    "execution": {
     "iopub.execute_input": "2025-02-13T09:37:11.350028Z",
     "iopub.status.busy": "2025-02-13T09:37:11.349162Z",
     "iopub.status.idle": "2025-02-13T09:37:11.360771Z",
     "shell.execute_reply": "2025-02-13T09:37:11.359823Z"
    },
    "papermill": {
     "duration": 0.024821,
     "end_time": "2025-02-13T09:37:11.362907",
     "exception": false,
     "start_time": "2025-02-13T09:37:11.338086",
     "status": "completed"
    },
    "tags": []
   },
   "outputs": [],
   "source": [
    "# Confusion Matrix\n",
    "print(classification_report(Y_test , X_test_prediction3))"
   ]
  },
  {
   "cell_type": "markdown",
   "id": "2256feec",
   "metadata": {
    "papermill": {
     "duration": 0.009829,
     "end_time": "2025-02-13T09:37:11.382742",
     "exception": false,
     "start_time": "2025-02-13T09:37:11.372913",
     "status": "completed"
    },
    "tags": []
   },
   "source": [
    "### Grid - Search CV -  Hyperparameter Tuning"
   ]
  },
  {
   "cell_type": "code",
   "execution_count": null,
   "id": "5645a34c",
   "metadata": {
    "execution": {
     "iopub.execute_input": "2025-02-13T09:37:11.404843Z",
     "iopub.status.busy": "2025-02-13T09:37:11.404200Z",
     "iopub.status.idle": "2025-02-13T09:38:26.551378Z",
     "shell.execute_reply": "2025-02-13T09:38:26.550205Z"
    },
    "papermill": {
     "duration": 75.169345,
     "end_time": "2025-02-13T09:38:26.562225",
     "exception": false,
     "start_time": "2025-02-13T09:37:11.392880",
     "status": "completed"
    },
    "tags": []
   },
   "outputs": [],
   "source": [
    "param_grid = { \n",
    "    'n_estimators': [200, 500],\n",
    "    'max_features': ['auto', 'sqrt', 'log2'],\n",
    "    'max_depth' : [3,4,5,6],\n",
    "}\n",
    "CV_rfc = GridSearchCV(estimator=random_forest_clf, param_grid = param_grid)\n",
    "CV_rfc.fit(X_train, Y_train)\n",
    "CV_rfc.best_params_"
   ]
  },
  {
   "cell_type": "code",
   "execution_count": null,
   "id": "7ff0f032",
   "metadata": {
    "execution": {
     "iopub.execute_input": "2025-02-13T09:38:26.584347Z",
     "iopub.status.busy": "2025-02-13T09:38:26.583695Z",
     "iopub.status.idle": "2025-02-13T09:38:26.975166Z",
     "shell.execute_reply": "2025-02-13T09:38:26.973976Z"
    },
    "papermill": {
     "duration": 0.404971,
     "end_time": "2025-02-13T09:38:26.977457",
     "exception": false,
     "start_time": "2025-02-13T09:38:26.572486",
     "status": "completed"
    },
    "tags": []
   },
   "outputs": [],
   "source": [
    "random_forest_clf = RandomForestClassifier(max_depth = 6, random_state=0, max_features='sqrt', n_estimators=200)\n",
    "random_forest_clf.fit(X_train, Y_train)\n",
    "X_test_prediction3 = random_forest_clf.predict(X_test)\n",
    "test_data_accuracy = accuracy_score(X_test_prediction3, Y_test)\n",
    "print('Accuracy on Test data : ', test_data_accuracy)"
   ]
  },
  {
   "cell_type": "code",
   "execution_count": null,
   "id": "1ff295e8",
   "metadata": {
    "papermill": {
     "duration": 0.010029,
     "end_time": "2025-02-13T09:38:26.997765",
     "exception": false,
     "start_time": "2025-02-13T09:38:26.987736",
     "status": "completed"
    },
    "tags": []
   },
   "outputs": [],
   "source": []
  }
 ],
 "metadata": {
  "kernelspec": {
   "display_name": "base",
   "language": "python",
   "name": "python3"
  },
  "language_info": {
   "codemirror_mode": {
    "name": "ipython",
    "version": 3
   },
   "file_extension": ".py",
   "mimetype": "text/x-python",
   "name": "python",
   "nbconvert_exporter": "python",
   "pygments_lexer": "ipython3",
   "version": "3.12.2"
  },
  "papermill": {
   "default_parameters": {},
   "duration": 90.73574,
   "end_time": "2025-02-13T09:38:27.930728",
   "environment_variables": {},
   "exception": null,
   "input_path": "__notebook__.ipynb",
   "output_path": "__notebook__.ipynb",
   "parameters": {},
   "start_time": "2025-02-13T09:36:57.194988",
   "version": "2.4.0"
  }
 },
 "nbformat": 4,
 "nbformat_minor": 5
}
