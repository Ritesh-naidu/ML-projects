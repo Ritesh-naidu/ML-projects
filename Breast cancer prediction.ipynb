{
 "cells": [
  {
   "cell_type": "markdown",
   "id": "voluntary-layout",
   "metadata": {
    "papermill": {
     "duration": 0.052718,
     "end_time": "2021-10-13T08:37:34.604876",
     "exception": false,
     "start_time": "2021-10-13T08:37:34.552158",
     "status": "completed"
    },
    "tags": []
   },
   "source": [
    "# Breast Cancer Data Analysis and Predictions"
   ]
  },
  {
   "cell_type": "markdown",
   "id": "headed-apartment",
   "metadata": {
    "papermill": {
     "duration": 0.033822,
     "end_time": "2021-10-13T08:37:34.748051",
     "exception": false,
     "start_time": "2021-10-13T08:37:34.714229",
     "status": "completed"
    },
    "tags": []
   },
   "source": [
    "###  Breast Cancer"
   ]
  },
  {
   "cell_type": "markdown",
   "id": "primary-council",
   "metadata": {
    "papermill": {
     "duration": 0.032162,
     "end_time": "2021-10-13T08:37:34.815368",
     "exception": false,
     "start_time": "2021-10-13T08:37:34.783206",
     "status": "completed"
    },
    "tags": []
   },
   "source": [
    "Breast cancer is cancer that forms in the cells of the breasts.<p>It arises in the lining cells (epithelium) of the ducts (85%) or lobules (15%) in the glandular tissue of the breast. Initially, the cancerous growth is confined to the duct or lobule (“in situ”) where it generally causes no symptoms and has minimal potential for spread (metastasis).<br>\n",
    "    \n",
    "Most types of breast cancer are easy to diagnose by microscopic analysis of a sample - or biopsy - of the affected area of the breast. Also, there are types of breast cancer that require specialized lab exams."
   ]
  },
  {
   "cell_type": "markdown",
   "id": "00a5f866",
   "metadata": {},
   "source": [
    "# Website for data\n",
    "https://www.kaggle.com/datasets/uciml/breast-cancer-wisconsin-data"
   ]
  },
  {
   "cell_type": "markdown",
   "id": "sorted-mechanics",
   "metadata": {
    "papermill": {
     "duration": 0.037548,
     "end_time": "2021-10-13T08:37:34.886725",
     "exception": false,
     "start_time": "2021-10-13T08:37:34.849177",
     "status": "completed"
    },
    "tags": []
   },
   "source": [
    "# 1. Exploratory Data Analysis"
   ]
  },
  {
   "cell_type": "markdown",
   "id": "regulated-torture",
   "metadata": {
    "papermill": {
     "duration": 0.036397,
     "end_time": "2021-10-13T08:37:34.973110",
     "exception": false,
     "start_time": "2021-10-13T08:37:34.936713",
     "status": "completed"
    },
    "tags": []
   },
   "source": [
    "## 1.1 Understanding the data"
   ]
  },
  {
   "cell_type": "code",
   "execution_count": null,
   "id": "265f0a9f",
   "metadata": {},
   "outputs": [],
   "source": [
    "pip install pandas"
   ]
  },
  {
   "cell_type": "code",
   "execution_count": null,
   "id": "internal-fitting",
   "metadata": {
    "execution": {
     "iopub.execute_input": "2021-10-13T08:37:35.051640Z",
     "iopub.status.busy": "2021-10-13T08:37:35.050375Z",
     "iopub.status.idle": "2021-10-13T08:37:35.857990Z",
     "shell.execute_reply": "2021-10-13T08:37:35.856776Z",
     "shell.execute_reply.started": "2021-07-16T09:31:37.185644Z"
    },
    "papermill": {
     "duration": 0.850858,
     "end_time": "2021-10-13T08:37:35.858191",
     "exception": false,
     "start_time": "2021-10-13T08:37:35.007333",
     "status": "completed"
    },
    "tags": []
   },
   "outputs": [],
   "source": [
    "# importing libraries\n",
    "import numpy as np\n",
    "import pandas as pd \n",
    "import matplotlib.pyplot as plt \n",
    "import seaborn as sns\n",
    "%matplotlib inline"
   ]
  },
  {
   "cell_type": "code",
   "execution_count": null,
   "id": "rubber-transportation",
   "metadata": {
    "execution": {
     "iopub.execute_input": "2021-10-13T08:37:35.931462Z",
     "iopub.status.busy": "2021-10-13T08:37:35.930660Z",
     "iopub.status.idle": "2021-10-13T08:37:35.959919Z",
     "shell.execute_reply": "2021-10-13T08:37:35.959187Z",
     "shell.execute_reply.started": "2021-07-16T09:31:38.1754Z"
    },
    "papermill": {
     "duration": 0.067675,
     "end_time": "2021-10-13T08:37:35.960113",
     "exception": false,
     "start_time": "2021-10-13T08:37:35.892438",
     "status": "completed"
    },
    "tags": []
   },
   "outputs": [],
   "source": [
    "# reading data into the dataframe\n",
    "df = pd.read_csv('/Users/riteshkumar/Downloads/ML/Breast cancer prediction/data.csv')"
   ]
  },
  {
   "cell_type": "code",
   "execution_count": null,
   "id": "right-malawi",
   "metadata": {
    "execution": {
     "iopub.execute_input": "2021-10-13T08:37:36.029860Z",
     "iopub.status.busy": "2021-10-13T08:37:36.028815Z",
     "iopub.status.idle": "2021-10-13T08:37:36.073326Z",
     "shell.execute_reply": "2021-10-13T08:37:36.073813Z",
     "shell.execute_reply.started": "2021-07-16T09:31:38.205305Z"
    },
    "papermill": {
     "duration": 0.080973,
     "end_time": "2021-10-13T08:37:36.074020",
     "exception": false,
     "start_time": "2021-10-13T08:37:35.993047",
     "status": "completed"
    },
    "scrolled": true,
    "tags": []
   },
   "outputs": [],
   "source": [
    "# displaying first five rows\n",
    "df.head()"
   ]
  },
  {
   "cell_type": "code",
   "execution_count": null,
   "id": "quick-memorial",
   "metadata": {
    "execution": {
     "iopub.execute_input": "2021-10-13T08:37:36.145187Z",
     "iopub.status.busy": "2021-10-13T08:37:36.144159Z",
     "iopub.status.idle": "2021-10-13T08:37:36.151211Z",
     "shell.execute_reply": "2021-10-13T08:37:36.150615Z",
     "shell.execute_reply.started": "2021-07-16T09:31:38.258819Z"
    },
    "papermill": {
     "duration": 0.043876,
     "end_time": "2021-10-13T08:37:36.151389",
     "exception": false,
     "start_time": "2021-10-13T08:37:36.107513",
     "status": "completed"
    },
    "tags": []
   },
   "outputs": [],
   "source": [
    "# shape of the dataframe\n",
    "df.shape"
   ]
  },
  {
   "cell_type": "code",
   "execution_count": null,
   "id": "second-barcelona",
   "metadata": {
    "execution": {
     "iopub.execute_input": "2021-10-13T08:37:36.243826Z",
     "iopub.status.busy": "2021-10-13T08:37:36.226439Z",
     "iopub.status.idle": "2021-10-13T08:37:36.249019Z",
     "shell.execute_reply": "2021-10-13T08:37:36.249467Z",
     "shell.execute_reply.started": "2021-07-16T09:31:38.266975Z"
    },
    "papermill": {
     "duration": 0.064177,
     "end_time": "2021-10-13T08:37:36.249676",
     "exception": false,
     "start_time": "2021-10-13T08:37:36.185499",
     "status": "completed"
    },
    "tags": []
   },
   "outputs": [],
   "source": [
    "# concise summary of dataframe\n",
    "df.info()"
   ]
  },
  {
   "cell_type": "code",
   "execution_count": null,
   "id": "sublime-action",
   "metadata": {
    "execution": {
     "iopub.execute_input": "2021-10-13T08:37:36.322363Z",
     "iopub.status.busy": "2021-10-13T08:37:36.321330Z",
     "iopub.status.idle": "2021-10-13T08:37:36.327615Z",
     "shell.execute_reply": "2021-10-13T08:37:36.328191Z",
     "shell.execute_reply.started": "2021-07-16T09:31:38.30019Z"
    },
    "papermill": {
     "duration": 0.044491,
     "end_time": "2021-10-13T08:37:36.328391",
     "exception": false,
     "start_time": "2021-10-13T08:37:36.283900",
     "status": "completed"
    },
    "tags": []
   },
   "outputs": [],
   "source": [
    "# column names\n",
    "df.columns"
   ]
  },
  {
   "cell_type": "code",
   "execution_count": null,
   "id": "mineral-marble",
   "metadata": {
    "execution": {
     "iopub.execute_input": "2021-10-13T08:37:36.410871Z",
     "iopub.status.busy": "2021-10-13T08:37:36.410167Z",
     "iopub.status.idle": "2021-10-13T08:37:36.419488Z",
     "shell.execute_reply": "2021-10-13T08:37:36.419958Z",
     "shell.execute_reply.started": "2021-07-16T09:31:38.306937Z"
    },
    "papermill": {
     "duration": 0.048343,
     "end_time": "2021-10-13T08:37:36.420212",
     "exception": false,
     "start_time": "2021-10-13T08:37:36.371869",
     "status": "completed"
    },
    "tags": []
   },
   "outputs": [],
   "source": [
    "# checking for null values\n",
    "df.isnull().sum()"
   ]
  },
  {
   "cell_type": "markdown",
   "id": "proud-district",
   "metadata": {
    "papermill": {
     "duration": 0.034815,
     "end_time": "2021-10-13T08:37:36.490382",
     "exception": false,
     "start_time": "2021-10-13T08:37:36.455567",
     "status": "completed"
    },
    "tags": []
   },
   "source": [
    "The whole column 'Unamed: 32' has NaN values."
   ]
  },
  {
   "cell_type": "code",
   "execution_count": null,
   "id": "adaptive-notification",
   "metadata": {
    "execution": {
     "iopub.execute_input": "2021-10-13T08:37:36.587954Z",
     "iopub.status.busy": "2021-10-13T08:37:36.586866Z",
     "iopub.status.idle": "2021-10-13T08:37:36.592484Z",
     "shell.execute_reply": "2021-10-13T08:37:36.591475Z",
     "shell.execute_reply.started": "2021-07-16T09:31:38.328215Z"
    },
    "papermill": {
     "duration": 0.058988,
     "end_time": "2021-10-13T08:37:36.592725",
     "exception": false,
     "start_time": "2021-10-13T08:37:36.533737",
     "status": "completed"
    },
    "tags": []
   },
   "outputs": [],
   "source": [
    "# dropping 'Unnamed: 32' column.\n",
    "df.drop(\"Unnamed: 32\", axis=1, inplace=True)"
   ]
  },
  {
   "cell_type": "code",
   "execution_count": null,
   "id": "nominated-witch",
   "metadata": {
    "execution": {
     "iopub.execute_input": "2021-10-13T08:37:36.686379Z",
     "iopub.status.busy": "2021-10-13T08:37:36.685601Z",
     "iopub.status.idle": "2021-10-13T08:37:36.691550Z",
     "shell.execute_reply": "2021-10-13T08:37:36.692085Z",
     "shell.execute_reply.started": "2021-07-16T09:31:38.3386Z"
    },
    "papermill": {
     "duration": 0.044834,
     "end_time": "2021-10-13T08:37:36.692298",
     "exception": false,
     "start_time": "2021-10-13T08:37:36.647464",
     "status": "completed"
    },
    "tags": []
   },
   "outputs": [],
   "source": [
    "# dropping id column\n",
    "df.drop('id',axis=1, inplace=True)"
   ]
  },
  {
   "cell_type": "code",
   "execution_count": null,
   "id": "veterinary-respondent",
   "metadata": {
    "execution": {
     "iopub.execute_input": "2021-10-13T08:37:36.768382Z",
     "iopub.status.busy": "2021-10-13T08:37:36.767659Z",
     "iopub.status.idle": "2021-10-13T08:37:36.854420Z",
     "shell.execute_reply": "2021-10-13T08:37:36.853877Z",
     "shell.execute_reply.started": "2021-07-16T09:31:38.355054Z"
    },
    "papermill": {
     "duration": 0.129109,
     "end_time": "2021-10-13T08:37:36.854585",
     "exception": false,
     "start_time": "2021-10-13T08:37:36.725476",
     "status": "completed"
    },
    "tags": []
   },
   "outputs": [],
   "source": [
    "# descriptive statistics of data\n",
    "df.describe()"
   ]
  },
  {
   "cell_type": "markdown",
   "id": "figured-closer",
   "metadata": {
    "papermill": {
     "duration": 0.033101,
     "end_time": "2021-10-13T08:37:36.926721",
     "exception": false,
     "start_time": "2021-10-13T08:37:36.893620",
     "status": "completed"
    },
    "tags": []
   },
   "source": [
    "## 1.2. Data Visualizations"
   ]
  },
  {
   "cell_type": "code",
   "execution_count": null,
   "id": "differential-training",
   "metadata": {
    "execution": {
     "iopub.execute_input": "2021-10-13T08:37:37.007678Z",
     "iopub.status.busy": "2021-10-13T08:37:37.006973Z",
     "iopub.status.idle": "2021-10-13T08:37:37.160586Z",
     "shell.execute_reply": "2021-10-13T08:37:37.159929Z",
     "shell.execute_reply.started": "2021-07-16T09:31:38.465462Z"
    },
    "papermill": {
     "duration": 0.200406,
     "end_time": "2021-10-13T08:37:37.160745",
     "exception": false,
     "start_time": "2021-10-13T08:37:36.960339",
     "status": "completed"
    },
    "tags": []
   },
   "outputs": [],
   "source": [
    "# countplot\n",
    "plt.figure(figsize = (8,7))\n",
    "sns.countplot(x=\"diagnosis\", data=df, palette='magma')"
   ]
  },
  {
   "cell_type": "code",
   "execution_count": null,
   "id": "clinical-battery",
   "metadata": {
    "execution": {
     "iopub.execute_input": "2021-10-13T08:37:37.236474Z",
     "iopub.status.busy": "2021-10-13T08:37:37.235695Z",
     "iopub.status.idle": "2021-10-13T08:37:41.310872Z",
     "shell.execute_reply": "2021-10-13T08:37:41.311486Z",
     "shell.execute_reply.started": "2021-07-16T09:31:38.644107Z"
    },
    "papermill": {
     "duration": 4.116809,
     "end_time": "2021-10-13T08:37:41.311699",
     "exception": false,
     "start_time": "2021-10-13T08:37:37.194890",
     "status": "completed"
    },
    "tags": []
   },
   "outputs": [],
   "source": [
    "# Only select numeric columns\n",
    "plt.figure(figsize=(20,18))\n",
    "sns.heatmap(df.select_dtypes(include=['float64', 'int64']).corr(), annot=True, linewidths=.5, cmap=\"Purples\")\n"
   ]
  },
  {
   "cell_type": "markdown",
   "id": "designed-cigarette",
   "metadata": {
    "papermill": {
     "duration": 0.050414,
     "end_time": "2021-10-13T08:37:41.413283",
     "exception": false,
     "start_time": "2021-10-13T08:37:41.362869",
     "status": "completed"
    },
    "tags": []
   },
   "source": [
    "From the heatmap, we can observe from the heatmaps that there are many negative correlations in this dataset."
   ]
  },
  {
   "cell_type": "code",
   "execution_count": null,
   "id": "experienced-implementation",
   "metadata": {
    "execution": {
     "iopub.execute_input": "2021-10-13T08:37:41.521639Z",
     "iopub.status.busy": "2021-10-13T08:37:41.520716Z",
     "iopub.status.idle": "2021-10-13T08:37:41.524999Z",
     "shell.execute_reply": "2021-10-13T08:37:41.524445Z",
     "shell.execute_reply.started": "2021-07-16T09:31:42.923364Z"
    },
    "papermill": {
     "duration": 0.060978,
     "end_time": "2021-10-13T08:37:41.525163",
     "exception": false,
     "start_time": "2021-10-13T08:37:41.464185",
     "status": "completed"
    },
    "tags": []
   },
   "outputs": [],
   "source": [
    "df.columns"
   ]
  },
  {
   "cell_type": "markdown",
   "id": "collective-scientist",
   "metadata": {
    "papermill": {
     "duration": 0.049756,
     "end_time": "2021-10-13T08:37:41.625470",
     "exception": false,
     "start_time": "2021-10-13T08:37:41.575714",
     "status": "completed"
    },
    "tags": []
   },
   "source": [
    "The mean, standard error and \"worst\" or largest (mean of the three\n",
    "largest values) of these features were computed for each image,\n",
    "resulting in 30 features. For instance, field 3 is Mean Radius, field\n",
    "13 is Radius SE, field 23 is Worst Radius."
   ]
  },
  {
   "cell_type": "code",
   "execution_count": null,
   "id": "knowing-movement",
   "metadata": {
    "execution": {
     "iopub.execute_input": "2021-10-13T08:37:41.729084Z",
     "iopub.status.busy": "2021-10-13T08:37:41.728367Z",
     "iopub.status.idle": "2021-10-13T08:37:41.732801Z",
     "shell.execute_reply": "2021-10-13T08:37:41.733342Z",
     "shell.execute_reply.started": "2021-07-16T09:31:42.932623Z"
    },
    "papermill": {
     "duration": 0.057958,
     "end_time": "2021-10-13T08:37:41.733530",
     "exception": false,
     "start_time": "2021-10-13T08:37:41.675572",
     "status": "completed"
    },
    "tags": []
   },
   "outputs": [],
   "source": [
    "# Getting Mean Columns with diagnosis\n",
    "m_col = ['diagnosis','radius_mean', 'texture_mean', 'perimeter_mean',\n",
    "       'area_mean', 'smoothness_mean', 'compactness_mean', 'concavity_mean',\n",
    "       'concave points_mean', 'symmetry_mean', 'fractal_dimension_mean']\n",
    "\n",
    "# Getting Se Columns with diagnosis\n",
    "s_col = ['diagnosis','radius_se', 'texture_se', 'perimeter_se', 'area_se', 'smoothness_se',\n",
    "       'compactness_se', 'concavity_se', 'concave points_se', 'symmetry_se',\n",
    "       'fractal_dimension_se']\n",
    "\n",
    "# Getting Worst column with diagnosis\n",
    "w_col = ['diagnosis','radius_worst', 'texture_worst',\n",
    "       'perimeter_worst', 'area_worst', 'smoothness_worst',\n",
    "       'compactness_worst', 'concavity_worst', 'concave points_worst',\n",
    "       'symmetry_worst', 'fractal_dimension_worst']"
   ]
  },
  {
   "cell_type": "markdown",
   "id": "pressed-merit",
   "metadata": {
    "execution": {
     "iopub.execute_input": "2021-06-13T05:57:01.049231Z",
     "iopub.status.busy": "2021-06-13T05:57:01.048806Z",
     "iopub.status.idle": "2021-06-13T05:57:01.055882Z",
     "shell.execute_reply": "2021-06-13T05:57:01.054452Z",
     "shell.execute_reply.started": "2021-06-13T05:57:01.049192Z"
    },
    "papermill": {
     "duration": 0.049651,
     "end_time": "2021-10-13T08:37:41.834893",
     "exception": false,
     "start_time": "2021-10-13T08:37:41.785242",
     "status": "completed"
    },
    "tags": []
   },
   "source": [
    "### For Mean Columns"
   ]
  },
  {
   "cell_type": "code",
   "execution_count": null,
   "id": "married-indication",
   "metadata": {
    "execution": {
     "iopub.execute_input": "2021-10-13T08:37:41.938980Z",
     "iopub.status.busy": "2021-10-13T08:37:41.938289Z",
     "iopub.status.idle": "2021-10-13T08:38:08.907572Z",
     "shell.execute_reply": "2021-10-13T08:38:08.908124Z",
     "shell.execute_reply.started": "2021-07-16T09:31:42.950048Z"
    },
    "papermill": {
     "duration": 27.023044,
     "end_time": "2021-10-13T08:38:08.908341",
     "exception": false,
     "start_time": "2021-10-13T08:37:41.885297",
     "status": "completed"
    },
    "tags": []
   },
   "outputs": [],
   "source": [
    "# pairplot for mean columns\n",
    "sns.pairplot(df[m_col],hue = 'diagnosis', palette='Blues')"
   ]
  },
  {
   "cell_type": "markdown",
   "id": "played-scholar",
   "metadata": {
    "papermill": {
     "duration": 0.101028,
     "end_time": "2021-10-13T08:38:09.117398",
     "exception": false,
     "start_time": "2021-10-13T08:38:09.016370",
     "status": "completed"
    },
    "tags": []
   },
   "source": [
    "### For SE columns"
   ]
  },
  {
   "cell_type": "code",
   "execution_count": null,
   "id": "affecting-blogger",
   "metadata": {
    "execution": {
     "iopub.execute_input": "2021-10-13T08:38:09.323684Z",
     "iopub.status.busy": "2021-10-13T08:38:09.322573Z",
     "iopub.status.idle": "2021-10-13T08:38:38.479814Z",
     "shell.execute_reply": "2021-10-13T08:38:38.480330Z",
     "shell.execute_reply.started": "2021-07-16T09:32:11.403156Z"
    },
    "papermill": {
     "duration": 29.266052,
     "end_time": "2021-10-13T08:38:38.480539",
     "exception": false,
     "start_time": "2021-10-13T08:38:09.214487",
     "status": "completed"
    },
    "tags": []
   },
   "outputs": [],
   "source": [
    "# pairplot for se columns\n",
    "sns.pairplot(df[s_col],hue = 'diagnosis', palette='Greens')"
   ]
  },
  {
   "cell_type": "markdown",
   "id": "reverse-atlantic",
   "metadata": {
    "papermill": {
     "duration": 0.13092,
     "end_time": "2021-10-13T08:38:38.746491",
     "exception": false,
     "start_time": "2021-10-13T08:38:38.615571",
     "status": "completed"
    },
    "tags": []
   },
   "source": [
    "### For Worst columns"
   ]
  },
  {
   "cell_type": "code",
   "execution_count": null,
   "id": "sporting-government",
   "metadata": {
    "execution": {
     "iopub.execute_input": "2021-10-13T08:38:39.032673Z",
     "iopub.status.busy": "2021-10-13T08:38:39.013108Z",
     "iopub.status.idle": "2021-10-13T08:39:10.310362Z",
     "shell.execute_reply": "2021-10-13T08:39:10.311442Z",
     "shell.execute_reply.started": "2021-07-16T09:32:41.670326Z"
    },
    "papermill": {
     "duration": 31.435983,
     "end_time": "2021-10-13T08:39:10.311810",
     "exception": false,
     "start_time": "2021-10-13T08:38:38.875827",
     "status": "completed"
    },
    "tags": []
   },
   "outputs": [],
   "source": [
    "# pairplot for worst columns\n",
    "sns.pairplot(df[w_col],hue = 'diagnosis', palette='Oranges')"
   ]
  },
  {
   "cell_type": "markdown",
   "id": "ambient-fiber",
   "metadata": {
    "papermill": {
     "duration": 0.179141,
     "end_time": "2021-10-13T08:39:10.672396",
     "exception": false,
     "start_time": "2021-10-13T08:39:10.493255",
     "status": "completed"
    },
    "tags": []
   },
   "source": [
    "# 2. Data Preprocessing and Building Models"
   ]
  },
  {
   "cell_type": "markdown",
   "id": "lesser-princeton",
   "metadata": {
    "papermill": {
     "duration": 0.175449,
     "end_time": "2021-10-13T08:39:11.023616",
     "exception": false,
     "start_time": "2021-10-13T08:39:10.848167",
     "status": "completed"
    },
    "tags": []
   },
   "source": [
    "## 2.1 Data Preprocessing"
   ]
  },
  {
   "cell_type": "code",
   "execution_count": null,
   "id": "possible-wednesday",
   "metadata": {
    "execution": {
     "iopub.execute_input": "2021-10-13T08:39:11.383247Z",
     "iopub.status.busy": "2021-10-13T08:39:11.382324Z",
     "iopub.status.idle": "2021-10-13T08:39:11.386770Z",
     "shell.execute_reply": "2021-10-13T08:39:11.386133Z",
     "shell.execute_reply.started": "2021-07-16T09:33:13.503823Z"
    },
    "papermill": {
     "duration": 0.187809,
     "end_time": "2021-10-13T08:39:11.386940",
     "exception": false,
     "start_time": "2021-10-13T08:39:11.199131",
     "status": "completed"
    },
    "tags": []
   },
   "outputs": [],
   "source": [
    "# counts of unique rows in the 'diagnosis' column\n",
    "df['diagnosis'].value_counts()"
   ]
  },
  {
   "cell_type": "code",
   "execution_count": null,
   "id": "simple-travel",
   "metadata": {
    "execution": {
     "iopub.execute_input": "2021-10-13T08:39:11.742302Z",
     "iopub.status.busy": "2021-10-13T08:39:11.741597Z",
     "iopub.status.idle": "2021-10-13T08:39:11.744871Z",
     "shell.execute_reply": "2021-10-13T08:39:11.744273Z",
     "shell.execute_reply.started": "2021-07-16T09:33:13.513991Z"
    },
    "papermill": {
     "duration": 0.1854,
     "end_time": "2021-10-13T08:39:11.745026",
     "exception": false,
     "start_time": "2021-10-13T08:39:11.559626",
     "status": "completed"
    },
    "tags": []
   },
   "outputs": [],
   "source": [
    "# mapping categorical values to numerical values\n",
    "df['diagnosis']=df['diagnosis'].map({'B':0,'M':1})"
   ]
  },
  {
   "cell_type": "code",
   "execution_count": null,
   "id": "square-dylan",
   "metadata": {
    "execution": {
     "iopub.execute_input": "2021-10-13T08:39:12.103064Z",
     "iopub.status.busy": "2021-10-13T08:39:12.102387Z",
     "iopub.status.idle": "2021-10-13T08:39:12.107150Z",
     "shell.execute_reply": "2021-10-13T08:39:12.106536Z",
     "shell.execute_reply.started": "2021-07-16T09:33:13.53336Z"
    },
    "papermill": {
     "duration": 0.18985,
     "end_time": "2021-10-13T08:39:12.107304",
     "exception": false,
     "start_time": "2021-10-13T08:39:11.917454",
     "status": "completed"
    },
    "tags": []
   },
   "outputs": [],
   "source": [
    "df['diagnosis'].value_counts()"
   ]
  },
  {
   "cell_type": "markdown",
   "id": "running-removal",
   "metadata": {
    "papermill": {
     "duration": 0.176078,
     "end_time": "2021-10-13T08:39:12.456074",
     "exception": false,
     "start_time": "2021-10-13T08:39:12.279996",
     "status": "completed"
    },
    "tags": []
   },
   "source": [
    "## 2.2 Splitting the data into train and test"
   ]
  },
  {
   "cell_type": "code",
   "execution_count": null,
   "id": "violent-explorer",
   "metadata": {
    "execution": {
     "iopub.execute_input": "2021-10-13T08:39:12.813915Z",
     "iopub.status.busy": "2021-10-13T08:39:12.812973Z",
     "iopub.status.idle": "2021-10-13T08:39:12.995066Z",
     "shell.execute_reply": "2021-10-13T08:39:12.995499Z",
     "shell.execute_reply.started": "2021-07-16T09:33:13.561Z"
    },
    "papermill": {
     "duration": 0.363999,
     "end_time": "2021-10-13T08:39:12.995708",
     "exception": false,
     "start_time": "2021-10-13T08:39:12.631709",
     "status": "completed"
    },
    "tags": []
   },
   "outputs": [],
   "source": [
    "from sklearn.model_selection import train_test_split\n",
    "\n",
    "# splitting data\n",
    "X_train, X_test, y_train, y_test = train_test_split(\n",
    "                df.drop('diagnosis', axis=1),\n",
    "                df['diagnosis'],\n",
    "                test_size=0.2,\n",
    "                random_state=42)\n",
    "\n",
    "print(\"Shape of training set:\", X_train.shape)\n",
    "print(\"Shape of test set:\", X_test.shape)"
   ]
  },
  {
   "cell_type": "code",
   "execution_count": null,
   "id": "christian-schedule",
   "metadata": {
    "execution": {
     "iopub.execute_input": "2021-10-13T08:39:13.353267Z",
     "iopub.status.busy": "2021-10-13T08:39:13.352595Z",
     "iopub.status.idle": "2021-10-13T08:39:13.362583Z",
     "shell.execute_reply": "2021-10-13T08:39:13.361960Z",
     "shell.execute_reply.started": "2021-07-16T09:33:13.810897Z"
    },
    "papermill": {
     "duration": 0.193284,
     "end_time": "2021-10-13T08:39:13.362743",
     "exception": false,
     "start_time": "2021-10-13T08:39:13.169459",
     "status": "completed"
    },
    "tags": []
   },
   "outputs": [],
   "source": [
    "from sklearn.preprocessing import StandardScaler\n",
    "\n",
    "ss = StandardScaler()\n",
    "X_train = ss.fit_transform(X_train)\n",
    "X_test = ss.fit_transform(X_test)"
   ]
  },
  {
   "cell_type": "markdown",
   "id": "conventional-swiss",
   "metadata": {
    "papermill": {
     "duration": 0.177217,
     "end_time": "2021-10-13T08:39:13.714377",
     "exception": false,
     "start_time": "2021-10-13T08:39:13.537160",
     "status": "completed"
    },
    "tags": []
   },
   "source": [
    "StandardScaler standardizes a feature by subtracting the mean and then scaling to unit variance.(Unit variance means dividing all the values by the standard deviation.)"
   ]
  },
  {
   "cell_type": "markdown",
   "id": "worthy-indiana",
   "metadata": {
    "papermill": {
     "duration": 0.175208,
     "end_time": "2021-10-13T08:39:14.064338",
     "exception": false,
     "start_time": "2021-10-13T08:39:13.889130",
     "status": "completed"
    },
    "tags": []
   },
   "source": [
    "## 2.3 Classification Models"
   ]
  },
  {
   "cell_type": "markdown",
   "id": "changed-penguin",
   "metadata": {
    "papermill": {
     "duration": 0.173274,
     "end_time": "2021-10-13T08:39:14.412844",
     "exception": false,
     "start_time": "2021-10-13T08:39:14.239570",
     "status": "completed"
    },
    "tags": []
   },
   "source": [
    "### 2.3.1 Logistic Regression"
   ]
  },
  {
   "cell_type": "code",
   "execution_count": null,
   "id": "diagnostic-producer",
   "metadata": {
    "execution": {
     "iopub.execute_input": "2021-10-13T08:39:14.771470Z",
     "iopub.status.busy": "2021-10-13T08:39:14.770823Z",
     "iopub.status.idle": "2021-10-13T08:39:14.901636Z",
     "shell.execute_reply": "2021-10-13T08:39:14.900584Z",
     "shell.execute_reply.started": "2021-07-16T09:33:13.830523Z"
    },
    "papermill": {
     "duration": 0.310957,
     "end_time": "2021-10-13T08:39:14.901932",
     "exception": false,
     "start_time": "2021-10-13T08:39:14.590975",
     "status": "completed"
    },
    "tags": []
   },
   "outputs": [],
   "source": [
    "from sklearn.linear_model import LogisticRegression\n",
    "\n",
    "logreg = LogisticRegression()\n",
    "logreg.fit(X_train, y_train)\n",
    "predictions1 = logreg.predict(X_test)"
   ]
  },
  {
   "cell_type": "code",
   "execution_count": null,
   "id": "growing-joint",
   "metadata": {
    "execution": {
     "iopub.execute_input": "2021-10-13T08:39:15.320621Z",
     "iopub.status.busy": "2021-10-13T08:39:15.319880Z",
     "iopub.status.idle": "2021-10-13T08:39:15.329286Z",
     "shell.execute_reply": "2021-10-13T08:39:15.329850Z",
     "shell.execute_reply.started": "2021-07-16T09:33:13.972463Z"
    },
    "papermill": {
     "duration": 0.193598,
     "end_time": "2021-10-13T08:39:15.330105",
     "exception": false,
     "start_time": "2021-10-13T08:39:15.136507",
     "status": "completed"
    },
    "tags": []
   },
   "outputs": [],
   "source": [
    "from sklearn.metrics import confusion_matrix, classification_report\n",
    "\n",
    "print(\"Confusion Matrix: \\n\", confusion_matrix(y_test, predictions1))\n",
    "print('\\n')\n",
    "print(classification_report(y_test, predictions1))"
   ]
  },
  {
   "cell_type": "code",
   "execution_count": null,
   "id": "color-slide",
   "metadata": {
    "execution": {
     "iopub.execute_input": "2021-10-13T08:39:15.755933Z",
     "iopub.status.busy": "2021-10-13T08:39:15.755104Z",
     "iopub.status.idle": "2021-10-13T08:39:15.762413Z",
     "shell.execute_reply": "2021-10-13T08:39:15.761403Z",
     "shell.execute_reply.started": "2021-07-16T09:33:13.994515Z"
    },
    "papermill": {
     "duration": 0.210145,
     "end_time": "2021-10-13T08:39:15.762691",
     "exception": false,
     "start_time": "2021-10-13T08:39:15.552546",
     "status": "completed"
    },
    "tags": []
   },
   "outputs": [],
   "source": [
    "from sklearn.metrics import accuracy_score\n",
    "\n",
    "logreg_acc = accuracy_score(y_test, predictions1)\n",
    "print(\"Accuracy of the Logistic Regression Model is: \", logreg_acc)"
   ]
  },
  {
   "cell_type": "markdown",
   "id": "peripheral-radical",
   "metadata": {
    "papermill": {
     "duration": 0.172114,
     "end_time": "2021-10-13T08:39:16.109483",
     "exception": false,
     "start_time": "2021-10-13T08:39:15.937369",
     "status": "completed"
    },
    "tags": []
   },
   "source": [
    "### 2.3.2 K Nearest Neighbours"
   ]
  },
  {
   "cell_type": "code",
   "execution_count": null,
   "id": "russian-jurisdiction",
   "metadata": {
    "execution": {
     "iopub.execute_input": "2021-10-13T08:39:16.467939Z",
     "iopub.status.busy": "2021-10-13T08:39:16.467254Z",
     "iopub.status.idle": "2021-10-13T08:39:16.537112Z",
     "shell.execute_reply": "2021-10-13T08:39:16.536521Z",
     "shell.execute_reply.started": "2021-07-16T09:33:14.004913Z"
    },
    "papermill": {
     "duration": 0.251049,
     "end_time": "2021-10-13T08:39:16.537287",
     "exception": false,
     "start_time": "2021-10-13T08:39:16.286238",
     "status": "completed"
    },
    "tags": []
   },
   "outputs": [],
   "source": [
    "from sklearn.neighbors import KNeighborsClassifier"
   ]
  },
  {
   "cell_type": "code",
   "execution_count": null,
   "id": "unsigned-allah",
   "metadata": {
    "execution": {
     "iopub.execute_input": "2021-10-13T08:39:16.899538Z",
     "iopub.status.busy": "2021-10-13T08:39:16.898211Z",
     "iopub.status.idle": "2021-10-13T08:39:17.361436Z",
     "shell.execute_reply": "2021-10-13T08:39:17.362297Z",
     "shell.execute_reply.started": "2021-07-16T09:33:14.101306Z"
    },
    "papermill": {
     "duration": 0.649532,
     "end_time": "2021-10-13T08:39:17.362653",
     "exception": false,
     "start_time": "2021-10-13T08:39:16.713121",
     "status": "completed"
    },
    "tags": []
   },
   "outputs": [],
   "source": [
    "# to find which value shows the lowest mean error\n",
    "error_rate = []\n",
    "\n",
    "for i in range(1,42):\n",
    "    knn = KNeighborsClassifier(n_neighbors=i)\n",
    "    knn.fit(X_train, y_train)\n",
    "    pred_i = knn.predict(X_test)\n",
    "    error_rate.append(np.mean(pred_i != y_test))"
   ]
  },
  {
   "cell_type": "code",
   "execution_count": null,
   "id": "general-headquarters",
   "metadata": {
    "execution": {
     "iopub.execute_input": "2021-10-13T08:39:17.790230Z",
     "iopub.status.busy": "2021-10-13T08:39:17.788407Z",
     "iopub.status.idle": "2021-10-13T08:39:17.948443Z",
     "shell.execute_reply": "2021-10-13T08:39:17.948941Z",
     "shell.execute_reply.started": "2021-07-16T09:33:14.601727Z"
    },
    "papermill": {
     "duration": 0.357614,
     "end_time": "2021-10-13T08:39:17.949149",
     "exception": false,
     "start_time": "2021-10-13T08:39:17.591535",
     "status": "completed"
    },
    "tags": []
   },
   "outputs": [],
   "source": [
    "plt.figure(figsize=(12,6))\n",
    "plt.plot(range(1,42), error_rate, color='purple', linestyle=\"--\",\n",
    "         marker='o', markersize=10, markerfacecolor='b')\n",
    "plt.title('Error_Rate vs K-value')\n",
    "plt.show()"
   ]
  },
  {
   "cell_type": "markdown",
   "id": "united-skill",
   "metadata": {
    "papermill": {
     "duration": 0.17625,
     "end_time": "2021-10-13T08:39:18.299997",
     "exception": false,
     "start_time": "2021-10-13T08:39:18.123747",
     "status": "completed"
    },
    "tags": []
   },
   "source": [
    "From this graph, K value of 9,34,35,36,40 and 41 seem to show the lowest mean error. So using one of these values"
   ]
  },
  {
   "cell_type": "code",
   "execution_count": null,
   "id": "norwegian-style",
   "metadata": {
    "execution": {
     "iopub.execute_input": "2021-10-13T08:39:18.655600Z",
     "iopub.status.busy": "2021-10-13T08:39:18.654462Z",
     "iopub.status.idle": "2021-10-13T08:39:18.671304Z",
     "shell.execute_reply": "2021-10-13T08:39:18.672230Z",
     "shell.execute_reply.started": "2021-07-16T09:33:14.825646Z"
    },
    "papermill": {
     "duration": 0.197004,
     "end_time": "2021-10-13T08:39:18.672583",
     "exception": false,
     "start_time": "2021-10-13T08:39:18.475579",
     "status": "completed"
    },
    "tags": []
   },
   "outputs": [],
   "source": [
    "knn = KNeighborsClassifier(n_neighbors=9)\n",
    "knn.fit(X_train, y_train)\n",
    "predictions2 = knn.predict(X_test)"
   ]
  },
  {
   "cell_type": "code",
   "execution_count": null,
   "id": "assisted-california",
   "metadata": {
    "execution": {
     "iopub.execute_input": "2021-10-13T08:39:19.090151Z",
     "iopub.status.busy": "2021-10-13T08:39:19.089086Z",
     "iopub.status.idle": "2021-10-13T08:39:19.098026Z",
     "shell.execute_reply": "2021-10-13T08:39:19.098461Z",
     "shell.execute_reply.started": "2021-07-16T09:33:14.845442Z"
    },
    "papermill": {
     "duration": 0.193391,
     "end_time": "2021-10-13T08:39:19.098663",
     "exception": false,
     "start_time": "2021-10-13T08:39:18.905272",
     "status": "completed"
    },
    "tags": []
   },
   "outputs": [],
   "source": [
    "print(confusion_matrix(y_test, predictions2))\n",
    "print(\"\\n\")\n",
    "print(classification_report(y_test, predictions2))"
   ]
  },
  {
   "cell_type": "code",
   "execution_count": null,
   "id": "sonic-oxygen",
   "metadata": {
    "execution": {
     "iopub.execute_input": "2021-10-13T08:39:19.457907Z",
     "iopub.status.busy": "2021-10-13T08:39:19.456822Z",
     "iopub.status.idle": "2021-10-13T08:39:19.464146Z",
     "shell.execute_reply": "2021-10-13T08:39:19.464646Z",
     "shell.execute_reply.started": "2021-07-16T09:33:14.864531Z"
    },
    "papermill": {
     "duration": 0.188693,
     "end_time": "2021-10-13T08:39:19.464868",
     "exception": false,
     "start_time": "2021-10-13T08:39:19.276175",
     "status": "completed"
    },
    "tags": []
   },
   "outputs": [],
   "source": [
    "knn_model_acc = accuracy_score(y_test, predictions2)\n",
    "print(\"Accuracy of K Neighbors Classifier Model is: \", knn_model_acc)"
   ]
  },
  {
   "cell_type": "markdown",
   "id": "legislative-hepatitis",
   "metadata": {
    "papermill": {
     "duration": 0.176015,
     "end_time": "2021-10-13T08:39:19.817209",
     "exception": false,
     "start_time": "2021-10-13T08:39:19.641194",
     "status": "completed"
    },
    "tags": []
   },
   "source": [
    "### 2.3.3 Random Forests"
   ]
  },
  {
   "cell_type": "code",
   "execution_count": null,
   "id": "accurate-struggle",
   "metadata": {
    "execution": {
     "iopub.execute_input": "2021-10-13T08:39:20.175271Z",
     "iopub.status.busy": "2021-10-13T08:39:20.172557Z",
     "iopub.status.idle": "2021-10-13T08:39:20.879977Z",
     "shell.execute_reply": "2021-10-13T08:39:20.879393Z",
     "shell.execute_reply.started": "2021-07-16T09:33:14.876029Z"
    },
    "papermill": {
     "duration": 0.887621,
     "end_time": "2021-10-13T08:39:20.880168",
     "exception": false,
     "start_time": "2021-10-13T08:39:19.992547",
     "status": "completed"
    },
    "tags": []
   },
   "outputs": [],
   "source": [
    "from sklearn.ensemble import RandomForestClassifier\n",
    "\n",
    "rfc = RandomForestClassifier(n_estimators=300)\n",
    "rfc.fit(X_train, y_train)\n",
    "predictions4 = rfc.predict(X_test)"
   ]
  },
  {
   "cell_type": "code",
   "execution_count": null,
   "id": "vital-johns",
   "metadata": {
    "execution": {
     "iopub.execute_input": "2021-10-13T08:39:21.263314Z",
     "iopub.status.busy": "2021-10-13T08:39:21.259254Z",
     "iopub.status.idle": "2021-10-13T08:39:21.266005Z",
     "shell.execute_reply": "2021-10-13T08:39:21.266770Z",
     "shell.execute_reply.started": "2021-07-16T09:33:15.779123Z"
    },
    "papermill": {
     "duration": 0.210474,
     "end_time": "2021-10-13T08:39:21.267054",
     "exception": false,
     "start_time": "2021-10-13T08:39:21.056580",
     "status": "completed"
    },
    "tags": []
   },
   "outputs": [],
   "source": [
    "print(\"Confusion Matrix: \\n\", confusion_matrix(y_test, predictions4))\n",
    "print(\"\\n\")\n",
    "print(classification_report(y_test, predictions4))"
   ]
  },
  {
   "cell_type": "code",
   "execution_count": null,
   "id": "serious-arrival",
   "metadata": {
    "execution": {
     "iopub.execute_input": "2021-10-13T08:39:21.636909Z",
     "iopub.status.busy": "2021-10-13T08:39:21.636184Z",
     "iopub.status.idle": "2021-10-13T08:39:21.645431Z",
     "shell.execute_reply": "2021-10-13T08:39:21.644650Z",
     "shell.execute_reply.started": "2021-07-16T09:33:15.796119Z"
    },
    "papermill": {
     "duration": 0.199357,
     "end_time": "2021-10-13T08:39:21.645644",
     "exception": false,
     "start_time": "2021-10-13T08:39:21.446287",
     "status": "completed"
    },
    "tags": []
   },
   "outputs": [],
   "source": [
    "rfc_acc = accuracy_score(y_test, predictions4)\n",
    "print(\"Accuracy of Random Forests Model is: \", rfc_acc)"
   ]
  },
  {
   "cell_type": "markdown",
   "id": "crazy-custody",
   "metadata": {
    "papermill": {
     "duration": 0.181371,
     "end_time": "2021-10-13T08:39:22.009926",
     "exception": false,
     "start_time": "2021-10-13T08:39:21.828555",
     "status": "completed"
    },
    "tags": []
   },
   "source": [
    "### 2.3.4 Support Vector Machines (SVM)"
   ]
  },
  {
   "cell_type": "code",
   "execution_count": null,
   "id": "angry-concern",
   "metadata": {
    "execution": {
     "iopub.execute_input": "2021-10-13T08:39:22.373966Z",
     "iopub.status.busy": "2021-10-13T08:39:22.372971Z",
     "iopub.status.idle": "2021-10-13T08:39:22.385578Z",
     "shell.execute_reply": "2021-10-13T08:39:22.386191Z",
     "shell.execute_reply.started": "2021-07-16T09:33:15.806184Z"
    },
    "papermill": {
     "duration": 0.198824,
     "end_time": "2021-10-13T08:39:22.386432",
     "exception": false,
     "start_time": "2021-10-13T08:39:22.187608",
     "status": "completed"
    },
    "tags": []
   },
   "outputs": [],
   "source": [
    "from sklearn.svm import SVC\n",
    "\n",
    "svc_model = SVC(kernel=\"rbf\")\n",
    "svc_model.fit(X_train, y_train)\n",
    "predictions5 = svc_model.predict(X_test)"
   ]
  },
  {
   "cell_type": "code",
   "execution_count": null,
   "id": "forty-county",
   "metadata": {
    "execution": {
     "iopub.execute_input": "2021-10-13T08:39:22.740804Z",
     "iopub.status.busy": "2021-10-13T08:39:22.739702Z",
     "iopub.status.idle": "2021-10-13T08:39:22.752908Z",
     "shell.execute_reply": "2021-10-13T08:39:22.752305Z",
     "shell.execute_reply.started": "2021-07-16T09:33:15.830413Z"
    },
    "papermill": {
     "duration": 0.190398,
     "end_time": "2021-10-13T08:39:22.753087",
     "exception": false,
     "start_time": "2021-10-13T08:39:22.562689",
     "status": "completed"
    },
    "tags": []
   },
   "outputs": [],
   "source": [
    "print(\"Confusion Matrix: \\n\", confusion_matrix(y_test, predictions5))\n",
    "print(\"\\n\")\n",
    "print(classification_report(y_test, predictions5))"
   ]
  },
  {
   "cell_type": "code",
   "execution_count": null,
   "id": "instrumental-advertiser",
   "metadata": {
    "execution": {
     "iopub.execute_input": "2021-10-13T08:39:23.124133Z",
     "iopub.status.busy": "2021-10-13T08:39:23.123264Z",
     "iopub.status.idle": "2021-10-13T08:39:23.127674Z",
     "shell.execute_reply": "2021-10-13T08:39:23.126807Z",
     "shell.execute_reply.started": "2021-07-16T09:33:15.851789Z"
    },
    "papermill": {
     "duration": 0.193623,
     "end_time": "2021-10-13T08:39:23.127916",
     "exception": false,
     "start_time": "2021-10-13T08:39:22.934293",
     "status": "completed"
    },
    "tags": []
   },
   "outputs": [],
   "source": [
    "svm_acc = accuracy_score(y_test, predictions5)\n",
    "print(\"Accuracy of SVM model is: \", svm_acc)"
   ]
  },
  {
   "cell_type": "code",
   "execution_count": null,
   "id": "a0350b5a",
   "metadata": {},
   "outputs": [],
   "source": [
    "import joblib\n",
    "from sklearn.preprocessing import StandardScaler\n",
    "\n",
    "# After fitting the scaler and training the model\n",
    "scaler = StandardScaler()\n",
    "X_train_scaled = scaler.fit_transform(X_train)\n",
    "X_test_scaled = scaler.transform(X_test)\n",
    "\n",
    "# Save scaler and model\n",
    "joblib.dump(scaler, 'scaler.pkl')\n",
    "joblib.dump(logreg, 'breast_cancer_model.pkl')  # or any other model you want to use\n"
   ]
  },
  {
   "cell_type": "markdown",
   "id": "divine-saver",
   "metadata": {
    "papermill": {
     "duration": 0.180449,
     "end_time": "2021-10-13T08:39:23.492181",
     "exception": false,
     "start_time": "2021-10-13T08:39:23.311732",
     "status": "completed"
    },
    "tags": []
   },
   "source": [
    "# 3. Final Results"
   ]
  },
  {
   "cell_type": "code",
   "execution_count": null,
   "id": "saved-introduction",
   "metadata": {
    "execution": {
     "iopub.execute_input": "2021-10-13T08:39:23.860018Z",
     "iopub.status.busy": "2021-10-13T08:39:23.859307Z",
     "iopub.status.idle": "2021-10-13T08:39:23.861834Z",
     "shell.execute_reply": "2021-10-13T08:39:23.862407Z",
     "shell.execute_reply.started": "2021-07-16T09:33:15.86315Z"
    },
    "papermill": {
     "duration": 0.189459,
     "end_time": "2021-10-13T08:39:23.862606",
     "exception": false,
     "start_time": "2021-10-13T08:39:23.673147",
     "status": "completed"
    },
    "tags": []
   },
   "outputs": [],
   "source": [
    "print(logreg_acc)\n",
    "print(knn_model_acc)\n",
    "print(rfc_acc)\n",
    "print(svm_acc)"
   ]
  },
  {
   "cell_type": "markdown",
   "id": "together-mention",
   "metadata": {
    "papermill": {
     "duration": 0.180324,
     "end_time": "2021-10-13T08:39:24.222351",
     "exception": false,
     "start_time": "2021-10-13T08:39:24.042027",
     "status": "completed"
    },
    "tags": []
   },
   "source": [
    "The accuracy of Logistic Regression Model is **98.24%**<br>\n",
    "The accuracy of KNN model is **96.49%**<br>\n",
    "The accuracy of Random Forest Model is **96.49%**<br>\n",
    "The accuracy of SVM Model is **98.24%**<br>"
   ]
  },
  {
   "cell_type": "code",
   "execution_count": null,
   "id": "another-weekly",
   "metadata": {
    "execution": {
     "iopub.execute_input": "2021-10-13T08:39:24.588230Z",
     "iopub.status.busy": "2021-10-13T08:39:24.587126Z",
     "iopub.status.idle": "2021-10-13T08:39:24.732617Z",
     "shell.execute_reply": "2021-10-13T08:39:24.733219Z",
     "shell.execute_reply.started": "2021-07-16T09:33:15.878856Z"
    },
    "papermill": {
     "duration": 0.331864,
     "end_time": "2021-10-13T08:39:24.733423",
     "exception": false,
     "start_time": "2021-10-13T08:39:24.401559",
     "status": "completed"
    },
    "tags": []
   },
   "outputs": [],
   "source": [
    "plt.figure(figsize=(12,6))\n",
    "model_acc = [logreg_acc, knn_model_acc, rfc_acc, svm_acc]\n",
    "model_name = ['LogisticRegression', 'KNN', 'RandomForests', 'SVM']\n",
    "sns.barplot(x= model_acc, y=model_name, palette='magma')"
   ]
  },
  {
   "cell_type": "markdown",
   "id": "dietary-laugh",
   "metadata": {
    "papermill": {
     "duration": 0.179044,
     "end_time": "2021-10-13T08:39:25.090440",
     "exception": false,
     "start_time": "2021-10-13T08:39:24.911396",
     "status": "completed"
    },
    "tags": []
   },
   "source": [
    "Logistic Regression model and SVM model gave best performance with an accuracy of **98.24%**"
   ]
  },
  {
   "cell_type": "code",
   "execution_count": null,
   "id": "7d199bda",
   "metadata": {},
   "outputs": [],
   "source": [
    "# 1. Save the trained model\n",
    "import joblib\n",
    "joblib.dump(logreg, 'breast_cancer_model.pkl')\n"
   ]
  },
  {
   "cell_type": "code",
   "execution_count": null,
   "id": "d442d769",
   "metadata": {},
   "outputs": [],
   "source": [
    "import tkinter as tk\n",
    "from tkinter import messagebox\n",
    "import numpy as np\n",
    "import joblib\n",
    "\n",
    "# Load model and scaler\n",
    "model = joblib.load('breast_cancer_model.pkl')\n",
    "scaler = joblib.load('scaler.pkl')\n",
    "\n",
    "# Tkinter window setup\n",
    "root = tk.Tk()\n",
    "root.title(\"Breast Cancer Prediction\")\n",
    "root.geometry(\"600x750\")\n",
    "root.configure(bg=\"black\")\n",
    "\n",
    "# Center frame\n",
    "center_frame = tk.Frame(root, bg=\"black\")\n",
    "center_frame.place(relx=0.5, rely=0.5, anchor=\"center\")\n",
    "\n",
    "# Feature list (use more features if needed)\n",
    "features = ['radius_mean', 'texture_mean', 'perimeter_mean', 'area_mean', 'smoothness_mean',\n",
    "            'compactness_mean', 'concavity_mean', 'concave points_mean', 'symmetry_mean', 'fractal_dimension_mean']\n",
    "\n",
    "entries = {}\n",
    "\n",
    "# Heading\n",
    "heading = tk.Label(center_frame, text=\"Breast Cancer Prediction\", font=(\"Helvetica\", 18, \"bold\"),\n",
    "                   bg=\"black\", fg=\"white\")\n",
    "heading.grid(row=0, column=0, columnspan=2, pady=20)\n",
    "\n",
    "# Input fields\n",
    "for i, feature in enumerate(features):\n",
    "    label = tk.Label(center_frame, text=feature + \":\", anchor='e', bg=\"black\", fg=\"white\",\n",
    "                     font=(\"Helvetica\", 11))\n",
    "    label.grid(row=i+1, column=0, padx=10, pady=5, sticky=\"e\")\n",
    "\n",
    "    entry = tk.Entry(center_frame, width=30, bg=\"#222222\", fg=\"white\", insertbackground=\"white\")\n",
    "    entry.grid(row=i+1, column=1, padx=10, pady=5)\n",
    "    entries[feature] = entry\n",
    "\n",
    "# Prediction function\n",
    "def predict():\n",
    "    try:\n",
    "        input_data = [float(entries[feature].get()) for feature in features]\n",
    "        input_data = np.array(input_data).reshape(1, -1)\n",
    "        input_scaled = scaler.transform(input_data)\n",
    "        result = model.predict(input_scaled)\n",
    "\n",
    "        if result[0] == 1:\n",
    "            messagebox.showinfo(\"Prediction Result\", \"⚠️ Malignant (Cancer Detected)\")\n",
    "        else:\n",
    "            messagebox.showinfo(\"Prediction Result\", \"✅ Benign (No Cancer Detected)\")\n",
    "    except Exception as e:\n",
    "        messagebox.showerror(\"Input Error\", f\"Please enter valid numbers.\\n\\n{e}\")\n",
    "\n",
    "# Predict Button\n",
    "predict_btn = tk.Button(center_frame, text=\"Predict\", command=predict,\n",
    "                        bg=\"white\", fg=\"black\", font=(\"Helvetica\", 12, \"bold\"),\n",
    "                        padx=10, pady=5)\n",
    "predict_btn.grid(row=len(features)+2, column=0, columnspan=2, pady=30)\n",
    "\n",
    "# Run the app\n",
    "root.mainloop()\n"
   ]
  }
 ],
 "metadata": {
  "kernelspec": {
   "display_name": "base",
   "language": "python",
   "name": "python3"
  },
  "language_info": {
   "codemirror_mode": {
    "name": "ipython",
    "version": 3
   },
   "file_extension": ".py",
   "mimetype": "text/x-python",
   "name": "python",
   "nbconvert_exporter": "python",
   "pygments_lexer": "ipython3",
   "version": "3.12.2"
  },
  "papermill": {
   "default_parameters": {},
   "duration": 121.107601,
   "end_time": "2021-10-13T08:39:28.248349",
   "environment_variables": {},
   "exception": null,
   "input_path": "__notebook__.ipynb",
   "output_path": "__notebook__.ipynb",
   "parameters": {},
   "start_time": "2021-10-13T08:37:27.140748",
   "version": "2.3.3"
  }
 },
 "nbformat": 4,
 "nbformat_minor": 5
}
