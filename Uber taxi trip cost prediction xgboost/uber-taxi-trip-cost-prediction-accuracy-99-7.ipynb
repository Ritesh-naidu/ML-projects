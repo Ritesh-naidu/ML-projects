{
 "cells": [
  {
   "cell_type": "markdown",
   "metadata": {},
   "source": [
    "# Introduction #\n",
    "With the rapid growth of demand for taxi services, accurate fare prediction is becoming an important aspect for optimizing business processes and increasing customer satisfaction. This study aims to develop a model that can predict taxi prices based on various factors such as geographical coordinates (longitude and latitude), pick-up and drop-off times, and time parameters including season, day of the week, and time of day.\n",
    "\n",
    "Using modern machine learning methods, in particular the LinearRegression algorithm, Random Forest Regressor, XGBoost, I aimed to achieve high accuracy in predictions. The study analyzed various models and their performance in the context of predicting taxi prices. The results showed an impressive accuracy of 99.2% (XGBoost) and 99.7% (Random Forest Regressor), which highlights the potential of using machine learning algorithms to solve problems in the field of transportation services.\n",
    "\n",
    "This study not only demonstrates the possibilities of forecasting taxi prices, but also opens up new horizons for the implementation of analytical solutions in the business strategies of companies operating in this field."
   ]
  },
  {
   "cell_type": "markdown",
   "metadata": {},
   "source": [
    "## Importing the librarires ##"
   ]
  },
  {
   "cell_type": "code",
   "execution_count": null,
   "metadata": {
    "_cell_guid": "b1076dfc-b9ad-4769-8c92-a6c4dae69d19",
    "_uuid": "8f2839f25d086af736a60e9eeb907d3b93b6e0e5",
    "execution": {
     "iopub.execute_input": "2025-02-04T08:36:09.437385Z",
     "iopub.status.busy": "2025-02-04T08:36:09.437010Z",
     "iopub.status.idle": "2025-02-04T08:36:09.443510Z",
     "shell.execute_reply": "2025-02-04T08:36:09.442109Z",
     "shell.execute_reply.started": "2025-02-04T08:36:09.437354Z"
    },
    "trusted": true
   },
   "outputs": [],
   "source": [
    "import warnings\n",
    "\n",
    "import matplotlib.pyplot as plt\n",
    "import numpy as np\n",
    "import pandas as pd\n",
    "import seaborn as sns\n",
    "import xgboost as xg \n",
    "from geopy.distance import geodesic\n",
    "from sklearn.datasets import make_regression\n",
    "from sklearn.ensemble import RandomForestRegressor\n",
    "from sklearn.linear_model import LinearRegression, Ridge\n",
    "from sklearn.metrics import mean_squared_error as MSE \n",
    "from sklearn.model_selection import train_test_split\n",
    "from sklearn.preprocessing import StandardScaler"
   ]
  },
  {
   "cell_type": "code",
   "execution_count": null,
   "metadata": {
    "execution": {
     "iopub.execute_input": "2025-02-04T08:36:09.445998Z",
     "iopub.status.busy": "2025-02-04T08:36:09.445577Z",
     "iopub.status.idle": "2025-02-04T08:36:09.976773Z",
     "shell.execute_reply": "2025-02-04T08:36:09.975603Z",
     "shell.execute_reply.started": "2025-02-04T08:36:09.445955Z"
    },
    "trusted": true
   },
   "outputs": [],
   "source": [
    "### Loading Uber fare data from a CSV file\n",
    "data = pd.read_csv(\"/Users/riteshkumar/Downloads/ML projects/Uber taxi trip cost prediction xgboost/Uber - order history.csv\")"
   ]
  },
  {
   "cell_type": "code",
   "execution_count": null,
   "metadata": {
    "execution": {
     "iopub.execute_input": "2025-02-04T08:36:09.978348Z",
     "iopub.status.busy": "2025-02-04T08:36:09.978045Z",
     "iopub.status.idle": "2025-02-04T08:36:09.996244Z",
     "shell.execute_reply": "2025-02-04T08:36:09.994665Z",
     "shell.execute_reply.started": "2025-02-04T08:36:09.978320Z"
    },
    "trusted": true
   },
   "outputs": [],
   "source": [
    "data.head()"
   ]
  },
  {
   "cell_type": "code",
   "execution_count": null,
   "metadata": {
    "execution": {
     "iopub.execute_input": "2025-02-04T08:36:09.998326Z",
     "iopub.status.busy": "2025-02-04T08:36:09.997966Z",
     "iopub.status.idle": "2025-02-04T08:36:10.019309Z",
     "shell.execute_reply": "2025-02-04T08:36:10.018247Z",
     "shell.execute_reply.started": "2025-02-04T08:36:09.998295Z"
    },
    "trusted": true
   },
   "outputs": [],
   "source": [
    "data.shape"
   ]
  },
  {
   "cell_type": "code",
   "execution_count": null,
   "metadata": {
    "execution": {
     "iopub.execute_input": "2025-02-04T08:36:10.021573Z",
     "iopub.status.busy": "2025-02-04T08:36:10.021074Z",
     "iopub.status.idle": "2025-02-04T08:36:10.058632Z",
     "shell.execute_reply": "2025-02-04T08:36:10.057506Z",
     "shell.execute_reply.started": "2025-02-04T08:36:10.021530Z"
    },
    "trusted": true
   },
   "outputs": [],
   "source": [
    "### Removing a column with unnecessary information\n",
    "data = data.drop([\"Unnamed: 0\"],axis=1)\n",
    "data.head()"
   ]
  },
  {
   "cell_type": "code",
   "execution_count": null,
   "metadata": {
    "execution": {
     "iopub.execute_input": "2025-02-04T08:36:10.059978Z",
     "iopub.status.busy": "2025-02-04T08:36:10.059649Z",
     "iopub.status.idle": "2025-02-04T08:36:10.085180Z",
     "shell.execute_reply": "2025-02-04T08:36:10.083900Z",
     "shell.execute_reply.started": "2025-02-04T08:36:10.059940Z"
    },
    "trusted": true
   },
   "outputs": [],
   "source": [
    "### Defining the target variable \"fare_amount\" \n",
    "target = data[\"fare_amount\"]\n",
    "features = data.drop([\"fare_amount\"],axis = 1)\n",
    "target.head()\n",
    "features.head()"
   ]
  },
  {
   "cell_type": "code",
   "execution_count": null,
   "metadata": {},
   "outputs": [],
   "source": [
    "data.info()"
   ]
  },
  {
   "cell_type": "code",
   "execution_count": null,
   "metadata": {
    "execution": {
     "iopub.execute_input": "2025-02-04T08:36:10.086675Z",
     "iopub.status.busy": "2025-02-04T08:36:10.086313Z",
     "iopub.status.idle": "2025-02-04T08:36:10.116214Z",
     "shell.execute_reply": "2025-02-04T08:36:10.115092Z",
     "shell.execute_reply.started": "2025-02-04T08:36:10.086644Z"
    },
    "trusted": true
   },
   "outputs": [],
   "source": [
    "### Check null values\n",
    "data.isnull().sum()"
   ]
  },
  {
   "cell_type": "code",
   "execution_count": null,
   "metadata": {
    "execution": {
     "iopub.execute_input": "2025-02-04T08:36:10.117674Z",
     "iopub.status.busy": "2025-02-04T08:36:10.117272Z",
     "iopub.status.idle": "2025-02-04T08:36:10.159925Z",
     "shell.execute_reply": "2025-02-04T08:36:10.158808Z",
     "shell.execute_reply.started": "2025-02-04T08:36:10.117639Z"
    },
    "trusted": true
   },
   "outputs": [],
   "source": [
    "### Removing null values\n",
    "data.dropna(inplace = True)"
   ]
  },
  {
   "cell_type": "code",
   "execution_count": null,
   "metadata": {
    "execution": {
     "iopub.execute_input": "2025-02-04T08:36:10.163351Z",
     "iopub.status.busy": "2025-02-04T08:36:10.162905Z",
     "iopub.status.idle": "2025-02-04T08:36:10.193783Z",
     "shell.execute_reply": "2025-02-04T08:36:10.192580Z",
     "shell.execute_reply.started": "2025-02-04T08:36:10.163306Z"
    },
    "trusted": true
   },
   "outputs": [],
   "source": [
    "### Check removing\n",
    "data.isnull().sum()"
   ]
  },
  {
   "cell_type": "code",
   "execution_count": null,
   "metadata": {
    "execution": {
     "iopub.execute_input": "2025-02-04T08:36:10.196913Z",
     "iopub.status.busy": "2025-02-04T08:36:10.196297Z",
     "iopub.status.idle": "2025-02-04T08:36:10.210582Z",
     "shell.execute_reply": "2025-02-04T08:36:10.209352Z",
     "shell.execute_reply.started": "2025-02-04T08:36:10.196860Z"
    },
    "trusted": true
   },
   "outputs": [],
   "source": [
    "data.shape"
   ]
  },
  {
   "cell_type": "code",
   "execution_count": null,
   "metadata": {
    "execution": {
     "iopub.execute_input": "2025-02-04T08:36:10.212136Z",
     "iopub.status.busy": "2025-02-04T08:36:10.211843Z",
     "iopub.status.idle": "2025-02-04T08:36:10.382445Z",
     "shell.execute_reply": "2025-02-04T08:36:10.381208Z",
     "shell.execute_reply.started": "2025-02-04T08:36:10.212109Z"
    },
    "trusted": true
   },
   "outputs": [],
   "source": [
    "### Check duplicated in data\n",
    "data.duplicated().sum()"
   ]
  },
  {
   "cell_type": "code",
   "execution_count": null,
   "metadata": {
    "execution": {
     "iopub.execute_input": "2025-02-04T08:36:10.383820Z",
     "iopub.status.busy": "2025-02-04T08:36:10.383529Z",
     "iopub.status.idle": "2025-02-04T08:36:10.419623Z",
     "shell.execute_reply": "2025-02-04T08:36:10.418322Z",
     "shell.execute_reply.started": "2025-02-04T08:36:10.383794Z"
    },
    "trusted": true
   },
   "outputs": [],
   "source": [
    "data.info()"
   ]
  },
  {
   "cell_type": "code",
   "execution_count": null,
   "metadata": {
    "execution": {
     "iopub.execute_input": "2025-02-04T08:36:10.421079Z",
     "iopub.status.busy": "2025-02-04T08:36:10.420741Z",
     "iopub.status.idle": "2025-02-04T08:36:10.445451Z",
     "shell.execute_reply": "2025-02-04T08:36:10.444363Z",
     "shell.execute_reply.started": "2025-02-04T08:36:10.421050Z"
    },
    "trusted": true
   },
   "outputs": [],
   "source": [
    "### Let's limit latitude and longitude to real values\n",
    "data = data[(data[\"pickup_latitude\"].between(-90,90)) &\n",
    "           (data[\"dropoff_latitude\"].between(-90,90)) &\n",
    "           (data[\"pickup_longitude\"].between(-180,180))&\n",
    "           (data[\"dropoff_longitude\"].between(-180,180))]"
   ]
  },
  {
   "cell_type": "code",
   "execution_count": null,
   "metadata": {
    "execution": {
     "iopub.execute_input": "2025-02-04T08:36:10.447037Z",
     "iopub.status.busy": "2025-02-04T08:36:10.446607Z",
     "iopub.status.idle": "2025-02-04T08:36:14.245763Z",
     "shell.execute_reply": "2025-02-04T08:36:14.244591Z",
     "shell.execute_reply.started": "2025-02-04T08:36:10.446995Z"
    },
    "trusted": true
   },
   "outputs": [],
   "source": [
    "### Extracting year, month, day of week and hour from data\n",
    "data[\"pickup_datetime\"] = pd.to_datetime(data[\"pickup_datetime\"])\n",
    "\n",
    "data[\"year\"] = data[\"pickup_datetime\"].dt.year\n",
    "data[\"month\"] = data[\"pickup_datetime\"].dt.month\n",
    "data[\"weekday\"] = data[\"pickup_datetime\"].dt.weekday\n",
    "data[\"hour\"] = data[\"pickup_datetime\"].dt.hour"
   ]
  },
  {
   "cell_type": "code",
   "execution_count": null,
   "metadata": {
    "execution": {
     "iopub.execute_input": "2025-02-04T08:36:14.247311Z",
     "iopub.status.busy": "2025-02-04T08:36:14.246917Z",
     "iopub.status.idle": "2025-02-04T08:36:14.255470Z",
     "shell.execute_reply": "2025-02-04T08:36:14.254172Z",
     "shell.execute_reply.started": "2025-02-04T08:36:14.247270Z"
    },
    "trusted": true
   },
   "outputs": [],
   "source": [
    "### Checking the month number for correctness\n",
    "data[\"month\"].unique()"
   ]
  },
  {
   "cell_type": "code",
   "execution_count": null,
   "metadata": {
    "execution": {
     "iopub.execute_input": "2025-02-04T08:36:14.257052Z",
     "iopub.status.busy": "2025-02-04T08:36:14.256604Z",
     "iopub.status.idle": "2025-02-04T08:36:14.317250Z",
     "shell.execute_reply": "2025-02-04T08:36:14.316293Z",
     "shell.execute_reply.started": "2025-02-04T08:36:14.257009Z"
    },
    "trusted": true
   },
   "outputs": [],
   "source": [
    "### Combining months into quarters\n",
    "data[\"Monthly_Quarter\"] = data[\"month\"].apply(lambda x: \"Q1\" if x in [1,2,3] else(\n",
    "                                              \"Q2\" if x in [4,5,6] else( \"Q3\" if x in [7,8,9] else( \n",
    "                                              \"Q4\"))))"
   ]
  },
  {
   "cell_type": "code",
   "execution_count": null,
   "metadata": {
    "execution": {
     "iopub.execute_input": "2025-02-04T08:36:14.318583Z",
     "iopub.status.busy": "2025-02-04T08:36:14.318272Z",
     "iopub.status.idle": "2025-02-04T08:36:14.333812Z",
     "shell.execute_reply": "2025-02-04T08:36:14.332550Z",
     "shell.execute_reply.started": "2025-02-04T08:36:14.318555Z"
    },
    "trusted": true
   },
   "outputs": [],
   "source": [
    "data[\"Monthly_Quarter\"].unique()"
   ]
  },
  {
   "cell_type": "code",
   "execution_count": null,
   "metadata": {
    "execution": {
     "iopub.execute_input": "2025-02-04T08:36:14.336399Z",
     "iopub.status.busy": "2025-02-04T08:36:14.335966Z",
     "iopub.status.idle": "2025-02-04T08:36:14.351583Z",
     "shell.execute_reply": "2025-02-04T08:36:14.349910Z",
     "shell.execute_reply.started": "2025-02-04T08:36:14.336353Z"
    },
    "trusted": true
   },
   "outputs": [],
   "source": [
    "### Checking the hours number for correctness\n",
    "data[\"hour\"].unique()"
   ]
  },
  {
   "cell_type": "code",
   "execution_count": null,
   "metadata": {
    "execution": {
     "iopub.execute_input": "2025-02-04T08:36:14.353079Z",
     "iopub.status.busy": "2025-02-04T08:36:14.352764Z",
     "iopub.status.idle": "2025-02-04T08:36:14.438737Z",
     "shell.execute_reply": "2025-02-04T08:36:14.437096Z",
     "shell.execute_reply.started": "2025-02-04T08:36:14.353051Z"
    },
    "trusted": true
   },
   "outputs": [],
   "source": [
    "### Combining hour into quarters segments\n",
    "data[\"Hourly_Segments\"] = data[\"hour\"].apply(lambda x: \"H1\" if x in [0,1,2,3] \n",
    "                                             else(\"H2\" if x in [4,5,6,7] else(\"H3\" if x in [8,9,10,11]\n",
    "                                                                             else(\"H4\" if x in [12,13,14,15]\n",
    "                                                                                 else(\"H5\" if x in [16,17,18,19]\n",
    "                                                                                     else(\"H6\"))))))"
   ]
  },
  {
   "cell_type": "code",
   "execution_count": null,
   "metadata": {
    "execution": {
     "iopub.execute_input": "2025-02-04T08:36:14.440234Z",
     "iopub.status.busy": "2025-02-04T08:36:14.439826Z",
     "iopub.status.idle": "2025-02-04T08:36:58.944463Z",
     "shell.execute_reply": "2025-02-04T08:36:58.942902Z",
     "shell.execute_reply.started": "2025-02-04T08:36:14.440189Z"
    },
    "trusted": true
   },
   "outputs": [],
   "source": [
    "### Calculate the distance between passenger pick-up and drop-off points (distances)\n",
    "distances = []\n",
    "\n",
    "for i in data.index:\n",
    "    pickup_coords = (data[\"pickup_latitude\"][i], data[\"pickup_longitude\"][i])\n",
    "    dropoff_coords = (data[\"dropoff_latitude\"][i], data[\"dropoff_longitude\"][i])\n",
    "    distance = round(geodesic(pickup_coords,dropoff_coords).m,2)\n",
    "    distances.append(distance)\n",
    "    \n",
    "data[\"distance\"] = distances"
   ]
  },
  {
   "cell_type": "code",
   "execution_count": null,
   "metadata": {
    "execution": {
     "iopub.execute_input": "2025-02-04T08:36:58.946077Z",
     "iopub.status.busy": "2025-02-04T08:36:58.945714Z",
     "iopub.status.idle": "2025-02-04T08:36:58.964628Z",
     "shell.execute_reply": "2025-02-04T08:36:58.963255Z",
     "shell.execute_reply.started": "2025-02-04T08:36:58.946034Z"
    },
    "trusted": true
   },
   "outputs": [],
   "source": [
    "data.head()"
   ]
  },
  {
   "cell_type": "code",
   "execution_count": null,
   "metadata": {
    "execution": {
     "iopub.execute_input": "2025-02-04T08:36:58.966033Z",
     "iopub.status.busy": "2025-02-04T08:36:58.965702Z",
     "iopub.status.idle": "2025-02-04T08:36:58.993592Z",
     "shell.execute_reply": "2025-02-04T08:36:58.992394Z",
     "shell.execute_reply.started": "2025-02-04T08:36:58.966006Z"
    },
    "trusted": true
   },
   "outputs": [],
   "source": [
    "### Removing a column with unnecessary information\n",
    "data.drop([\"pickup_datetime\",\"month\",\"hour\",\"key\"], axis = 1, inplace = True)"
   ]
  },
  {
   "cell_type": "code",
   "execution_count": null,
   "metadata": {
    "execution": {
     "iopub.execute_input": "2025-02-04T08:36:58.995328Z",
     "iopub.status.busy": "2025-02-04T08:36:58.994948Z",
     "iopub.status.idle": "2025-02-04T08:36:59.012018Z",
     "shell.execute_reply": "2025-02-04T08:36:59.010696Z",
     "shell.execute_reply.started": "2025-02-04T08:36:58.995298Z"
    },
    "trusted": true
   },
   "outputs": [],
   "source": [
    "data.head()"
   ]
  },
  {
   "cell_type": "code",
   "execution_count": null,
   "metadata": {
    "execution": {
     "iopub.execute_input": "2025-02-04T08:36:59.018664Z",
     "iopub.status.busy": "2025-02-04T08:36:59.018235Z",
     "iopub.status.idle": "2025-02-04T08:36:59.129029Z",
     "shell.execute_reply": "2025-02-04T08:36:59.127881Z",
     "shell.execute_reply.started": "2025-02-04T08:36:59.018629Z"
    },
    "trusted": true
   },
   "outputs": [],
   "source": [
    "display(data.describe())"
   ]
  },
  {
   "cell_type": "code",
   "execution_count": null,
   "metadata": {
    "execution": {
     "iopub.execute_input": "2025-02-04T08:36:59.132254Z",
     "iopub.status.busy": "2025-02-04T08:36:59.131923Z",
     "iopub.status.idle": "2025-02-04T08:36:59.150118Z",
     "shell.execute_reply": "2025-02-04T08:36:59.148195Z",
     "shell.execute_reply.started": "2025-02-04T08:36:59.132223Z"
    },
    "trusted": true
   },
   "outputs": [],
   "source": [
    "### Removing data with negative \"fare_amount\"\n",
    "data = data[data[\"fare_amount\"] >= 0]"
   ]
  },
  {
   "cell_type": "code",
   "execution_count": null,
   "metadata": {
    "execution": {
     "iopub.execute_input": "2025-02-04T08:36:59.151888Z",
     "iopub.status.busy": "2025-02-04T08:36:59.151407Z",
     "iopub.status.idle": "2025-02-04T08:36:59.260468Z",
     "shell.execute_reply": "2025-02-04T08:36:59.259163Z",
     "shell.execute_reply.started": "2025-02-04T08:36:59.151841Z"
    },
    "trusted": true
   },
   "outputs": [],
   "source": [
    "display(data.describe())"
   ]
  },
  {
   "cell_type": "markdown",
   "metadata": {},
   "source": [
    "## Exploratory Data Analysis (EDA) ##"
   ]
  },
  {
   "cell_type": "code",
   "execution_count": null,
   "metadata": {
    "execution": {
     "iopub.execute_input": "2025-02-04T08:36:59.262266Z",
     "iopub.status.busy": "2025-02-04T08:36:59.261830Z",
     "iopub.status.idle": "2025-02-04T08:37:00.616584Z",
     "shell.execute_reply": "2025-02-04T08:37:00.615429Z",
     "shell.execute_reply.started": "2025-02-04T08:36:59.262222Z"
    },
    "trusted": true
   },
   "outputs": [],
   "source": [
    "warnings.filterwarnings('ignore')\n",
    "\n",
    "plt.figure(figsize=[6,4])\n",
    "sns.histplot(data[\"fare_amount\"], color='b', edgecolor=\"black\", linewidth=2, bins=20, kde=True)\n",
    "\n",
    "plt.title('Target Variable Distribution - Median Value of Homes ($1Ms)')\n",
    "plt.show()\n"
   ]
  },
  {
   "cell_type": "code",
   "execution_count": null,
   "metadata": {
    "execution": {
     "iopub.execute_input": "2025-02-04T08:37:00.618116Z",
     "iopub.status.busy": "2025-02-04T08:37:00.617706Z",
     "iopub.status.idle": "2025-02-04T08:37:00.637488Z",
     "shell.execute_reply": "2025-02-04T08:37:00.636325Z",
     "shell.execute_reply.started": "2025-02-04T08:37:00.618073Z"
    },
    "trusted": true
   },
   "outputs": [],
   "source": [
    "categorical_column = data[['Monthly_Quarter', 'passenger_count', 'Hourly_Segments', 'weekday', 'year']]\n",
    "categorical_column.head()"
   ]
  },
  {
   "cell_type": "code",
   "execution_count": null,
   "metadata": {
    "execution": {
     "iopub.execute_input": "2025-02-04T08:37:00.639215Z",
     "iopub.status.busy": "2025-02-04T08:37:00.638800Z",
     "iopub.status.idle": "2025-02-04T08:37:00.875585Z",
     "shell.execute_reply": "2025-02-04T08:37:00.874142Z",
     "shell.execute_reply.started": "2025-02-04T08:37:00.639173Z"
    },
    "trusted": true
   },
   "outputs": [],
   "source": [
    "### Let's plot the \"passenger_count\" distribution in the data\n",
    "sns.countplot(x=data[\"passenger_count\"], palette=\"magma\")\n",
    "plt.show()"
   ]
  },
  {
   "cell_type": "code",
   "execution_count": null,
   "metadata": {
    "execution": {
     "iopub.execute_input": "2025-02-04T08:37:02.063873Z",
     "iopub.status.busy": "2025-02-04T08:37:02.063526Z",
     "iopub.status.idle": "2025-02-04T08:37:03.215730Z",
     "shell.execute_reply": "2025-02-04T08:37:03.214175Z",
     "shell.execute_reply.started": "2025-02-04T08:37:02.063845Z"
    },
    "trusted": true
   },
   "outputs": [],
   "source": [
    "sns.kdeplot(data[\"distance\"], shade=True, color=\"purple\")\n",
    "plt.title(\"Density Plot of 'Distance'\")\n",
    "plt.xlabel(\"Distance\")\n",
    "plt.ylabel(\"Density\")\n",
    "plt.show()\n",
    "\n"
   ]
  },
  {
   "cell_type": "code",
   "execution_count": null,
   "metadata": {
    "execution": {
     "iopub.execute_input": "2025-02-04T08:37:03.217298Z",
     "iopub.status.busy": "2025-02-04T08:37:03.216994Z",
     "iopub.status.idle": "2025-02-04T08:37:04.412234Z",
     "shell.execute_reply": "2025-02-04T08:37:04.411016Z",
     "shell.execute_reply.started": "2025-02-04T08:37:03.217270Z"
    },
    "trusted": true
   },
   "outputs": [],
   "source": [
    "sns.kdeplot(data[\"pickup_latitude\"], shade=True, color=\"purple\")\n",
    "plt.title(\"Density Plot 'pickup_latitude'\")\n",
    "plt.xlabel(\"pickup_latitude\")\n",
    "plt.ylabel(\"Density\")\n",
    "plt.show()"
   ]
  },
  {
   "cell_type": "code",
   "execution_count": null,
   "metadata": {
    "execution": {
     "iopub.execute_input": "2025-02-04T08:37:04.413979Z",
     "iopub.status.busy": "2025-02-04T08:37:04.413635Z",
     "iopub.status.idle": "2025-02-04T08:37:05.598545Z",
     "shell.execute_reply": "2025-02-04T08:37:05.597535Z",
     "shell.execute_reply.started": "2025-02-04T08:37:04.413951Z"
    },
    "trusted": true
   },
   "outputs": [],
   "source": [
    "sns.kdeplot(data[\"dropoff_latitude\"], shade=True, color=\"purple\")\n",
    "plt.title(\"Density Plot 'dropoff_latitude'\")\n",
    "plt.xlabel(\"dropoff_latitude\")\n",
    "plt.ylabel(\"Density\")\n",
    "plt.show()"
   ]
  },
  {
   "cell_type": "code",
   "execution_count": null,
   "metadata": {
    "execution": {
     "iopub.execute_input": "2025-02-04T08:37:05.600032Z",
     "iopub.status.busy": "2025-02-04T08:37:05.599651Z",
     "iopub.status.idle": "2025-02-04T08:37:06.708152Z",
     "shell.execute_reply": "2025-02-04T08:37:06.706961Z",
     "shell.execute_reply.started": "2025-02-04T08:37:05.599974Z"
    },
    "trusted": true
   },
   "outputs": [],
   "source": [
    "sns.kdeplot(data[\"pickup_longitude\"], shade=True, color=\"purple\")\n",
    "plt.title(\"Density Plot 'pickup_longitude'\")\n",
    "plt.xlabel(\"pickup_longitude\")\n",
    "plt.ylabel(\"Density\")\n",
    "plt.show()"
   ]
  },
  {
   "cell_type": "code",
   "execution_count": null,
   "metadata": {
    "execution": {
     "iopub.execute_input": "2025-02-04T08:37:06.709803Z",
     "iopub.status.busy": "2025-02-04T08:37:06.709359Z",
     "iopub.status.idle": "2025-02-04T08:37:07.830874Z",
     "shell.execute_reply": "2025-02-04T08:37:07.829551Z",
     "shell.execute_reply.started": "2025-02-04T08:37:06.709760Z"
    },
    "trusted": true
   },
   "outputs": [],
   "source": [
    "sns.kdeplot(data[\"dropoff_longitude\"], shade=True, color=\"purple\")\n",
    "plt.title(\"Density Plot 'dropoff_longitude'\")\n",
    "plt.xlabel(\"dropoff_longitude\")\n",
    "plt.ylabel(\"Density\")\n",
    "plt.show()"
   ]
  },
  {
   "cell_type": "code",
   "execution_count": null,
   "metadata": {
    "execution": {
     "iopub.execute_input": "2025-02-04T08:37:07.832344Z",
     "iopub.status.busy": "2025-02-04T08:37:07.832042Z",
     "iopub.status.idle": "2025-02-04T08:37:08.950576Z",
     "shell.execute_reply": "2025-02-04T08:37:08.949258Z",
     "shell.execute_reply.started": "2025-02-04T08:37:07.832316Z"
    },
    "trusted": true
   },
   "outputs": [],
   "source": [
    "sns.kdeplot(data[\"fare_amount\"], shade=True, color=\"purple\")\n",
    "plt.title(\"Density Plot 'fare_amount'\")\n",
    "plt.xlabel(\"dropoff_longitude\")\n",
    "plt.ylabel(\"Density\")\n",
    "plt.show()"
   ]
  },
  {
   "cell_type": "markdown",
   "metadata": {},
   "source": [
    "## Data Preprocessing ##"
   ]
  },
  {
   "cell_type": "code",
   "execution_count": null,
   "metadata": {
    "execution": {
     "iopub.execute_input": "2025-02-04T08:37:08.952761Z",
     "iopub.status.busy": "2025-02-04T08:37:08.952350Z",
     "iopub.status.idle": "2025-02-04T08:37:08.996313Z",
     "shell.execute_reply": "2025-02-04T08:37:08.995258Z",
     "shell.execute_reply.started": "2025-02-04T08:37:08.952721Z"
    },
    "trusted": true
   },
   "outputs": [],
   "source": [
    "df = data.copy(deep=True)"
   ]
  },
  {
   "cell_type": "code",
   "execution_count": null,
   "metadata": {
    "execution": {
     "iopub.execute_input": "2025-02-04T08:37:08.997900Z",
     "iopub.status.busy": "2025-02-04T08:37:08.997510Z",
     "iopub.status.idle": "2025-02-04T08:37:09.004693Z",
     "shell.execute_reply": "2025-02-04T08:37:09.003436Z",
     "shell.execute_reply.started": "2025-02-04T08:37:08.997869Z"
    },
    "trusted": true
   },
   "outputs": [],
   "source": [
    "df.shape"
   ]
  },
  {
   "cell_type": "code",
   "execution_count": null,
   "metadata": {
    "execution": {
     "iopub.execute_input": "2025-02-04T08:37:09.006471Z",
     "iopub.status.busy": "2025-02-04T08:37:09.006045Z",
     "iopub.status.idle": "2025-02-04T08:37:09.026180Z",
     "shell.execute_reply": "2025-02-04T08:37:09.024961Z",
     "shell.execute_reply.started": "2025-02-04T08:37:09.006406Z"
    },
    "trusted": true
   },
   "outputs": [],
   "source": [
    "data.columns"
   ]
  },
  {
   "cell_type": "code",
   "execution_count": null,
   "metadata": {
    "execution": {
     "iopub.execute_input": "2025-02-04T08:37:09.027836Z",
     "iopub.status.busy": "2025-02-04T08:37:09.027345Z",
     "iopub.status.idle": "2025-02-04T08:37:09.048548Z",
     "shell.execute_reply": "2025-02-04T08:37:09.047301Z",
     "shell.execute_reply.started": "2025-02-04T08:37:09.027801Z"
    },
    "trusted": true
   },
   "outputs": [],
   "source": [
    "### Let's place categorical features in a variable\n",
    "data_nf = data[[\"fare_amount\",\"pickup_longitude\",\"pickup_latitude\",\"dropoff_longitude\",\"dropoff_latitude\",\"distance\"]]"
   ]
  },
  {
   "cell_type": "code",
   "execution_count": null,
   "metadata": {
    "execution": {
     "iopub.execute_input": "2025-02-04T08:37:09.050391Z",
     "iopub.status.busy": "2025-02-04T08:37:09.049947Z",
     "iopub.status.idle": "2025-02-04T08:37:09.069268Z",
     "shell.execute_reply": "2025-02-04T08:37:09.067790Z",
     "shell.execute_reply.started": "2025-02-04T08:37:09.050357Z"
    },
    "trusted": true
   },
   "outputs": [],
   "source": [
    "data_nf.head()"
   ]
  },
  {
   "cell_type": "code",
   "execution_count": null,
   "metadata": {
    "execution": {
     "iopub.execute_input": "2025-02-04T08:37:09.070967Z",
     "iopub.status.busy": "2025-02-04T08:37:09.070563Z",
     "iopub.status.idle": "2025-02-04T08:37:09.220534Z",
     "shell.execute_reply": "2025-02-04T08:37:09.219472Z",
     "shell.execute_reply.started": "2025-02-04T08:37:09.070929Z"
    },
    "trusted": true
   },
   "outputs": [],
   "source": [
    "### Let's place quantitative features in a variable\n",
    "data_cf = pd.get_dummies(data,columns = ['Monthly_Quarter', 'Hourly_Segments', 'weekday', 'year', 'passenger_count'],dtype = int, drop_first=True)"
   ]
  },
  {
   "cell_type": "code",
   "execution_count": null,
   "metadata": {
    "execution": {
     "iopub.execute_input": "2025-02-04T08:37:09.221878Z",
     "iopub.status.busy": "2025-02-04T08:37:09.221595Z",
     "iopub.status.idle": "2025-02-04T08:37:09.228456Z",
     "shell.execute_reply": "2025-02-04T08:37:09.227298Z",
     "shell.execute_reply.started": "2025-02-04T08:37:09.221852Z"
    },
    "trusted": true
   },
   "outputs": [],
   "source": [
    "data_cf.shape"
   ]
  },
  {
   "cell_type": "code",
   "execution_count": null,
   "metadata": {
    "execution": {
     "iopub.execute_input": "2025-02-04T08:37:09.230115Z",
     "iopub.status.busy": "2025-02-04T08:37:09.229770Z",
     "iopub.status.idle": "2025-02-04T08:37:09.250295Z",
     "shell.execute_reply": "2025-02-04T08:37:09.249238Z",
     "shell.execute_reply.started": "2025-02-04T08:37:09.230085Z"
    },
    "trusted": true
   },
   "outputs": [],
   "source": [
    "### Determine the skew for each variable\n",
    "data_cf[\"fare_amount\"].skew()"
   ]
  },
  {
   "cell_type": "code",
   "execution_count": null,
   "metadata": {
    "execution": {
     "iopub.execute_input": "2025-02-04T08:37:09.251877Z",
     "iopub.status.busy": "2025-02-04T08:37:09.251484Z",
     "iopub.status.idle": "2025-02-04T08:37:09.268176Z",
     "shell.execute_reply": "2025-02-04T08:37:09.266921Z",
     "shell.execute_reply.started": "2025-02-04T08:37:09.251840Z"
    },
    "trusted": true
   },
   "outputs": [],
   "source": [
    "data_cf[\"pickup_longitude\"].skew()"
   ]
  },
  {
   "cell_type": "code",
   "execution_count": null,
   "metadata": {
    "execution": {
     "iopub.execute_input": "2025-02-04T08:37:09.269696Z",
     "iopub.status.busy": "2025-02-04T08:37:09.269342Z",
     "iopub.status.idle": "2025-02-04T08:37:09.285357Z",
     "shell.execute_reply": "2025-02-04T08:37:09.284134Z",
     "shell.execute_reply.started": "2025-02-04T08:37:09.269665Z"
    },
    "trusted": true
   },
   "outputs": [],
   "source": [
    "data_cf[\"pickup_latitude\"].skew()"
   ]
  },
  {
   "cell_type": "code",
   "execution_count": null,
   "metadata": {
    "execution": {
     "iopub.execute_input": "2025-02-04T08:37:09.287303Z",
     "iopub.status.busy": "2025-02-04T08:37:09.286876Z",
     "iopub.status.idle": "2025-02-04T08:37:09.297483Z",
     "shell.execute_reply": "2025-02-04T08:37:09.296214Z",
     "shell.execute_reply.started": "2025-02-04T08:37:09.287262Z"
    },
    "trusted": true
   },
   "outputs": [],
   "source": [
    "data_cf[\"dropoff_longitude\"].skew()"
   ]
  },
  {
   "cell_type": "code",
   "execution_count": null,
   "metadata": {
    "execution": {
     "iopub.execute_input": "2025-02-04T08:37:09.299255Z",
     "iopub.status.busy": "2025-02-04T08:37:09.298809Z",
     "iopub.status.idle": "2025-02-04T08:37:09.309016Z",
     "shell.execute_reply": "2025-02-04T08:37:09.307860Z",
     "shell.execute_reply.started": "2025-02-04T08:37:09.299212Z"
    },
    "trusted": true
   },
   "outputs": [],
   "source": [
    "data_cf[\"dropoff_latitude\"].skew()"
   ]
  },
  {
   "cell_type": "code",
   "execution_count": null,
   "metadata": {
    "execution": {
     "iopub.execute_input": "2025-02-04T08:37:09.310565Z",
     "iopub.status.busy": "2025-02-04T08:37:09.310186Z",
     "iopub.status.idle": "2025-02-04T08:37:09.326852Z",
     "shell.execute_reply": "2025-02-04T08:37:09.325733Z",
     "shell.execute_reply.started": "2025-02-04T08:37:09.310529Z"
    },
    "trusted": true
   },
   "outputs": [],
   "source": [
    "data_cf[\"distance\"].skew()"
   ]
  },
  {
   "cell_type": "code",
   "execution_count": null,
   "metadata": {
    "execution": {
     "iopub.execute_input": "2025-02-04T08:37:09.583679Z",
     "iopub.status.busy": "2025-02-04T08:37:09.583286Z",
     "iopub.status.idle": "2025-02-04T08:37:09.602210Z",
     "shell.execute_reply": "2025-02-04T08:37:09.600845Z",
     "shell.execute_reply.started": "2025-02-04T08:37:09.583648Z"
    },
    "trusted": true
   },
   "outputs": [],
   "source": [
    "data_cf[\"fare_amount\"].describe()"
   ]
  },
  {
   "cell_type": "code",
   "execution_count": null,
   "metadata": {
    "execution": {
     "iopub.execute_input": "2025-02-04T08:37:09.603639Z",
     "iopub.status.busy": "2025-02-04T08:37:09.603296Z",
     "iopub.status.idle": "2025-02-04T08:37:10.901594Z",
     "shell.execute_reply": "2025-02-04T08:37:10.900307Z",
     "shell.execute_reply.started": "2025-02-04T08:37:09.603608Z"
    },
    "trusted": true
   },
   "outputs": [],
   "source": [
    "plt.figure(figsize = (8,5))\n",
    "sns.distplot(data_cf[\"fare_amount\"], color=\"purple\")\n",
    "plt.show()"
   ]
  },
  {
   "cell_type": "code",
   "execution_count": null,
   "metadata": {
    "execution": {
     "iopub.execute_input": "2025-02-04T08:37:10.903015Z",
     "iopub.status.busy": "2025-02-04T08:37:10.902698Z",
     "iopub.status.idle": "2025-02-04T08:37:10.918546Z",
     "shell.execute_reply": "2025-02-04T08:37:10.917189Z",
     "shell.execute_reply.started": "2025-02-04T08:37:10.902987Z"
    },
    "trusted": true
   },
   "outputs": [],
   "source": [
    "### Calculation of 25th and 75th percentiles\n",
    "percentile25 = data_cf[\"distance\"].quantile(0.25)\n",
    "percentile75 = data_cf[\"distance\"].quantile(0.75)"
   ]
  },
  {
   "cell_type": "code",
   "execution_count": null,
   "metadata": {
    "execution": {
     "iopub.execute_input": "2025-02-04T08:37:10.920011Z",
     "iopub.status.busy": "2025-02-04T08:37:10.919599Z",
     "iopub.status.idle": "2025-02-04T08:37:10.934994Z",
     "shell.execute_reply": "2025-02-04T08:37:10.933954Z",
     "shell.execute_reply.started": "2025-02-04T08:37:10.919968Z"
    },
    "trusted": true
   },
   "outputs": [],
   "source": [
    "### Calculation Interquartile Range\n",
    "IQR = percentile75 - percentile25\n",
    "IQR"
   ]
  },
  {
   "cell_type": "code",
   "execution_count": null,
   "metadata": {
    "execution": {
     "iopub.execute_input": "2025-02-04T08:37:10.936185Z",
     "iopub.status.busy": "2025-02-04T08:37:10.935913Z",
     "iopub.status.idle": "2025-02-04T08:37:10.954284Z",
     "shell.execute_reply": "2025-02-04T08:37:10.952951Z",
     "shell.execute_reply.started": "2025-02-04T08:37:10.936161Z"
    },
    "trusted": true
   },
   "outputs": [],
   "source": [
    "### Defining limits\n",
    "upperlimit = percentile75 + 1.5 * IQR\n",
    "lowerlimit = percentile25 - 1.5 * IQR"
   ]
  },
  {
   "cell_type": "code",
   "execution_count": null,
   "metadata": {
    "execution": {
     "iopub.execute_input": "2025-02-04T08:37:10.956263Z",
     "iopub.status.busy": "2025-02-04T08:37:10.955830Z",
     "iopub.status.idle": "2025-02-04T08:37:11.005899Z",
     "shell.execute_reply": "2025-02-04T08:37:11.004453Z",
     "shell.execute_reply.started": "2025-02-04T08:37:10.956217Z"
    },
    "trusted": true
   },
   "outputs": [],
   "source": [
    "data_cf[data_cf[\"distance\"] > upperlimit]"
   ]
  },
  {
   "cell_type": "code",
   "execution_count": null,
   "metadata": {
    "execution": {
     "iopub.execute_input": "2025-02-04T08:37:11.007469Z",
     "iopub.status.busy": "2025-02-04T08:37:11.007093Z",
     "iopub.status.idle": "2025-02-04T08:37:11.022673Z",
     "shell.execute_reply": "2025-02-04T08:37:11.021266Z",
     "shell.execute_reply.started": "2025-02-04T08:37:11.007407Z"
    },
    "trusted": true
   },
   "outputs": [],
   "source": [
    "data_cf[data_cf[\"distance\"] < lowerlimit]"
   ]
  },
  {
   "cell_type": "code",
   "execution_count": null,
   "metadata": {
    "execution": {
     "iopub.execute_input": "2025-02-04T08:37:11.024077Z",
     "iopub.status.busy": "2025-02-04T08:37:11.023774Z",
     "iopub.status.idle": "2025-02-04T08:37:11.069999Z",
     "shell.execute_reply": "2025-02-04T08:37:11.068886Z",
     "shell.execute_reply.started": "2025-02-04T08:37:11.024048Z"
    },
    "trusted": true
   },
   "outputs": [],
   "source": [
    "data_cf = data_cf.drop(data_cf[data_cf[\"distance\"] > upperlimit].index)\n",
    "data_cf.shape"
   ]
  },
  {
   "cell_type": "code",
   "execution_count": null,
   "metadata": {
    "execution": {
     "iopub.execute_input": "2025-02-04T08:37:11.071204Z",
     "iopub.status.busy": "2025-02-04T08:37:11.070930Z",
     "iopub.status.idle": "2025-02-04T08:37:11.079602Z",
     "shell.execute_reply": "2025-02-04T08:37:11.078499Z",
     "shell.execute_reply.started": "2025-02-04T08:37:11.071179Z"
    },
    "trusted": true
   },
   "outputs": [],
   "source": [
    "### Check new skew\n",
    "data_cf[\"distance\"].skew()"
   ]
  },
  {
   "cell_type": "code",
   "execution_count": null,
   "metadata": {
    "execution": {
     "iopub.execute_input": "2025-02-04T08:37:11.080976Z",
     "iopub.status.busy": "2025-02-04T08:37:11.080632Z",
     "iopub.status.idle": "2025-02-04T08:37:12.158042Z",
     "shell.execute_reply": "2025-02-04T08:37:12.156538Z",
     "shell.execute_reply.started": "2025-02-04T08:37:11.080945Z"
    },
    "trusted": true
   },
   "outputs": [],
   "source": [
    "plt.figure(figsize = (10,5))\n",
    "sns.distplot(data_cf[\"distance\"], color=\"purple\")\n",
    "plt.show()\n"
   ]
  },
  {
   "cell_type": "code",
   "execution_count": null,
   "metadata": {
    "execution": {
     "iopub.execute_input": "2025-02-04T08:37:12.356111Z",
     "iopub.status.busy": "2025-02-04T08:37:12.355814Z",
     "iopub.status.idle": "2025-02-04T08:37:12.365075Z",
     "shell.execute_reply": "2025-02-04T08:37:12.364152Z",
     "shell.execute_reply.started": "2025-02-04T08:37:12.356084Z"
    },
    "trusted": true
   },
   "outputs": [],
   "source": [
    "data_cf[\"pickup_longitude\"].skew()"
   ]
  },
  {
   "cell_type": "code",
   "execution_count": null,
   "metadata": {
    "execution": {
     "iopub.execute_input": "2025-02-04T08:37:12.366361Z",
     "iopub.status.busy": "2025-02-04T08:37:12.366009Z",
     "iopub.status.idle": "2025-02-04T08:37:12.388674Z",
     "shell.execute_reply": "2025-02-04T08:37:12.387541Z",
     "shell.execute_reply.started": "2025-02-04T08:37:12.366331Z"
    },
    "trusted": true
   },
   "outputs": [],
   "source": [
    "### Calculation of 25th and 75th percentiles\n",
    "percentile25 = data_cf[\"pickup_longitude\"].quantile(0.25)\n",
    "percentile75 = data_cf[\"pickup_longitude\"].quantile(0.75)"
   ]
  },
  {
   "cell_type": "code",
   "execution_count": null,
   "metadata": {
    "execution": {
     "iopub.execute_input": "2025-02-04T08:37:12.390041Z",
     "iopub.status.busy": "2025-02-04T08:37:12.389697Z",
     "iopub.status.idle": "2025-02-04T08:37:12.394244Z",
     "shell.execute_reply": "2025-02-04T08:37:12.393078Z",
     "shell.execute_reply.started": "2025-02-04T08:37:12.390004Z"
    },
    "trusted": true
   },
   "outputs": [],
   "source": [
    "### Calculation Interquartile Range\n",
    "IQR = percentile75 - percentile25"
   ]
  },
  {
   "cell_type": "code",
   "execution_count": null,
   "metadata": {
    "execution": {
     "iopub.execute_input": "2025-02-04T08:37:12.395616Z",
     "iopub.status.busy": "2025-02-04T08:37:12.395238Z",
     "iopub.status.idle": "2025-02-04T08:37:12.411267Z",
     "shell.execute_reply": "2025-02-04T08:37:12.410127Z",
     "shell.execute_reply.started": "2025-02-04T08:37:12.395577Z"
    },
    "trusted": true
   },
   "outputs": [],
   "source": [
    "### Defining limits\n",
    "upperlimit = percentile75 + 1.5 * IQR\n",
    "lowerlimit = percentile25 - 1.5 * IQR"
   ]
  },
  {
   "cell_type": "code",
   "execution_count": null,
   "metadata": {
    "execution": {
     "iopub.execute_input": "2025-02-04T08:37:12.421492Z",
     "iopub.status.busy": "2025-02-04T08:37:12.421067Z",
     "iopub.status.idle": "2025-02-04T08:37:12.454592Z",
     "shell.execute_reply": "2025-02-04T08:37:12.453259Z",
     "shell.execute_reply.started": "2025-02-04T08:37:12.421449Z"
    },
    "trusted": true
   },
   "outputs": [],
   "source": [
    "data_cf[data_cf[\"pickup_longitude\"] > upperlimit]"
   ]
  },
  {
   "cell_type": "code",
   "execution_count": null,
   "metadata": {
    "execution": {
     "iopub.execute_input": "2025-02-04T08:37:12.457678Z",
     "iopub.status.busy": "2025-02-04T08:37:12.457339Z",
     "iopub.status.idle": "2025-02-04T08:37:12.483321Z",
     "shell.execute_reply": "2025-02-04T08:37:12.482038Z",
     "shell.execute_reply.started": "2025-02-04T08:37:12.457649Z"
    },
    "trusted": true
   },
   "outputs": [],
   "source": [
    "data_cf[data_cf[\"pickup_longitude\"] < lowerlimit]"
   ]
  },
  {
   "cell_type": "code",
   "execution_count": null,
   "metadata": {
    "execution": {
     "iopub.execute_input": "2025-02-04T08:37:12.484889Z",
     "iopub.status.busy": "2025-02-04T08:37:12.484497Z",
     "iopub.status.idle": "2025-02-04T08:37:12.527322Z",
     "shell.execute_reply": "2025-02-04T08:37:12.526291Z",
     "shell.execute_reply.started": "2025-02-04T08:37:12.484844Z"
    },
    "trusted": true
   },
   "outputs": [],
   "source": [
    "data_cf = data_cf.drop(data_cf[data_cf[\"pickup_longitude\"] > upperlimit].index)"
   ]
  },
  {
   "cell_type": "code",
   "execution_count": null,
   "metadata": {
    "execution": {
     "iopub.execute_input": "2025-02-04T08:37:12.528893Z",
     "iopub.status.busy": "2025-02-04T08:37:12.528569Z",
     "iopub.status.idle": "2025-02-04T08:37:12.555273Z",
     "shell.execute_reply": "2025-02-04T08:37:12.554269Z",
     "shell.execute_reply.started": "2025-02-04T08:37:12.528862Z"
    },
    "trusted": true
   },
   "outputs": [],
   "source": [
    "data_cf = data_cf.drop(data_cf[data_cf[\"pickup_longitude\"] < lowerlimit].index)"
   ]
  },
  {
   "cell_type": "code",
   "execution_count": null,
   "metadata": {
    "execution": {
     "iopub.execute_input": "2025-02-04T08:37:12.556967Z",
     "iopub.status.busy": "2025-02-04T08:37:12.556544Z",
     "iopub.status.idle": "2025-02-04T08:37:12.563370Z",
     "shell.execute_reply": "2025-02-04T08:37:12.562246Z",
     "shell.execute_reply.started": "2025-02-04T08:37:12.556926Z"
    },
    "trusted": true
   },
   "outputs": [],
   "source": [
    "data_cf.shape"
   ]
  },
  {
   "cell_type": "code",
   "execution_count": null,
   "metadata": {
    "execution": {
     "iopub.execute_input": "2025-02-04T08:37:12.564943Z",
     "iopub.status.busy": "2025-02-04T08:37:12.564547Z",
     "iopub.status.idle": "2025-02-04T08:37:12.584594Z",
     "shell.execute_reply": "2025-02-04T08:37:12.583323Z",
     "shell.execute_reply.started": "2025-02-04T08:37:12.564902Z"
    },
    "trusted": true
   },
   "outputs": [],
   "source": [
    "### Check new skew\n",
    "data_cf[\"pickup_longitude\"].skew()"
   ]
  },
  {
   "cell_type": "code",
   "execution_count": null,
   "metadata": {
    "execution": {
     "iopub.execute_input": "2025-02-04T08:37:12.586158Z",
     "iopub.status.busy": "2025-02-04T08:37:12.585709Z",
     "iopub.status.idle": "2025-02-04T08:37:13.532978Z",
     "shell.execute_reply": "2025-02-04T08:37:13.531786Z",
     "shell.execute_reply.started": "2025-02-04T08:37:12.586116Z"
    },
    "trusted": true
   },
   "outputs": [],
   "source": [
    "plt.figure(figsize = (10,5))\n",
    "sns.distplot(data_cf[\"pickup_longitude\"], color=\"purple\")\n",
    "plt.show()"
   ]
  },
  {
   "cell_type": "code",
   "execution_count": null,
   "metadata": {
    "execution": {
     "iopub.execute_input": "2025-02-04T08:37:13.681190Z",
     "iopub.status.busy": "2025-02-04T08:37:13.680800Z",
     "iopub.status.idle": "2025-02-04T08:37:13.698869Z",
     "shell.execute_reply": "2025-02-04T08:37:13.697248Z",
     "shell.execute_reply.started": "2025-02-04T08:37:13.681154Z"
    },
    "trusted": true
   },
   "outputs": [],
   "source": [
    "### Calculation of 25th and 75th percentiles\n",
    "percentile25 = data_cf[\"pickup_latitude\"].quantile(0.25)\n",
    "percentile75 = data_cf[\"pickup_latitude\"].quantile(0.75)"
   ]
  },
  {
   "cell_type": "code",
   "execution_count": null,
   "metadata": {
    "execution": {
     "iopub.execute_input": "2025-02-04T08:37:13.701280Z",
     "iopub.status.busy": "2025-02-04T08:37:13.700862Z",
     "iopub.status.idle": "2025-02-04T08:37:13.713259Z",
     "shell.execute_reply": "2025-02-04T08:37:13.712226Z",
     "shell.execute_reply.started": "2025-02-04T08:37:13.701242Z"
    },
    "trusted": true
   },
   "outputs": [],
   "source": [
    "### Calculation Interquartile Range\n",
    "IQR = percentile75 - percentile25\n",
    "IQR"
   ]
  },
  {
   "cell_type": "code",
   "execution_count": null,
   "metadata": {
    "execution": {
     "iopub.execute_input": "2025-02-04T08:37:13.714585Z",
     "iopub.status.busy": "2025-02-04T08:37:13.714241Z",
     "iopub.status.idle": "2025-02-04T08:37:13.730675Z",
     "shell.execute_reply": "2025-02-04T08:37:13.729279Z",
     "shell.execute_reply.started": "2025-02-04T08:37:13.714555Z"
    },
    "trusted": true
   },
   "outputs": [],
   "source": [
    "### Defining limits\n",
    "upperlimit = percentile75 + 1.5 * IQR\n",
    "lowerlimit = percentile25 - 1.5 * IQR"
   ]
  },
  {
   "cell_type": "code",
   "execution_count": null,
   "metadata": {
    "execution": {
     "iopub.execute_input": "2025-02-04T08:37:13.732209Z",
     "iopub.status.busy": "2025-02-04T08:37:13.731840Z",
     "iopub.status.idle": "2025-02-04T08:37:13.773898Z",
     "shell.execute_reply": "2025-02-04T08:37:13.772820Z",
     "shell.execute_reply.started": "2025-02-04T08:37:13.732169Z"
    },
    "trusted": true
   },
   "outputs": [],
   "source": [
    "data_cf[data_cf[\"pickup_latitude\"] > upperlimit]"
   ]
  },
  {
   "cell_type": "code",
   "execution_count": null,
   "metadata": {
    "execution": {
     "iopub.execute_input": "2025-02-04T08:37:13.775221Z",
     "iopub.status.busy": "2025-02-04T08:37:13.774883Z",
     "iopub.status.idle": "2025-02-04T08:37:13.801779Z",
     "shell.execute_reply": "2025-02-04T08:37:13.800470Z",
     "shell.execute_reply.started": "2025-02-04T08:37:13.775191Z"
    },
    "trusted": true
   },
   "outputs": [],
   "source": [
    "data_cf[data_cf[\"pickup_latitude\"] < lowerlimit]"
   ]
  },
  {
   "cell_type": "code",
   "execution_count": null,
   "metadata": {
    "execution": {
     "iopub.execute_input": "2025-02-04T08:37:13.804328Z",
     "iopub.status.busy": "2025-02-04T08:37:13.803769Z",
     "iopub.status.idle": "2025-02-04T08:37:13.852865Z",
     "shell.execute_reply": "2025-02-04T08:37:13.851758Z",
     "shell.execute_reply.started": "2025-02-04T08:37:13.804275Z"
    },
    "trusted": true
   },
   "outputs": [],
   "source": [
    "data_cf = data_cf.drop(data_cf[data_cf[\"pickup_latitude\"] > upperlimit].index)\n",
    "data_cf = data_cf.drop(data_cf[data_cf[\"pickup_latitude\"] < lowerlimit].index)\n",
    "data_cf.shape"
   ]
  },
  {
   "cell_type": "code",
   "execution_count": null,
   "metadata": {
    "execution": {
     "iopub.execute_input": "2025-02-04T08:37:14.878148Z",
     "iopub.status.busy": "2025-02-04T08:37:14.877731Z",
     "iopub.status.idle": "2025-02-04T08:37:14.888088Z",
     "shell.execute_reply": "2025-02-04T08:37:14.886920Z",
     "shell.execute_reply.started": "2025-02-04T08:37:14.878105Z"
    },
    "trusted": true
   },
   "outputs": [],
   "source": [
    "### Check new skew\n",
    "data_cf[\"pickup_latitude\"].skew()"
   ]
  },
  {
   "cell_type": "code",
   "execution_count": null,
   "metadata": {
    "execution": {
     "iopub.execute_input": "2025-02-04T08:37:15.103599Z",
     "iopub.status.busy": "2025-02-04T08:37:15.103224Z",
     "iopub.status.idle": "2025-02-04T08:37:15.116551Z",
     "shell.execute_reply": "2025-02-04T08:37:15.115529Z",
     "shell.execute_reply.started": "2025-02-04T08:37:15.103568Z"
    },
    "trusted": true
   },
   "outputs": [],
   "source": [
    "### Calculation of 25th and 75th percentiles\n",
    "percentile25 = data_cf[\"dropoff_longitude\"].quantile(0.25)\n",
    "percentile75 = data_cf[\"dropoff_longitude\"].quantile(0.75)"
   ]
  },
  {
   "cell_type": "code",
   "execution_count": null,
   "metadata": {
    "execution": {
     "iopub.execute_input": "2025-02-04T08:37:15.117990Z",
     "iopub.status.busy": "2025-02-04T08:37:15.117576Z",
     "iopub.status.idle": "2025-02-04T08:37:15.133675Z",
     "shell.execute_reply": "2025-02-04T08:37:15.132457Z",
     "shell.execute_reply.started": "2025-02-04T08:37:15.117959Z"
    },
    "trusted": true
   },
   "outputs": [],
   "source": [
    "### Calculation Interquartile Range\n",
    "IQR = percentile75 - percentile25\n",
    "IQR"
   ]
  },
  {
   "cell_type": "code",
   "execution_count": null,
   "metadata": {
    "execution": {
     "iopub.execute_input": "2025-02-04T08:37:15.135018Z",
     "iopub.status.busy": "2025-02-04T08:37:15.134725Z",
     "iopub.status.idle": "2025-02-04T08:37:15.153470Z",
     "shell.execute_reply": "2025-02-04T08:37:15.152252Z",
     "shell.execute_reply.started": "2025-02-04T08:37:15.134990Z"
    },
    "trusted": true
   },
   "outputs": [],
   "source": [
    "### Defining limits\n",
    "upperlimit = percentile75 + 1.5 * IQR\n",
    "lowerlimt = percentile25 - 1.5 * IQR"
   ]
  },
  {
   "cell_type": "code",
   "execution_count": null,
   "metadata": {
    "execution": {
     "iopub.execute_input": "2025-02-04T08:37:15.154876Z",
     "iopub.status.busy": "2025-02-04T08:37:15.154565Z",
     "iopub.status.idle": "2025-02-04T08:37:15.197434Z",
     "shell.execute_reply": "2025-02-04T08:37:15.196145Z",
     "shell.execute_reply.started": "2025-02-04T08:37:15.154848Z"
    },
    "trusted": true
   },
   "outputs": [],
   "source": [
    "data_cf[data_cf[\"dropoff_longitude\"] > upperlimit]\n"
   ]
  },
  {
   "cell_type": "code",
   "execution_count": null,
   "metadata": {
    "execution": {
     "iopub.execute_input": "2025-02-04T08:37:15.199273Z",
     "iopub.status.busy": "2025-02-04T08:37:15.198799Z",
     "iopub.status.idle": "2025-02-04T08:37:15.225169Z",
     "shell.execute_reply": "2025-02-04T08:37:15.223951Z",
     "shell.execute_reply.started": "2025-02-04T08:37:15.199226Z"
    },
    "trusted": true
   },
   "outputs": [],
   "source": [
    "data_cf[data_cf[\"dropoff_longitude\"] < lowerlimt]"
   ]
  },
  {
   "cell_type": "code",
   "execution_count": null,
   "metadata": {
    "execution": {
     "iopub.execute_input": "2025-02-04T08:37:15.226972Z",
     "iopub.status.busy": "2025-02-04T08:37:15.226607Z",
     "iopub.status.idle": "2025-02-04T08:37:15.277891Z",
     "shell.execute_reply": "2025-02-04T08:37:15.276519Z",
     "shell.execute_reply.started": "2025-02-04T08:37:15.226929Z"
    },
    "trusted": true
   },
   "outputs": [],
   "source": [
    "data_cf = data_cf.drop(data_cf[data_cf[\"dropoff_longitude\"] > upperlimit].index)\n",
    "data_cf = data_cf.drop(data_cf[data_cf[\"dropoff_longitude\"] < lowerlimt].index)\n",
    "data_cf.shape"
   ]
  },
  {
   "cell_type": "code",
   "execution_count": null,
   "metadata": {
    "execution": {
     "iopub.execute_input": "2025-02-04T08:37:15.279252Z",
     "iopub.status.busy": "2025-02-04T08:37:15.278793Z",
     "iopub.status.idle": "2025-02-04T08:37:15.287766Z",
     "shell.execute_reply": "2025-02-04T08:37:15.286622Z",
     "shell.execute_reply.started": "2025-02-04T08:37:15.279217Z"
    },
    "trusted": true
   },
   "outputs": [],
   "source": [
    "### Check new skew\n",
    "data_cf[\"dropoff_longitude\"].skew()"
   ]
  },
  {
   "cell_type": "code",
   "execution_count": null,
   "metadata": {
    "execution": {
     "iopub.execute_input": "2025-02-04T08:37:16.403355Z",
     "iopub.status.busy": "2025-02-04T08:37:16.402970Z",
     "iopub.status.idle": "2025-02-04T08:37:16.418606Z",
     "shell.execute_reply": "2025-02-04T08:37:16.417426Z",
     "shell.execute_reply.started": "2025-02-04T08:37:16.403318Z"
    },
    "trusted": true
   },
   "outputs": [],
   "source": [
    "### Calculation of 25th and 75th percentiles\n",
    "percentile25 = data_cf[\"dropoff_latitude\"].quantile(0.25)\n",
    "percentile75 = data_cf[\"dropoff_latitude\"].quantile(0.75)"
   ]
  },
  {
   "cell_type": "code",
   "execution_count": null,
   "metadata": {
    "execution": {
     "iopub.execute_input": "2025-02-04T08:37:16.420095Z",
     "iopub.status.busy": "2025-02-04T08:37:16.419719Z",
     "iopub.status.idle": "2025-02-04T08:37:16.429476Z",
     "shell.execute_reply": "2025-02-04T08:37:16.428508Z",
     "shell.execute_reply.started": "2025-02-04T08:37:16.420056Z"
    },
    "trusted": true
   },
   "outputs": [],
   "source": [
    "### Calculation Interquartile Range\n",
    "IQR = percentile75 - percentile25\n",
    "IQR"
   ]
  },
  {
   "cell_type": "code",
   "execution_count": null,
   "metadata": {
    "execution": {
     "iopub.execute_input": "2025-02-04T08:37:16.430950Z",
     "iopub.status.busy": "2025-02-04T08:37:16.430567Z",
     "iopub.status.idle": "2025-02-04T08:37:16.448055Z",
     "shell.execute_reply": "2025-02-04T08:37:16.446956Z",
     "shell.execute_reply.started": "2025-02-04T08:37:16.430911Z"
    },
    "trusted": true
   },
   "outputs": [],
   "source": [
    "### Defining limits\n",
    "upperlimit = percentile75 + 1.5 * IQR\n",
    "lowerlimit = percentile25 - 1.5 * IQR"
   ]
  },
  {
   "cell_type": "code",
   "execution_count": null,
   "metadata": {
    "execution": {
     "iopub.execute_input": "2025-02-04T08:37:16.449527Z",
     "iopub.status.busy": "2025-02-04T08:37:16.449181Z",
     "iopub.status.idle": "2025-02-04T08:37:16.486763Z",
     "shell.execute_reply": "2025-02-04T08:37:16.485639Z",
     "shell.execute_reply.started": "2025-02-04T08:37:16.449498Z"
    },
    "trusted": true
   },
   "outputs": [],
   "source": [
    "data_cf[data_cf[\"dropoff_latitude\"] > upperlimit]\n"
   ]
  },
  {
   "cell_type": "code",
   "execution_count": null,
   "metadata": {
    "execution": {
     "iopub.execute_input": "2025-02-04T08:37:16.488117Z",
     "iopub.status.busy": "2025-02-04T08:37:16.487788Z",
     "iopub.status.idle": "2025-02-04T08:37:16.515461Z",
     "shell.execute_reply": "2025-02-04T08:37:16.514262Z",
     "shell.execute_reply.started": "2025-02-04T08:37:16.488089Z"
    },
    "trusted": true
   },
   "outputs": [],
   "source": [
    "data_cf[data_cf[\"dropoff_latitude\"] < lowerlimit]"
   ]
  },
  {
   "cell_type": "code",
   "execution_count": null,
   "metadata": {
    "execution": {
     "iopub.execute_input": "2025-02-04T08:37:16.516817Z",
     "iopub.status.busy": "2025-02-04T08:37:16.516494Z",
     "iopub.status.idle": "2025-02-04T08:37:16.561914Z",
     "shell.execute_reply": "2025-02-04T08:37:16.560956Z",
     "shell.execute_reply.started": "2025-02-04T08:37:16.516789Z"
    },
    "trusted": true
   },
   "outputs": [],
   "source": [
    "data_cf = data_cf.drop(data_cf[data_cf[\"dropoff_latitude\"] > upperlimit].index)\n",
    "data_cf = data_cf.drop(data_cf[data_cf[\"dropoff_latitude\"] < lowerlimit].index)\n",
    "data_cf.shape"
   ]
  },
  {
   "cell_type": "code",
   "execution_count": null,
   "metadata": {
    "execution": {
     "iopub.execute_input": "2025-02-04T08:37:17.458554Z",
     "iopub.status.busy": "2025-02-04T08:37:17.458135Z",
     "iopub.status.idle": "2025-02-04T08:37:17.467637Z",
     "shell.execute_reply": "2025-02-04T08:37:17.466534Z",
     "shell.execute_reply.started": "2025-02-04T08:37:17.458512Z"
    },
    "trusted": true
   },
   "outputs": [],
   "source": [
    "### Check new skew\n",
    "data_cf[\"dropoff_latitude\"].skew()"
   ]
  },
  {
   "cell_type": "code",
   "execution_count": null,
   "metadata": {
    "execution": {
     "iopub.execute_input": "2025-02-04T08:37:17.651849Z",
     "iopub.status.busy": "2025-02-04T08:37:17.651585Z",
     "iopub.status.idle": "2025-02-04T08:37:25.365266Z",
     "shell.execute_reply": "2025-02-04T08:37:25.363988Z",
     "shell.execute_reply.started": "2025-02-04T08:37:17.651825Z"
    },
    "trusted": true
   },
   "outputs": [],
   "source": [
    "data_cf.hist(bins=50, figsize=(25, 10), color=\"purple\")\n",
    "plt.tight_layout()\n",
    "plt.show()"
   ]
  },
  {
   "cell_type": "code",
   "execution_count": null,
   "metadata": {
    "execution": {
     "iopub.execute_input": "2025-02-04T08:37:25.367845Z",
     "iopub.status.busy": "2025-02-04T08:37:25.367486Z",
     "iopub.status.idle": "2025-02-04T08:37:25.374816Z",
     "shell.execute_reply": "2025-02-04T08:37:25.373292Z",
     "shell.execute_reply.started": "2025-02-04T08:37:25.367813Z"
    },
    "trusted": true
   },
   "outputs": [],
   "source": [
    "data_cf.shape"
   ]
  },
  {
   "cell_type": "markdown",
   "metadata": {},
   "source": [
    "## Data Manipulation ##"
   ]
  },
  {
   "cell_type": "code",
   "execution_count": null,
   "metadata": {
    "execution": {
     "iopub.execute_input": "2025-02-04T08:37:25.376652Z",
     "iopub.status.busy": "2025-02-04T08:37:25.376174Z",
     "iopub.status.idle": "2025-02-04T08:37:25.461572Z",
     "shell.execute_reply": "2025-02-04T08:37:25.460544Z",
     "shell.execute_reply.started": "2025-02-04T08:37:25.376606Z"
    },
    "trusted": true
   },
   "outputs": [],
   "source": [
    "### Splitting the data into training and test sets\n",
    "X = data_cf.drop([\"fare_amount\"],axis = 1)\n",
    "y = data_cf[\"fare_amount\"]\n",
    "\n",
    "X_train,X_test,y_train,y_test = train_test_split(X,y,test_size=0.2,random_state=100)\n",
    "\n",
    "print(X.shape,y.shape,X_train.shape,X_test.shape,y_train.shape,y_test.shape)"
   ]
  },
  {
   "cell_type": "code",
   "execution_count": null,
   "metadata": {
    "execution": {
     "iopub.execute_input": "2025-02-04T08:37:25.462799Z",
     "iopub.status.busy": "2025-02-04T08:37:25.462501Z",
     "iopub.status.idle": "2025-02-04T08:37:25.574715Z",
     "shell.execute_reply": "2025-02-04T08:37:25.573577Z",
     "shell.execute_reply.started": "2025-02-04T08:37:25.462770Z"
    },
    "trusted": true
   },
   "outputs": [],
   "source": [
    "### Sets standardization\n",
    "std = StandardScaler()\n",
    "\n",
    "X_train_std = std.fit_transform(X_train)\n",
    "X_test_std = std.transform(X_test)"
   ]
  },
  {
   "cell_type": "code",
   "execution_count": null,
   "metadata": {
    "execution": {
     "iopub.execute_input": "2025-02-04T08:37:25.576028Z",
     "iopub.status.busy": "2025-02-04T08:37:25.575655Z",
     "iopub.status.idle": "2025-02-04T08:37:25.583622Z",
     "shell.execute_reply": "2025-02-04T08:37:25.582434Z",
     "shell.execute_reply.started": "2025-02-04T08:37:25.575990Z"
    },
    "trusted": true
   },
   "outputs": [],
   "source": [
    "X_train_std"
   ]
  },
  {
   "cell_type": "code",
   "execution_count": null,
   "metadata": {
    "execution": {
     "iopub.execute_input": "2025-02-04T08:37:25.584932Z",
     "iopub.status.busy": "2025-02-04T08:37:25.584641Z",
     "iopub.status.idle": "2025-02-04T08:37:25.601885Z",
     "shell.execute_reply": "2025-02-04T08:37:25.600554Z",
     "shell.execute_reply.started": "2025-02-04T08:37:25.584904Z"
    },
    "trusted": true
   },
   "outputs": [],
   "source": [
    "X_test_std"
   ]
  },
  {
   "cell_type": "markdown",
   "metadata": {},
   "source": [
    "## LinearRegression ##"
   ]
  },
  {
   "cell_type": "code",
   "execution_count": null,
   "metadata": {
    "execution": {
     "iopub.execute_input": "2025-02-04T08:37:25.603438Z",
     "iopub.status.busy": "2025-02-04T08:37:25.603059Z",
     "iopub.status.idle": "2025-02-04T08:37:25.621578Z",
     "shell.execute_reply": "2025-02-04T08:37:25.620517Z",
     "shell.execute_reply.started": "2025-02-04T08:37:25.603384Z"
    },
    "trusted": true
   },
   "outputs": [],
   "source": [
    "LinearRegression = LinearRegression()"
   ]
  },
  {
   "cell_type": "code",
   "execution_count": null,
   "metadata": {
    "execution": {
     "iopub.execute_input": "2025-02-04T08:37:25.622862Z",
     "iopub.status.busy": "2025-02-04T08:37:25.622569Z",
     "iopub.status.idle": "2025-02-04T08:37:25.956938Z",
     "shell.execute_reply": "2025-02-04T08:37:25.955842Z",
     "shell.execute_reply.started": "2025-02-04T08:37:25.622835Z"
    },
    "trusted": true
   },
   "outputs": [],
   "source": [
    "### Model training\n",
    "LinearRegression.fit(X_train_std, y_train)"
   ]
  },
  {
   "cell_type": "code",
   "execution_count": null,
   "metadata": {
    "execution": {
     "iopub.execute_input": "2025-02-04T08:37:25.958075Z",
     "iopub.status.busy": "2025-02-04T08:37:25.957723Z",
     "iopub.status.idle": "2025-02-04T08:37:26.002106Z",
     "shell.execute_reply": "2025-02-04T08:37:25.998402Z",
     "shell.execute_reply.started": "2025-02-04T08:37:25.958041Z"
    },
    "trusted": true
   },
   "outputs": [],
   "source": [
    "### Checking the accuracy result of Linear Regression\n",
    "print(\"Train Accuracy\", LinearRegression.score(X_train_std,y_train))\n",
    "print(\"Test Accuracy\", LinearRegression.score(X_test_std,y_test))"
   ]
  },
  {
   "cell_type": "markdown",
   "metadata": {},
   "source": [
    "## Ridge of Regression ##"
   ]
  },
  {
   "cell_type": "code",
   "execution_count": null,
   "metadata": {
    "execution": {
     "iopub.execute_input": "2025-02-04T08:37:26.003281Z",
     "iopub.status.busy": "2025-02-04T08:37:26.002942Z",
     "iopub.status.idle": "2025-02-04T08:37:26.019577Z",
     "shell.execute_reply": "2025-02-04T08:37:26.015592Z",
     "shell.execute_reply.started": "2025-02-04T08:37:26.003251Z"
    },
    "trusted": true
   },
   "outputs": [],
   "source": [
    "ridge = Ridge(random_state=0,alpha=0.1)"
   ]
  },
  {
   "cell_type": "code",
   "execution_count": null,
   "metadata": {
    "execution": {
     "iopub.execute_input": "2025-02-04T08:37:26.021313Z",
     "iopub.status.busy": "2025-02-04T08:37:26.020949Z",
     "iopub.status.idle": "2025-02-04T08:37:26.123261Z",
     "shell.execute_reply": "2025-02-04T08:37:26.119661Z",
     "shell.execute_reply.started": "2025-02-04T08:37:26.021280Z"
    },
    "trusted": true
   },
   "outputs": [],
   "source": [
    "### Model training\n",
    "ridge.fit(X_train,y_train)"
   ]
  },
  {
   "cell_type": "code",
   "execution_count": null,
   "metadata": {
    "execution": {
     "iopub.execute_input": "2025-02-04T08:37:26.125466Z",
     "iopub.status.busy": "2025-02-04T08:37:26.124546Z",
     "iopub.status.idle": "2025-02-04T08:37:26.176523Z",
     "shell.execute_reply": "2025-02-04T08:37:26.174385Z",
     "shell.execute_reply.started": "2025-02-04T08:37:26.125391Z"
    },
    "trusted": true
   },
   "outputs": [],
   "source": [
    "### Checking the accuracy result of Ridge of Regression\n",
    "print(\"Train Accuracy\",ridge.score(X_train,y_train))\n",
    "print(\"Test Accuracy\", ridge.score(X_test,y_test))"
   ]
  },
  {
   "cell_type": "markdown",
   "metadata": {},
   "source": [
    "## Random Forest Regressor ##"
   ]
  },
  {
   "cell_type": "code",
   "execution_count": null,
   "metadata": {
    "execution": {
     "iopub.execute_input": "2025-02-04T08:42:19.823540Z",
     "iopub.status.busy": "2025-02-04T08:42:19.823148Z",
     "iopub.status.idle": "2025-02-04T08:42:19.830982Z",
     "shell.execute_reply": "2025-02-04T08:42:19.829623Z",
     "shell.execute_reply.started": "2025-02-04T08:42:19.823505Z"
    },
    "trusted": true
   },
   "outputs": [],
   "source": [
    "### Settings and Splitting the data into training and test sets\n",
    "X,y = make_regression(n_features=3, n_informative=1,random_state=0, shuffle=False)\n",
    "X_train,X_test,y_train,y_test = train_test_split(X,y,test_size=0.2,random_state=100)"
   ]
  },
  {
   "cell_type": "code",
   "execution_count": null,
   "metadata": {
    "execution": {
     "iopub.execute_input": "2025-02-04T08:42:24.293391Z",
     "iopub.status.busy": "2025-02-04T08:42:24.293034Z",
     "iopub.status.idle": "2025-02-04T08:42:24.442513Z",
     "shell.execute_reply": "2025-02-04T08:42:24.441236Z",
     "shell.execute_reply.started": "2025-02-04T08:42:24.293360Z"
    },
    "trusted": true
   },
   "outputs": [],
   "source": [
    "### Model training\n",
    "RandomForest = RandomForestRegressor(max_depth=11, random_state=0)\n",
    "RandomForest.fit(X_train,y_train)"
   ]
  },
  {
   "cell_type": "code",
   "execution_count": null,
   "metadata": {
    "execution": {
     "iopub.execute_input": "2025-02-04T08:42:27.763662Z",
     "iopub.status.busy": "2025-02-04T08:42:27.763281Z",
     "iopub.status.idle": "2025-02-04T08:42:27.782132Z",
     "shell.execute_reply": "2025-02-04T08:42:27.780899Z",
     "shell.execute_reply.started": "2025-02-04T08:42:27.763630Z"
    },
    "trusted": true
   },
   "outputs": [],
   "source": [
    "### Checking the accuracy result of Random Forest Regressor\n",
    "print(\"Train Accuracy\", RandomForest.score(X_train,y_train))\n",
    "print(\"Test Accuracy\", RandomForest.score(X_test,y_test))"
   ]
  },
  {
   "cell_type": "markdown",
   "metadata": {},
   "source": [
    "## XGBoost ##"
   ]
  },
  {
   "cell_type": "code",
   "execution_count": null,
   "metadata": {
    "execution": {
     "iopub.execute_input": "2025-02-04T08:47:22.302646Z",
     "iopub.status.busy": "2025-02-04T08:47:22.302255Z",
     "iopub.status.idle": "2025-02-04T08:47:22.308059Z",
     "shell.execute_reply": "2025-02-04T08:47:22.306312Z",
     "shell.execute_reply.started": "2025-02-04T08:47:22.302614Z"
    },
    "trusted": true
   },
   "outputs": [],
   "source": [
    "### Setting model XGBRegressor\n",
    "xgb_r = xg.XGBRegressor(objective ='reg:linear', max_depth = 6,\n",
    "                        max_leaf_nodes = 2,\n",
    "                        n_estimators = 165, seed = 123) "
   ]
  },
  {
   "cell_type": "code",
   "execution_count": null,
   "metadata": {
    "execution": {
     "iopub.execute_input": "2025-02-04T08:47:24.389264Z",
     "iopub.status.busy": "2025-02-04T08:47:24.388869Z",
     "iopub.status.idle": "2025-02-04T08:47:24.478441Z",
     "shell.execute_reply": "2025-02-04T08:47:24.476936Z",
     "shell.execute_reply.started": "2025-02-04T08:47:24.389233Z"
    },
    "trusted": true
   },
   "outputs": [],
   "source": [
    "### Model training\n",
    "xgb_r.fit(X_train,y_train)"
   ]
  },
  {
   "cell_type": "code",
   "execution_count": null,
   "metadata": {
    "execution": {
     "iopub.execute_input": "2025-02-04T08:47:26.274718Z",
     "iopub.status.busy": "2025-02-04T08:47:26.274306Z",
     "iopub.status.idle": "2025-02-04T08:47:26.285444Z",
     "shell.execute_reply": "2025-02-04T08:47:26.284543Z",
     "shell.execute_reply.started": "2025-02-04T08:47:26.274685Z"
    },
    "trusted": true
   },
   "outputs": [],
   "source": [
    "### Predicting values on a test set\n",
    "y_pred = xgb_r.predict(X_test)\n",
    "y_pred"
   ]
  },
  {
   "cell_type": "code",
   "execution_count": null,
   "metadata": {
    "execution": {
     "iopub.execute_input": "2025-02-04T08:47:28.138528Z",
     "iopub.status.busy": "2025-02-04T08:47:28.138150Z",
     "iopub.status.idle": "2025-02-04T08:47:28.145205Z",
     "shell.execute_reply": "2025-02-04T08:47:28.143805Z",
     "shell.execute_reply.started": "2025-02-04T08:47:28.138496Z"
    },
    "trusted": true
   },
   "outputs": [],
   "source": [
    "### Calculation of MSE\n",
    "rmse = np.sqrt(MSE(y_test, y_pred)) \n",
    "print(\"RMSE : % f\" %(rmse)) "
   ]
  },
  {
   "cell_type": "code",
   "execution_count": null,
   "metadata": {
    "execution": {
     "iopub.execute_input": "2025-02-04T08:47:34.018835Z",
     "iopub.status.busy": "2025-02-04T08:47:34.018484Z",
     "iopub.status.idle": "2025-02-04T08:47:34.028283Z",
     "shell.execute_reply": "2025-02-04T08:47:34.026860Z",
     "shell.execute_reply.started": "2025-02-04T08:47:34.018809Z"
    },
    "trusted": true
   },
   "outputs": [],
   "source": [
    "### Checking the accuracy result of XGBRegressor\n",
    "print(\"Train Accuracy\",xgb_r.score(X_train,y_train))\n",
    "print(\"Test Accuracy\", xgb_r.score(X_test,y_test))"
   ]
  }
 ],
 "metadata": {
  "kaggle": {
   "accelerator": "none",
   "dataSources": [
    {
     "datasetId": 6384412,
     "sourceId": 10313004,
     "sourceType": "datasetVersion"
    }
   ],
   "dockerImageVersionId": 30822,
   "isGpuEnabled": false,
   "isInternetEnabled": true,
   "language": "python",
   "sourceType": "notebook"
  },
  "kernelspec": {
   "display_name": "base",
   "language": "python",
   "name": "python3"
  },
  "language_info": {
   "codemirror_mode": {
    "name": "ipython",
    "version": 3
   },
   "file_extension": ".py",
   "mimetype": "text/x-python",
   "name": "python",
   "nbconvert_exporter": "python",
   "pygments_lexer": "ipython3",
   "version": "3.12.2"
  }
 },
 "nbformat": 4,
 "nbformat_minor": 4
}
