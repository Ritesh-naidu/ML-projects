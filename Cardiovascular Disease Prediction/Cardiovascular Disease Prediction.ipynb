{
 "cells": [
  {
   "cell_type": "markdown",
   "metadata": {
    "_uuid": "a22ddf4642676ac912197f0f5e4c52bd2d01d9bf"
   },
   "source": [
    "# Cardiovascular disease prediction\n",
    "\n",
    "This code uses 2 algorithms to serve the purpose.\n",
    "Further imporovement is to made."
   ]
  },
  {
   "cell_type": "code",
   "execution_count": null,
   "metadata": {
    "_cell_guid": "b1076dfc-b9ad-4769-8c92-a6c4dae69d19",
    "_uuid": "8f2839f25d086af736a60e9eeb907d3b93b6e0e5",
    "trusted": true
   },
   "outputs": [],
   "source": [
    "# import libraries\n",
    "import numpy as np # linear algebra\n",
    "import pandas as pd # data processing\n",
    "import matplotlib.pyplot as plt\n",
    "import seaborn as sns  # plot\n",
    "\n",
    "from sklearn.model_selection import train_test_split\n",
    "from sklearn.linear_model import LogisticRegression\n",
    "from sklearn.metrics import classification_report,confusion_matrix\n",
    "from sklearn.neighbors import KNeighborsClassifier\n",
    "from sklearn.preprocessing import StandardScaler\n",
    "\n",
    "import warnings\n",
    "warnings.filterwarnings(\"ignore\")"
   ]
  },
  {
   "cell_type": "code",
   "execution_count": null,
   "metadata": {
    "_uuid": "fb1c0fb20780106bd2f268eab717416a798f30fd",
    "trusted": true
   },
   "outputs": [],
   "source": [
    "# load data\n",
    "df = pd.read_csv(\"/Users/riteshkumar/Downloads/ML projects/Cardiovascular Disease Prediction/cardio_train.csv\", sep=\";\")\n",
    "df.head()"
   ]
  },
  {
   "cell_type": "code",
   "execution_count": null,
   "metadata": {},
   "outputs": [],
   "source": [
    "print(df.columns)\n"
   ]
  },
  {
   "cell_type": "code",
   "execution_count": null,
   "metadata": {
    "_cell_guid": "79c7e3d0-c299-4dcb-8224-4455121ee9b0",
    "_uuid": "d629ff2d2480ee46fbb7e2d37f6b5fab8052498a",
    "trusted": true
   },
   "outputs": [],
   "source": [
    "# drop 'id' column \n",
    "df.drop(columns=['id'], errors='ignore', inplace=True)\n"
   ]
  },
  {
   "cell_type": "code",
   "execution_count": null,
   "metadata": {
    "_uuid": "8af131edf16c8ea0fa522aa913085c02f417cfb9",
    "trusted": true
   },
   "outputs": [],
   "source": [
    "df.info()"
   ]
  },
  {
   "cell_type": "code",
   "execution_count": null,
   "metadata": {
    "_uuid": "6cf9b0bf621886a723e3fe56ec193e07df736b99",
    "trusted": true
   },
   "outputs": [],
   "source": [
    "df.describe()"
   ]
  },
  {
   "cell_type": "code",
   "execution_count": null,
   "metadata": {
    "_uuid": "5ddbbdb1a6a0580b5b214e5bb779b1870adfb781",
    "trusted": true
   },
   "outputs": [],
   "source": [
    "# visualize cardio with gender\n",
    "sns.countplot(x='cardio',data=df,hue='gender',palette='rainbow')"
   ]
  },
  {
   "cell_type": "code",
   "execution_count": null,
   "metadata": {
    "_uuid": "6f9d63f4029ce27b9cda5ed948f81d3f2413e334",
    "trusted": true
   },
   "outputs": [],
   "source": [
    "# distribution wrt age\n",
    "sns.boxplot(x='cardio',y='age',data=df)"
   ]
  },
  {
   "cell_type": "code",
   "execution_count": null,
   "metadata": {
    "_uuid": "638178235a6200ca463601bfcd41751b70d2fe64",
    "trusted": true
   },
   "outputs": [],
   "source": [
    "plt.figure(figsize=(14,6))\n",
    "plt.subplot(1,2,1)\n",
    "sns.boxplot(x='cardio',y='height',data=df,palette='winter')\n",
    "plt.subplot(1,2,2)\n",
    "sns.boxplot(x='cardio',y='weight',data=df,palette='summer')"
   ]
  },
  {
   "cell_type": "code",
   "execution_count": null,
   "metadata": {
    "_uuid": "ee99724726b91d45fe6b0e6ae06063269e9b565d",
    "trusted": true
   },
   "outputs": [],
   "source": [
    "# correlations with target class\n",
    "correlations = df.corr()['cardio'].drop('cardio')\n",
    "print(correlations)"
   ]
  },
  {
   "cell_type": "code",
   "execution_count": null,
   "metadata": {
    "_uuid": "74d503122e1fa343da094474f44e913f5ae9a976",
    "trusted": true
   },
   "outputs": [],
   "source": [
    "def feat_select(threshold):\n",
    "    abs_cor = correlations.abs()\n",
    "    features = abs_cor[abs_cor > threshold].index.tolist()\n",
    "    return features"
   ]
  },
  {
   "cell_type": "code",
   "execution_count": null,
   "metadata": {
    "_uuid": "4224b101c3100d98e01a9fcb30c5033ba828ebd3",
    "trusted": true
   },
   "outputs": [],
   "source": [
    "def model(mod,X_tr,X_te):\n",
    "    mod.fit(X_tr,y_train)\n",
    "    pred = mod.predict(X_te)\n",
    "    print('Model score = ',mod.score(X_te,y_test)*100,'%')"
   ]
  },
  {
   "cell_type": "code",
   "execution_count": null,
   "metadata": {
    "_uuid": "46cd16d19c7c75ad3afd0e60bf46869402df5741",
    "trusted": true
   },
   "outputs": [],
   "source": [
    "# split data\n",
    "msk = np.random.rand(len(df))<0.85\n",
    "df_train_test = df[msk]\n",
    "df_val = df[~msk]\n",
    "\n",
    "X = df_train_test.drop('cardio',axis=1)\n",
    "y = df_train_test['cardio']\n",
    "X_train,X_test,y_train,y_test = train_test_split(X,y,test_size=0.2,random_state=70)"
   ]
  },
  {
   "cell_type": "code",
   "execution_count": null,
   "metadata": {
    "_uuid": "5b58573360681cb513333132f1912c48ccf022a9",
    "trusted": true
   },
   "outputs": [],
   "source": [
    "# for logistic regression\n",
    "lr = LogisticRegression()"
   ]
  },
  {
   "cell_type": "code",
   "execution_count": null,
   "metadata": {
    "_uuid": "9f5ae6a21451449c01ff2e42b14e20fd5c9f4d48",
    "trusted": true
   },
   "outputs": [],
   "source": [
    "threshold = [0.001,0.002,0.005,0.01,0.05,0.1]\n",
    "for i in threshold:\n",
    "    print('\\n',i)\n",
    "    feature_i = feat_select(i)\n",
    "    X_train_i = X_train[feature_i]\n",
    "    X_test_i = X_test[feature_i]\n",
    "    model(lr,X_train_i,X_test_i)"
   ]
  },
  {
   "cell_type": "code",
   "execution_count": null,
   "metadata": {
    "_uuid": "4903eee926c90b31543ad0a72b4edb7eabd78f00",
    "trusted": true
   },
   "outputs": [],
   "source": [
    "scale = StandardScaler()\n",
    "scale.fit(X_train)\n",
    "X_train_scaled = scale.transform(X_train)\n",
    "X_train_ = pd.DataFrame(X_train_scaled,columns=df.columns[:-1])"
   ]
  },
  {
   "cell_type": "code",
   "execution_count": null,
   "metadata": {
    "_uuid": "f51895d96d89e958107997eea60a3f840164733f",
    "trusted": true
   },
   "outputs": [],
   "source": [
    "scale.fit(X_test)\n",
    "X_test_scaled = scale.transform(X_test)\n",
    "X_test_ = pd.DataFrame(X_test_scaled,columns=df.columns[:-1])"
   ]
  },
  {
   "cell_type": "code",
   "execution_count": null,
   "metadata": {
    "_uuid": "8ebac235cf7b30fdddd5b7fa578e98440960990e",
    "trusted": true
   },
   "outputs": [],
   "source": [
    "# final feature selection with threshold 0.05\n",
    "feat_final = feat_select(0.05)\n",
    "print(feat_final)"
   ]
  },
  {
   "cell_type": "code",
   "execution_count": null,
   "metadata": {
    "_uuid": "d68482a818bc8593fcd8f999c550f9f851cb6123",
    "trusted": true
   },
   "outputs": [],
   "source": [
    "# scaling the val data as well\n",
    "X_train = X_train_[feat_final]\n",
    "X_val = np.asanyarray(df_val[feat_final])\n",
    "y_val = np.asanyarray(df_val['cardio'])\n",
    "\n",
    "scale.fit(X_val)\n",
    "X_val_scaled = scale.transform(X_val)\n",
    "X_val_ = pd.DataFrame(X_val_scaled,columns=df_val[feat_final].columns)"
   ]
  },
  {
   "cell_type": "code",
   "execution_count": null,
   "metadata": {
    "_uuid": "0916cbb19cda2be00cee1b81c6dce63388ae599d",
    "trusted": true
   },
   "outputs": [],
   "source": [
    "# knn with k=15\n",
    "knn = KNeighborsClassifier(n_neighbors=15)\n",
    "knn.fit(X_train,y_train)\n",
    "pred = knn.predict(X_val_)"
   ]
  },
  {
   "cell_type": "code",
   "execution_count": null,
   "metadata": {
    "_uuid": "6df36d0ec702745caf00a4e2ca9410f19f74c209",
    "trusted": true
   },
   "outputs": [],
   "source": [
    "# reports\n",
    "print('Confusion Matrix =\\n',confusion_matrix(y_val,pred))\n",
    "print('\\n',classification_report(y_val,pred))"
   ]
  },
  {
   "cell_type": "code",
   "execution_count": null,
   "metadata": {
    "_uuid": "69f3c10a0910758928245681454e072376ef3fe7",
    "trusted": true
   },
   "outputs": [],
   "source": [
    "# Logistic regression\n",
    "lr.fit(X_train,y_train)\n",
    "pred = lr.predict(X_val_)"
   ]
  },
  {
   "cell_type": "code",
   "execution_count": null,
   "metadata": {
    "_uuid": "332db9e0e83d54291f83317b19a0f2f0c99939b3",
    "trusted": true
   },
   "outputs": [],
   "source": [
    "# reports\n",
    "print('Confusion Matrix =\\n',confusion_matrix(y_val,pred))\n",
    "print('\\n',classification_report(y_val,pred))"
   ]
  },
  {
   "cell_type": "code",
   "execution_count": null,
   "metadata": {},
   "outputs": [],
   "source": [
    "import pickle\n",
    "\n",
    "with open(\"logistic_regression_model.pkl\", \"wb\") as f:\n",
    "    pickle.dump(lr, f)\n",
    "\n",
    "with open(\"knn_model.pkl\", \"wb\") as f:\n",
    "    pickle.dump(knn, f)\n",
    "\n",
    "print(\"Models saved successfully!\")"
   ]
  },
  {
   "cell_type": "markdown",
   "metadata": {
    "_uuid": "01d180055c77aa24a6d622e1f93b7803455a75e4",
    "trusted": true
   },
   "source": [
    "Both give more or less the similar results. I am planning to work on this project to improve performance."
   ]
  }
 ],
 "metadata": {
  "kernelspec": {
   "display_name": "base",
   "language": "python",
   "name": "python3"
  },
  "language_info": {
   "codemirror_mode": {
    "name": "ipython",
    "version": 3
   },
   "file_extension": ".py",
   "mimetype": "text/x-python",
   "name": "python",
   "nbconvert_exporter": "python",
   "pygments_lexer": "ipython3",
   "version": "3.12.2"
  }
 },
 "nbformat": 4,
 "nbformat_minor": 1
}
