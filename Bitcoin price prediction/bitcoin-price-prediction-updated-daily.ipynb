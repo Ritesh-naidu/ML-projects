{
 "cells": [
  {
   "cell_type": "markdown",
   "id": "62ffbbb2",
   "metadata": {
    "_cell_guid": "b1076dfc-b9ad-4769-8c92-a6c4dae69d19",
    "_uuid": "8f2839f25d086af736a60e9eeb907d3b93b6e0e5",
    "execution": {
     "iopub.execute_input": "2022-08-14T19:52:53.814852Z",
     "iopub.status.busy": "2022-08-14T19:52:53.813747Z",
     "iopub.status.idle": "2022-08-14T19:52:53.820841Z",
     "shell.execute_reply": "2022-08-14T19:52:53.81939Z",
     "shell.execute_reply.started": "2022-08-14T19:52:53.814814Z"
    },
    "papermill": {
     "duration": 0.015866,
     "end_time": "2024-12-25T05:10:35.012882",
     "exception": false,
     "start_time": "2024-12-25T05:10:34.997016",
     "status": "completed"
    },
    "tags": []
   },
   "source": [
    "# Import Libraries"
   ]
  },
  {
   "cell_type": "code",
   "execution_count": null,
   "id": "cdd8eff6",
   "metadata": {
    "execution": {
     "iopub.execute_input": "2024-12-25T05:11:02.402566Z",
     "iopub.status.busy": "2024-12-25T05:11:02.402110Z",
     "iopub.status.idle": "2024-12-25T05:11:04.300840Z",
     "shell.execute_reply": "2024-12-25T05:11:04.299659Z"
    },
    "papermill": {
     "duration": 1.918628,
     "end_time": "2024-12-25T05:11:04.303412",
     "exception": false,
     "start_time": "2024-12-25T05:11:02.384784",
     "status": "completed"
    },
    "tags": []
   },
   "outputs": [],
   "source": [
    "import seaborn as sns\n",
    "import yfinance as yf\n",
    "import numpy as np\n",
    "import pandas as pd\n",
    "import plotly.graph_objects as go\n",
    "from datetime import datetime\n",
    "import matplotlib.pyplot as plt\n",
    "from sklearn.model_selection import train_test_split\n",
    "from sklearn.ensemble import RandomForestRegressor\n",
    "from sklearn import metrics\n",
    "from sklearn.metrics import accuracy_score, classification_report, confusion_matrix"
   ]
  },
  {
   "cell_type": "code",
   "execution_count": null,
   "id": "e5073ab8",
   "metadata": {
    "execution": {
     "iopub.execute_input": "2024-12-25T05:11:04.334810Z",
     "iopub.status.busy": "2024-12-25T05:11:04.333235Z",
     "iopub.status.idle": "2024-12-25T05:11:04.339963Z",
     "shell.execute_reply": "2024-12-25T05:11:04.338749Z"
    },
    "papermill": {
     "duration": 0.025244,
     "end_time": "2024-12-25T05:11:04.342821",
     "exception": false,
     "start_time": "2024-12-25T05:11:04.317577",
     "status": "completed"
    },
    "tags": []
   },
   "outputs": [],
   "source": [
    "pd.set_option('display.max_columns', None)\n",
    "\n",
    "import warnings\n",
    "warnings.filterwarnings(\"ignore\")"
   ]
  },
  {
   "cell_type": "markdown",
   "id": "0efe767c",
   "metadata": {
    "papermill": {
     "duration": 0.013969,
     "end_time": "2024-12-25T05:11:04.371127",
     "exception": false,
     "start_time": "2024-12-25T05:11:04.357158",
     "status": "completed"
    },
    "tags": []
   },
   "source": [
    "# data preperation"
   ]
  },
  {
   "cell_type": "code",
   "execution_count": null,
   "id": "b1ff3339",
   "metadata": {
    "execution": {
     "iopub.execute_input": "2024-12-25T05:11:04.401166Z",
     "iopub.status.busy": "2024-12-25T05:11:04.400722Z",
     "iopub.status.idle": "2024-12-25T05:11:04.406107Z",
     "shell.execute_reply": "2024-12-25T05:11:04.405046Z"
    },
    "papermill": {
     "duration": 0.02318,
     "end_time": "2024-12-25T05:11:04.408241",
     "exception": false,
     "start_time": "2024-12-25T05:11:04.385061",
     "status": "completed"
    },
    "tags": []
   },
   "outputs": [],
   "source": [
    "data = pd.read_csv('/Users/riteshkumar/Downloads/ML projects/Bitcoin price prediction/crypto_data_updated_13_november.csv')"
   ]
  },
  {
   "cell_type": "code",
   "execution_count": null,
   "id": "addb9454",
   "metadata": {
    "execution": {
     "iopub.execute_input": "2024-12-25T05:11:04.438070Z",
     "iopub.status.busy": "2024-12-25T05:11:04.437625Z",
     "iopub.status.idle": "2024-12-25T05:11:05.181452Z",
     "shell.execute_reply": "2024-12-25T05:11:05.180044Z"
    },
    "papermill": {
     "duration": 0.761844,
     "end_time": "2024-12-25T05:11:05.184069",
     "exception": false,
     "start_time": "2024-12-25T05:11:04.422225",
     "status": "completed"
    },
    "tags": []
   },
   "outputs": [],
   "source": [
    "btc = yf.Ticker('BTC-USD')\n",
    "prices1 = btc.history(period='5y')\n",
    "prices1.drop(columns=['Open', 'High', 'Low', 'Dividends', 'Stock Splits'], axis = 1, inplace = True)\n",
    "\n",
    "eth = yf.Ticker('ETH-USD')\n",
    "prices2 = eth.history(period='5y')\n",
    "prices2.drop(columns=['Open', 'High', 'Low', 'Dividends', 'Stock Splits'], axis = 1, inplace = True)\n",
    "\n",
    "usdt = yf.Ticker('USDT-USD')\n",
    "prices3 = usdt.history(period='5y')\n",
    "prices3.drop(columns=['Open', 'High', 'Low', 'Dividends', 'Stock Splits'], axis = 1, inplace = True)\n",
    "\n",
    "bnb = yf.Ticker('BNB-USD')\n",
    "prices4 = bnb.history(period='5y')\n",
    "prices4.drop(columns=['Open', 'High', 'Low', 'Dividends', 'Stock Splits'], axis = 1, inplace = True)"
   ]
  },
  {
   "cell_type": "code",
   "execution_count": null,
   "id": "98d72991",
   "metadata": {
    "execution": {
     "iopub.execute_input": "2024-12-25T05:11:05.217044Z",
     "iopub.status.busy": "2024-12-25T05:11:05.216599Z",
     "iopub.status.idle": "2024-12-25T05:11:05.228124Z",
     "shell.execute_reply": "2024-12-25T05:11:05.227131Z"
    },
    "papermill": {
     "duration": 0.029537,
     "end_time": "2024-12-25T05:11:05.230470",
     "exception": false,
     "start_time": "2024-12-25T05:11:05.200933",
     "status": "completed"
    },
    "tags": []
   },
   "outputs": [],
   "source": [
    "p1 = prices1.join(prices2, lsuffix = ' (BTC)', rsuffix = ' (ETH)')\n",
    "p2 = prices3.join(prices4, lsuffix = ' (USDT)', rsuffix = ' (BNB)')\n",
    "data = p1.join(p2, lsuffix = '_', rsuffix = '_')"
   ]
  },
  {
   "cell_type": "code",
   "execution_count": null,
   "id": "f8a196fa",
   "metadata": {
    "execution": {
     "iopub.execute_input": "2024-12-25T05:11:05.260569Z",
     "iopub.status.busy": "2024-12-25T05:11:05.260094Z",
     "iopub.status.idle": "2024-12-25T05:11:05.281846Z",
     "shell.execute_reply": "2024-12-25T05:11:05.280661Z"
    },
    "papermill": {
     "duration": 0.040045,
     "end_time": "2024-12-25T05:11:05.284556",
     "exception": false,
     "start_time": "2024-12-25T05:11:05.244511",
     "status": "completed"
    },
    "tags": []
   },
   "outputs": [],
   "source": [
    "data.head()"
   ]
  },
  {
   "cell_type": "code",
   "execution_count": null,
   "id": "6c96c54a",
   "metadata": {
    "execution": {
     "iopub.execute_input": "2024-12-25T05:11:05.444100Z",
     "iopub.status.busy": "2024-12-25T05:11:05.442740Z",
     "iopub.status.idle": "2024-12-25T05:11:05.448480Z",
     "shell.execute_reply": "2024-12-25T05:11:05.447274Z"
    },
    "papermill": {
     "duration": 0.023929,
     "end_time": "2024-12-25T05:11:05.450901",
     "exception": false,
     "start_time": "2024-12-25T05:11:05.426972",
     "status": "completed"
    },
    "tags": []
   },
   "outputs": [],
   "source": [
    "data.to_csv('crypto prices.csv')"
   ]
  },
  {
   "cell_type": "code",
   "execution_count": null,
   "id": "9c3bc375",
   "metadata": {
    "execution": {
     "iopub.execute_input": "2024-12-25T05:11:05.483643Z",
     "iopub.status.busy": "2024-12-25T05:11:05.482510Z",
     "iopub.status.idle": "2024-12-25T05:11:05.490637Z",
     "shell.execute_reply": "2024-12-25T05:11:05.489524Z"
    },
    "papermill": {
     "duration": 0.026869,
     "end_time": "2024-12-25T05:11:05.492939",
     "exception": false,
     "start_time": "2024-12-25T05:11:05.466070",
     "status": "completed"
    },
    "tags": []
   },
   "outputs": [],
   "source": [
    "data.shape"
   ]
  },
  {
   "cell_type": "code",
   "execution_count": null,
   "id": "5a5d7b13",
   "metadata": {
    "execution": {
     "iopub.execute_input": "2024-12-25T05:11:05.526978Z",
     "iopub.status.busy": "2024-12-25T05:11:05.526545Z",
     "iopub.status.idle": "2024-12-25T05:11:05.533162Z",
     "shell.execute_reply": "2024-12-25T05:11:05.531970Z"
    },
    "papermill": {
     "duration": 0.026317,
     "end_time": "2024-12-25T05:11:05.535578",
     "exception": false,
     "start_time": "2024-12-25T05:11:05.509261",
     "status": "completed"
    },
    "tags": []
   },
   "outputs": [],
   "source": [
    "original = data.iloc[-1, :]\n",
    "data = data.iloc[:-1,:]"
   ]
  },
  {
   "cell_type": "code",
   "execution_count": null,
   "id": "18acb8ef",
   "metadata": {
    "execution": {
     "iopub.execute_input": "2024-12-25T05:11:05.567171Z",
     "iopub.status.busy": "2024-12-25T05:11:05.566713Z",
     "iopub.status.idle": "2024-12-25T05:11:05.587302Z",
     "shell.execute_reply": "2024-12-25T05:11:05.585976Z"
    },
    "papermill": {
     "duration": 0.039415,
     "end_time": "2024-12-25T05:11:05.589864",
     "exception": false,
     "start_time": "2024-12-25T05:11:05.550449",
     "status": "completed"
    },
    "tags": []
   },
   "outputs": [],
   "source": [
    "data"
   ]
  },
  {
   "cell_type": "markdown",
   "id": "86fb1fa2",
   "metadata": {
    "papermill": {
     "duration": 0.014585,
     "end_time": "2024-12-25T05:11:05.619572",
     "exception": false,
     "start_time": "2024-12-25T05:11:05.604987",
     "status": "completed"
    },
    "tags": []
   },
   "source": [
    "# Exploratory Data Analysis"
   ]
  },
  {
   "cell_type": "markdown",
   "id": "64379f32",
   "metadata": {
    "papermill": {
     "duration": 0.014701,
     "end_time": "2024-12-25T05:11:05.649374",
     "exception": false,
     "start_time": "2024-12-25T05:11:05.634673",
     "status": "completed"
    },
    "tags": []
   },
   "source": [
    "### Statistical Analysis"
   ]
  },
  {
   "cell_type": "code",
   "execution_count": null,
   "id": "6bd40aff",
   "metadata": {
    "execution": {
     "iopub.execute_input": "2024-12-25T05:11:05.681223Z",
     "iopub.status.busy": "2024-12-25T05:11:05.680836Z",
     "iopub.status.idle": "2024-12-25T05:11:05.688167Z",
     "shell.execute_reply": "2024-12-25T05:11:05.686966Z"
    },
    "papermill": {
     "duration": 0.026529,
     "end_time": "2024-12-25T05:11:05.690951",
     "exception": false,
     "start_time": "2024-12-25T05:11:05.664422",
     "status": "completed"
    },
    "tags": []
   },
   "outputs": [],
   "source": [
    "#check the shape of the dataframe\n",
    "data.shape "
   ]
  },
  {
   "cell_type": "code",
   "execution_count": null,
   "id": "0a2484b4",
   "metadata": {
    "execution": {
     "iopub.execute_input": "2024-12-25T05:11:05.723313Z",
     "iopub.status.busy": "2024-12-25T05:11:05.722858Z",
     "iopub.status.idle": "2024-12-25T05:11:05.742482Z",
     "shell.execute_reply": "2024-12-25T05:11:05.741299Z"
    },
    "papermill": {
     "duration": 0.038726,
     "end_time": "2024-12-25T05:11:05.744903",
     "exception": false,
     "start_time": "2024-12-25T05:11:05.706177",
     "status": "completed"
    },
    "tags": []
   },
   "outputs": [],
   "source": [
    "data.info()"
   ]
  },
  {
   "cell_type": "code",
   "execution_count": null,
   "id": "a790f277",
   "metadata": {
    "execution": {
     "iopub.execute_input": "2024-12-25T05:11:05.779197Z",
     "iopub.status.busy": "2024-12-25T05:11:05.778260Z",
     "iopub.status.idle": "2024-12-25T05:11:05.789272Z",
     "shell.execute_reply": "2024-12-25T05:11:05.787985Z"
    },
    "papermill": {
     "duration": 0.030996,
     "end_time": "2024-12-25T05:11:05.791615",
     "exception": false,
     "start_time": "2024-12-25T05:11:05.760619",
     "status": "completed"
    },
    "tags": []
   },
   "outputs": [],
   "source": [
    "data.isna().sum()"
   ]
  },
  {
   "cell_type": "code",
   "execution_count": null,
   "id": "447b5c2e",
   "metadata": {
    "execution": {
     "iopub.execute_input": "2024-12-25T05:11:05.825267Z",
     "iopub.status.busy": "2024-12-25T05:11:05.824837Z",
     "iopub.status.idle": "2024-12-25T05:11:05.862849Z",
     "shell.execute_reply": "2024-12-25T05:11:05.861611Z"
    },
    "papermill": {
     "duration": 0.057494,
     "end_time": "2024-12-25T05:11:05.865021",
     "exception": false,
     "start_time": "2024-12-25T05:11:05.807527",
     "status": "completed"
    },
    "tags": []
   },
   "outputs": [],
   "source": [
    "data.describe()"
   ]
  },
  {
   "cell_type": "markdown",
   "id": "25587dff",
   "metadata": {
    "papermill": {
     "duration": 0.015423,
     "end_time": "2024-12-25T05:11:05.896114",
     "exception": false,
     "start_time": "2024-12-25T05:11:05.880691",
     "status": "completed"
    },
    "tags": []
   },
   "source": [
    "### Visualization Analysis"
   ]
  },
  {
   "cell_type": "code",
   "execution_count": null,
   "id": "31c276fa",
   "metadata": {
    "execution": {
     "iopub.execute_input": "2024-12-25T05:11:05.929523Z",
     "iopub.status.busy": "2024-12-25T05:11:05.929070Z",
     "iopub.status.idle": "2024-12-25T05:11:07.385663Z",
     "shell.execute_reply": "2024-12-25T05:11:07.384243Z"
    },
    "papermill": {
     "duration": 1.479723,
     "end_time": "2024-12-25T05:11:07.391558",
     "exception": false,
     "start_time": "2024-12-25T05:11:05.911835",
     "status": "completed"
    },
    "tags": []
   },
   "outputs": [],
   "source": [
    "plt.figure(figsize = (25, 10))\n",
    "sns.set_style('dark')\n",
    "sns.lineplot(data=data)"
   ]
  },
  {
   "cell_type": "code",
   "execution_count": null,
   "id": "864f204e",
   "metadata": {
    "execution": {
     "iopub.execute_input": "2024-12-25T05:11:07.437169Z",
     "iopub.status.busy": "2024-12-25T05:11:07.436793Z",
     "iopub.status.idle": "2024-12-25T05:11:08.238351Z",
     "shell.execute_reply": "2024-12-25T05:11:08.237024Z"
    },
    "papermill": {
     "duration": 0.828364,
     "end_time": "2024-12-25T05:11:08.241631",
     "exception": false,
     "start_time": "2024-12-25T05:11:07.413267",
     "status": "completed"
    },
    "tags": []
   },
   "outputs": [],
   "source": [
    "plt.figure(figsize = (20, 10))\n",
    "sns.set_style('dark')\n",
    "sns.lineplot(data = data['Close (BNB)'], label = 'BNB')\n",
    "sns.lineplot(data = data['Close (ETH)'], label = 'ETH')\n",
    "sns.lineplot(data = data['Close (BTC)'], label = 'BTC')\n",
    "sns.lineplot(data = data['Close (USDT)'], label = 'USDT')\n",
    "plt.title('Adjacent Close Price')"
   ]
  },
  {
   "cell_type": "code",
   "execution_count": null,
   "id": "85ae825e",
   "metadata": {
    "execution": {
     "iopub.execute_input": "2024-12-25T05:11:08.287176Z",
     "iopub.status.busy": "2024-12-25T05:11:08.286791Z",
     "iopub.status.idle": "2024-12-25T05:11:09.247937Z",
     "shell.execute_reply": "2024-12-25T05:11:09.246621Z"
    },
    "papermill": {
     "duration": 0.988028,
     "end_time": "2024-12-25T05:11:09.251494",
     "exception": false,
     "start_time": "2024-12-25T05:11:08.263466",
     "status": "completed"
    },
    "tags": []
   },
   "outputs": [],
   "source": [
    "plt.figure(figsize = (20, 10))\n",
    "sns.set_style('dark')\n",
    "sns.lineplot(data = data['Volume (BNB)'], label = 'BNB')\n",
    "sns.lineplot(data = data['Volume (ETH)'], label = 'ETH')\n",
    "sns.lineplot(data = data['Volume (BTC)'], label = 'BTC')\n",
    "sns.lineplot(data = data['Volume (USDT)'], label = 'USDT')\n",
    "plt.title('Volume')"
   ]
  },
  {
   "cell_type": "code",
   "execution_count": null,
   "id": "3e29eb44",
   "metadata": {
    "execution": {
     "iopub.execute_input": "2024-12-25T05:11:09.302415Z",
     "iopub.status.busy": "2024-12-25T05:11:09.301929Z",
     "iopub.status.idle": "2024-12-25T05:11:09.311317Z",
     "shell.execute_reply": "2024-12-25T05:11:09.310171Z"
    },
    "papermill": {
     "duration": 0.037464,
     "end_time": "2024-12-25T05:11:09.313659",
     "exception": false,
     "start_time": "2024-12-25T05:11:09.276195",
     "status": "completed"
    },
    "tags": []
   },
   "outputs": [],
   "source": [
    "data_btc = data.loc[:,'Close (BTC)'].values\n",
    "data_btc"
   ]
  },
  {
   "cell_type": "code",
   "execution_count": null,
   "id": "069b8b06",
   "metadata": {
    "execution": {
     "iopub.execute_input": "2024-12-25T05:11:09.363097Z",
     "iopub.status.busy": "2024-12-25T05:11:09.362724Z",
     "iopub.status.idle": "2024-12-25T05:11:09.561816Z",
     "shell.execute_reply": "2024-12-25T05:11:09.560351Z"
    },
    "papermill": {
     "duration": 0.228266,
     "end_time": "2024-12-25T05:11:09.565805",
     "exception": false,
     "start_time": "2024-12-25T05:11:09.337539",
     "status": "completed"
    },
    "tags": []
   },
   "outputs": [],
   "source": [
    "\n",
    "temp = yf.Ticker('BTC-USD')\n",
    "data_btc = btc.history(period='5y')\n",
    "\n",
    "fig = go.Figure(data=[go.Candlestick(x=data_btc.index,\n",
    "                open=data_btc['Open'],\n",
    "                high=data_btc['High'],\n",
    "                low=data_btc['Low'],\n",
    "                close=data_btc['Close'])])\n",
    "\n",
    "fig.show()"
   ]
  },
  {
   "cell_type": "code",
   "execution_count": null,
   "id": "ed2d6c07",
   "metadata": {
    "execution": {
     "iopub.execute_input": "2024-12-25T05:11:09.621023Z",
     "iopub.status.busy": "2024-12-25T05:11:09.620641Z",
     "iopub.status.idle": "2024-12-25T05:11:10.977118Z",
     "shell.execute_reply": "2024-12-25T05:11:10.975810Z"
    },
    "papermill": {
     "duration": 1.387702,
     "end_time": "2024-12-25T05:11:10.980580",
     "exception": false,
     "start_time": "2024-12-25T05:11:09.592878",
     "status": "completed"
    },
    "tags": []
   },
   "outputs": [],
   "source": [
    "data.hist(figsize=(20, 8), layout=(2, 4))"
   ]
  },
  {
   "cell_type": "code",
   "execution_count": null,
   "id": "ba014ac3",
   "metadata": {
    "execution": {
     "iopub.execute_input": "2024-12-25T05:11:11.055630Z",
     "iopub.status.busy": "2024-12-25T05:11:11.054396Z",
     "iopub.status.idle": "2024-12-25T05:11:13.011066Z",
     "shell.execute_reply": "2024-12-25T05:11:13.009695Z"
    },
    "papermill": {
     "duration": 1.995338,
     "end_time": "2024-12-25T05:11:13.013643",
     "exception": false,
     "start_time": "2024-12-25T05:11:11.018305",
     "status": "completed"
    },
    "tags": []
   },
   "outputs": [],
   "source": [
    "data.plot(kind = \"kde\", subplots = True, layout = (2, 4), figsize = (20, 8))"
   ]
  },
  {
   "cell_type": "markdown",
   "id": "d7d8737e",
   "metadata": {
    "papermill": {
     "duration": 0.028842,
     "end_time": "2024-12-25T05:11:13.070881",
     "exception": false,
     "start_time": "2024-12-25T05:11:13.042039",
     "status": "completed"
    },
    "tags": []
   },
   "source": [
    "### checking for correlation"
   ]
  },
  {
   "cell_type": "code",
   "execution_count": null,
   "id": "73de9c45",
   "metadata": {
    "execution": {
     "iopub.execute_input": "2024-12-25T05:11:13.130045Z",
     "iopub.status.busy": "2024-12-25T05:11:13.129589Z",
     "iopub.status.idle": "2024-12-25T05:11:13.148169Z",
     "shell.execute_reply": "2024-12-25T05:11:13.146643Z"
    },
    "papermill": {
     "duration": 0.051215,
     "end_time": "2024-12-25T05:11:13.150633",
     "exception": false,
     "start_time": "2024-12-25T05:11:13.099418",
     "status": "completed"
    },
    "tags": []
   },
   "outputs": [],
   "source": [
    "data.corr()"
   ]
  },
  {
   "cell_type": "code",
   "execution_count": null,
   "id": "c80b561f",
   "metadata": {
    "execution": {
     "iopub.execute_input": "2024-12-25T05:11:13.210309Z",
     "iopub.status.busy": "2024-12-25T05:11:13.209862Z",
     "iopub.status.idle": "2024-12-25T05:11:13.812794Z",
     "shell.execute_reply": "2024-12-25T05:11:13.811413Z"
    },
    "papermill": {
     "duration": 0.636904,
     "end_time": "2024-12-25T05:11:13.816032",
     "exception": false,
     "start_time": "2024-12-25T05:11:13.179128",
     "status": "completed"
    },
    "tags": []
   },
   "outputs": [],
   "source": [
    "plt.figure(figsize=(10,8))\n",
    "sns.heatmap(data.corr(), annot=True, cmap=plt.cm.CMRmap_r);"
   ]
  },
  {
   "cell_type": "code",
   "execution_count": null,
   "id": "1a80dfed",
   "metadata": {
    "execution": {
     "iopub.execute_input": "2024-12-25T05:11:13.880326Z",
     "iopub.status.busy": "2024-12-25T05:11:13.879876Z",
     "iopub.status.idle": "2024-12-25T05:11:24.551855Z",
     "shell.execute_reply": "2024-12-25T05:11:24.550426Z"
    },
    "papermill": {
     "duration": 10.710441,
     "end_time": "2024-12-25T05:11:24.557501",
     "exception": false,
     "start_time": "2024-12-25T05:11:13.847060",
     "status": "completed"
    },
    "tags": []
   },
   "outputs": [],
   "source": [
    "sns.pairplot(data.sample(n=100));"
   ]
  },
  {
   "cell_type": "markdown",
   "id": "8c20c08a",
   "metadata": {
    "papermill": {
     "duration": 0.036347,
     "end_time": "2024-12-25T05:11:24.716037",
     "exception": false,
     "start_time": "2024-12-25T05:11:24.679690",
     "status": "completed"
    },
    "tags": []
   },
   "source": [
    "# data Pre-processing"
   ]
  },
  {
   "cell_type": "code",
   "execution_count": null,
   "id": "4e308af6",
   "metadata": {
    "execution": {
     "iopub.execute_input": "2024-12-25T05:11:24.790993Z",
     "iopub.status.busy": "2024-12-25T05:11:24.790617Z",
     "iopub.status.idle": "2024-12-25T05:11:24.797762Z",
     "shell.execute_reply": "2024-12-25T05:11:24.796581Z"
    },
    "papermill": {
     "duration": 0.047271,
     "end_time": "2024-12-25T05:11:24.799936",
     "exception": false,
     "start_time": "2024-12-25T05:11:24.752665",
     "status": "completed"
    },
    "tags": []
   },
   "outputs": [],
   "source": [
    "# X = data.loc[:, ['Adj Close (BNB)', 'Adj Close (USDT)', 'Adj Close (ETH)']]\n",
    "X = data.drop(columns = ['Close (BTC)'], axis = 1)\n",
    "Y = data.loc[:, 'Close (BTC)']"
   ]
  },
  {
   "cell_type": "code",
   "execution_count": null,
   "id": "469b56bd",
   "metadata": {
    "execution": {
     "iopub.execute_input": "2024-12-25T05:11:24.875436Z",
     "iopub.status.busy": "2024-12-25T05:11:24.874953Z",
     "iopub.status.idle": "2024-12-25T05:11:24.890426Z",
     "shell.execute_reply": "2024-12-25T05:11:24.889030Z"
    },
    "papermill": {
     "duration": 0.055975,
     "end_time": "2024-12-25T05:11:24.892548",
     "exception": false,
     "start_time": "2024-12-25T05:11:24.836573",
     "status": "completed"
    },
    "tags": []
   },
   "outputs": [],
   "source": [
    "X.head()"
   ]
  },
  {
   "cell_type": "code",
   "execution_count": null,
   "id": "c3960e11",
   "metadata": {
    "execution": {
     "iopub.execute_input": "2024-12-25T05:11:24.968833Z",
     "iopub.status.busy": "2024-12-25T05:11:24.968382Z",
     "iopub.status.idle": "2024-12-25T05:11:24.977694Z",
     "shell.execute_reply": "2024-12-25T05:11:24.976572Z"
    },
    "papermill": {
     "duration": 0.050482,
     "end_time": "2024-12-25T05:11:24.979985",
     "exception": false,
     "start_time": "2024-12-25T05:11:24.929503",
     "status": "completed"
    },
    "tags": []
   },
   "outputs": [],
   "source": [
    "Y.head()"
   ]
  },
  {
   "cell_type": "code",
   "execution_count": null,
   "id": "81ce8c50",
   "metadata": {
    "execution": {
     "iopub.execute_input": "2024-12-25T05:11:25.056246Z",
     "iopub.status.busy": "2024-12-25T05:11:25.055230Z",
     "iopub.status.idle": "2024-12-25T05:11:25.064064Z",
     "shell.execute_reply": "2024-12-25T05:11:25.062857Z"
    },
    "papermill": {
     "duration": 0.049999,
     "end_time": "2024-12-25T05:11:25.066705",
     "exception": false,
     "start_time": "2024-12-25T05:11:25.016706",
     "status": "completed"
    },
    "tags": []
   },
   "outputs": [],
   "source": [
    "X_train, X_test, Y_train, Y_test = train_test_split(X, Y, test_size = 0.3, random_state=2)"
   ]
  },
  {
   "cell_type": "code",
   "execution_count": null,
   "id": "a6d0f462",
   "metadata": {
    "execution": {
     "iopub.execute_input": "2024-12-25T05:11:25.141460Z",
     "iopub.status.busy": "2024-12-25T05:11:25.140951Z",
     "iopub.status.idle": "2024-12-25T05:11:25.234816Z",
     "shell.execute_reply": "2024-12-25T05:11:25.233362Z"
    },
    "papermill": {
     "duration": 0.134878,
     "end_time": "2024-12-25T05:11:25.237485",
     "exception": false,
     "start_time": "2024-12-25T05:11:25.102607",
     "status": "completed"
    },
    "tags": []
   },
   "outputs": [],
   "source": [
    "from sklearn.feature_selection import SelectKBest\n",
    "\n",
    "fs = SelectKBest(k=4)\n",
    "X_train = fs.fit_transform(X_train, Y_train)\n",
    "X_test = fs.transform(X_test)"
   ]
  },
  {
   "cell_type": "code",
   "execution_count": null,
   "id": "b8dcc477",
   "metadata": {
    "execution": {
     "iopub.execute_input": "2024-12-25T05:11:25.313541Z",
     "iopub.status.busy": "2024-12-25T05:11:25.313055Z",
     "iopub.status.idle": "2024-12-25T05:11:25.320710Z",
     "shell.execute_reply": "2024-12-25T05:11:25.319471Z"
    },
    "papermill": {
     "duration": 0.049279,
     "end_time": "2024-12-25T05:11:25.323502",
     "exception": false,
     "start_time": "2024-12-25T05:11:25.274223",
     "status": "completed"
    },
    "tags": []
   },
   "outputs": [],
   "source": [
    "from sklearn.preprocessing import MinMaxScaler\n",
    "scaler = MinMaxScaler()\n",
    "X_train = scaler.fit_transform(X_train)\n",
    "X_test = scaler.transform(X_test)"
   ]
  },
  {
   "cell_type": "markdown",
   "id": "7980988a",
   "metadata": {
    "papermill": {
     "duration": 0.037373,
     "end_time": "2024-12-25T05:11:25.553135",
     "exception": false,
     "start_time": "2024-12-25T05:11:25.515762",
     "status": "completed"
    },
    "tags": []
   },
   "source": [
    "# BaseLine Modeling\n",
    "\n",
    "\n"
   ]
  },
  {
   "cell_type": "code",
   "execution_count": null,
   "id": "e2b946a9",
   "metadata": {
    "execution": {
     "iopub.execute_input": "2024-12-25T05:11:25.631631Z",
     "iopub.status.busy": "2024-12-25T05:11:25.631183Z",
     "iopub.status.idle": "2024-12-25T05:11:25.637057Z",
     "shell.execute_reply": "2024-12-25T05:11:25.635869Z"
    },
    "papermill": {
     "duration": 0.047936,
     "end_time": "2024-12-25T05:11:25.639247",
     "exception": false,
     "start_time": "2024-12-25T05:11:25.591311",
     "status": "completed"
    },
    "tags": []
   },
   "outputs": [],
   "source": [
    "from sklearn.neighbors import KNeighborsRegressor\n",
    "from sklearn import tree\n",
    "from sklearn.ensemble import RandomForestClassifier\n",
    "from sklearn.ensemble import GradientBoostingRegressor"
   ]
  },
  {
   "cell_type": "code",
   "execution_count": null,
   "id": "14b3a5b4",
   "metadata": {
    "execution": {
     "iopub.execute_input": "2024-12-25T05:11:25.713106Z",
     "iopub.status.busy": "2024-12-25T05:11:25.712650Z",
     "iopub.status.idle": "2024-12-25T05:11:25.724960Z",
     "shell.execute_reply": "2024-12-25T05:11:25.723796Z"
    },
    "papermill": {
     "duration": 0.052689,
     "end_time": "2024-12-25T05:11:25.727703",
     "exception": false,
     "start_time": "2024-12-25T05:11:25.675014",
     "status": "completed"
    },
    "tags": []
   },
   "outputs": [],
   "source": [
    "neigh = KNeighborsRegressor(n_neighbors=2)\n",
    "neigh.fit(X_train, Y_train)"
   ]
  },
  {
   "cell_type": "code",
   "execution_count": null,
   "id": "3138c71d",
   "metadata": {
    "execution": {
     "iopub.execute_input": "2024-12-25T05:11:25.801320Z",
     "iopub.status.busy": "2024-12-25T05:11:25.800924Z",
     "iopub.status.idle": "2024-12-25T05:11:26.253474Z",
     "shell.execute_reply": "2024-12-25T05:11:26.252009Z"
    },
    "papermill": {
     "duration": 0.493324,
     "end_time": "2024-12-25T05:11:26.256439",
     "exception": false,
     "start_time": "2024-12-25T05:11:25.763115",
     "status": "completed"
    },
    "tags": []
   },
   "outputs": [],
   "source": [
    "rf = RandomForestRegressor()\n",
    "rf.fit(X_train,Y_train)"
   ]
  },
  {
   "cell_type": "code",
   "execution_count": null,
   "id": "2ba7a6af",
   "metadata": {
    "execution": {
     "iopub.execute_input": "2024-12-25T05:11:26.337291Z",
     "iopub.status.busy": "2024-12-25T05:11:26.336904Z",
     "iopub.status.idle": "2024-12-25T05:11:26.350695Z",
     "shell.execute_reply": "2024-12-25T05:11:26.349322Z"
    },
    "papermill": {
     "duration": 0.056349,
     "end_time": "2024-12-25T05:11:26.353208",
     "exception": false,
     "start_time": "2024-12-25T05:11:26.296859",
     "status": "completed"
    },
    "tags": []
   },
   "outputs": [],
   "source": [
    "dt = tree.DecisionTreeRegressor()\n",
    "dt.fit(X_train, Y_train)"
   ]
  },
  {
   "cell_type": "code",
   "execution_count": null,
   "id": "92786587",
   "metadata": {
    "execution": {
     "iopub.execute_input": "2024-12-25T05:11:26.430297Z",
     "iopub.status.busy": "2024-12-25T05:11:26.429912Z",
     "iopub.status.idle": "2024-12-25T05:11:26.628397Z",
     "shell.execute_reply": "2024-12-25T05:11:26.626976Z"
    },
    "papermill": {
     "duration": 0.240042,
     "end_time": "2024-12-25T05:11:26.630792",
     "exception": false,
     "start_time": "2024-12-25T05:11:26.390750",
     "status": "completed"
    },
    "tags": []
   },
   "outputs": [],
   "source": [
    "est = GradientBoostingRegressor()\n",
    "est.fit(X_train, Y_train)"
   ]
  },
  {
   "cell_type": "markdown",
   "id": "24fed2b9",
   "metadata": {
    "papermill": {
     "duration": 0.035374,
     "end_time": "2024-12-25T05:11:26.702061",
     "exception": false,
     "start_time": "2024-12-25T05:11:26.666687",
     "status": "completed"
    },
    "tags": []
   },
   "source": [
    "# Evaluation"
   ]
  },
  {
   "cell_type": "code",
   "execution_count": null,
   "id": "64c05769",
   "metadata": {
    "execution": {
     "iopub.execute_input": "2024-12-25T05:11:26.776448Z",
     "iopub.status.busy": "2024-12-25T05:11:26.775926Z",
     "iopub.status.idle": "2024-12-25T05:11:26.813689Z",
     "shell.execute_reply": "2024-12-25T05:11:26.812420Z"
    },
    "papermill": {
     "duration": 0.078455,
     "end_time": "2024-12-25T05:11:26.816444",
     "exception": false,
     "start_time": "2024-12-25T05:11:26.737989",
     "status": "completed"
    },
    "tags": []
   },
   "outputs": [],
   "source": [
    "Y_pred_neigh = neigh.predict(X_test)\n",
    "r2neigh = metrics.r2_score(Y_test, Y_pred_neigh)\n",
    "\n",
    "Y_pred_rf = rf.predict(X_test)\n",
    "r2rf = metrics.r2_score(Y_test, Y_pred_rf)\n",
    "\n",
    "Y_pred_dt = dt.predict(X_test)\n",
    "r2dt = metrics.r2_score(Y_test, Y_pred_dt)\n",
    "\n",
    "Y_pred_est = est.predict(X_test)\n",
    "r2est = metrics.r2_score(Y_test, Y_pred_est)"
   ]
  },
  {
   "cell_type": "code",
   "execution_count": null,
   "id": "d6f1c324",
   "metadata": {
    "execution": {
     "iopub.execute_input": "2024-12-25T05:11:26.891133Z",
     "iopub.status.busy": "2024-12-25T05:11:26.890635Z",
     "iopub.status.idle": "2024-12-25T05:11:26.899787Z",
     "shell.execute_reply": "2024-12-25T05:11:26.898402Z"
    },
    "papermill": {
     "duration": 0.049946,
     "end_time": "2024-12-25T05:11:26.902217",
     "exception": false,
     "start_time": "2024-12-25T05:11:26.852271",
     "status": "completed"
    },
    "tags": []
   },
   "outputs": [],
   "source": [
    "print(\"*\"*10, \"Accuracy\", \"*\"*10)\n",
    "\n",
    "print(\"-\"*30)\n",
    "print(\"K nearest neighbors: \", r2neigh)\n",
    "print(\"-\"*30)\n",
    "\n",
    "\n",
    "print(\"-\"*30)\n",
    "print(\"random forest: \", r2rf)\n",
    "print(\"-\"*30)\n",
    "\n",
    "\n",
    "print(\"-\"*30)\n",
    "print(\"decision tree: \", r2dt)\n",
    "print(\"-\"*30)\n",
    "\n",
    "\n",
    "print(\"-\"*30)\n",
    "print(\"gradient boosting: \", r2est)\n",
    "print(\"-\"*30)"
   ]
  },
  {
   "cell_type": "markdown",
   "id": "e412bd8d",
   "metadata": {
    "papermill": {
     "duration": 0.035558,
     "end_time": "2024-12-25T05:11:26.974104",
     "exception": false,
     "start_time": "2024-12-25T05:11:26.938546",
     "status": "completed"
    },
    "tags": []
   },
   "source": [
    "result: random forest gives the highest accuracy."
   ]
  },
  {
   "cell_type": "markdown",
   "id": "86283a5b",
   "metadata": {
    "papermill": {
     "duration": 0.038252,
     "end_time": "2024-12-25T05:11:27.216139",
     "exception": false,
     "start_time": "2024-12-25T05:11:27.177887",
     "status": "completed"
    },
    "tags": []
   },
   "source": [
    "# Hyperparameter Tuning"
   ]
  },
  {
   "cell_type": "code",
   "execution_count": null,
   "id": "fe89afc1",
   "metadata": {
    "execution": {
     "iopub.execute_input": "2024-12-25T05:11:27.294849Z",
     "iopub.status.busy": "2024-12-25T05:11:27.294435Z",
     "iopub.status.idle": "2024-12-25T05:11:27.303686Z",
     "shell.execute_reply": "2024-12-25T05:11:27.302495Z"
    },
    "papermill": {
     "duration": 0.052155,
     "end_time": "2024-12-25T05:11:27.305992",
     "exception": false,
     "start_time": "2024-12-25T05:11:27.253837",
     "status": "completed"
    },
    "tags": []
   },
   "outputs": [],
   "source": [
    "from sklearn.model_selection import RandomizedSearchCV\n",
    "n_estimators = [int(x) for x in np.linspace(start = 10, stop = 1000, num = 100)]\n",
    "max_features = ['auto', 'sqrt', 'log2']\n",
    "max_depth = [int(x) for x in np.linspace(10, 200, num = 20)]\n",
    "max_depth.append(None)\n",
    "min_samples_split = [2, 5, 10]\n",
    "min_samples_leaf = [1, 2, 4]\n",
    "bootstrap = [True, False]\n",
    "\n",
    "random_grid = {'n_estimators': n_estimators,\n",
    "               'max_features': max_features,\n",
    "               'max_depth': max_depth,\n",
    "               'min_samples_split': min_samples_split,\n",
    "               'min_samples_leaf': min_samples_leaf,\n",
    "               'bootstrap': bootstrap}\n",
    "print(random_grid)"
   ]
  },
  {
   "cell_type": "code",
   "execution_count": null,
   "id": "dee9b574",
   "metadata": {
    "execution": {
     "iopub.execute_input": "2024-12-25T05:11:27.382556Z",
     "iopub.status.busy": "2024-12-25T05:11:27.381533Z",
     "iopub.status.idle": "2024-12-25T05:17:03.669953Z",
     "shell.execute_reply": "2024-12-25T05:17:03.668324Z"
    },
    "papermill": {
     "duration": 336.364597,
     "end_time": "2024-12-25T05:17:03.708009",
     "exception": false,
     "start_time": "2024-12-25T05:11:27.343412",
     "status": "completed"
    },
    "tags": []
   },
   "outputs": [],
   "source": [
    "rf = RandomForestRegressor()\n",
    "rf_random = RandomizedSearchCV(estimator = rf, param_distributions = random_grid, n_iter = 200, cv = 3, verbose=0, random_state=42, n_jobs = -1)\n",
    "rf_random.fit(X_train, Y_train)"
   ]
  },
  {
   "cell_type": "code",
   "execution_count": null,
   "id": "ce5277bf",
   "metadata": {
    "execution": {
     "iopub.execute_input": "2024-12-25T05:17:03.784136Z",
     "iopub.status.busy": "2024-12-25T05:17:03.783160Z",
     "iopub.status.idle": "2024-12-25T05:17:03.791230Z",
     "shell.execute_reply": "2024-12-25T05:17:03.790116Z"
    },
    "papermill": {
     "duration": 0.048728,
     "end_time": "2024-12-25T05:17:03.793987",
     "exception": false,
     "start_time": "2024-12-25T05:17:03.745259",
     "status": "completed"
    },
    "tags": []
   },
   "outputs": [],
   "source": [
    "rf_random.best_params_"
   ]
  },
  {
   "cell_type": "markdown",
   "id": "5e1b4456",
   "metadata": {
    "papermill": {
     "duration": 0.038771,
     "end_time": "2024-12-25T05:17:03.870623",
     "exception": false,
     "start_time": "2024-12-25T05:17:03.831852",
     "status": "completed"
    },
    "tags": []
   },
   "source": [
    "# Model Evaluation (performance analysis)"
   ]
  },
  {
   "cell_type": "code",
   "execution_count": null,
   "id": "1ee6afdc",
   "metadata": {
    "execution": {
     "iopub.execute_input": "2024-12-25T05:17:03.949978Z",
     "iopub.status.busy": "2024-12-25T05:17:03.949554Z",
     "iopub.status.idle": "2024-12-25T05:17:04.401594Z",
     "shell.execute_reply": "2024-12-25T05:17:04.400108Z"
    },
    "papermill": {
     "duration": 0.495191,
     "end_time": "2024-12-25T05:17:04.404396",
     "exception": false,
     "start_time": "2024-12-25T05:17:03.909205",
     "status": "completed"
    },
    "tags": []
   },
   "outputs": [],
   "source": [
    "rf = RandomForestRegressor(**rf_random.best_params_)\n",
    "rf.fit(X_train, Y_train)\n",
    "\n",
    "Y_pred_rf = rf.predict(X_test)\n",
    "r2rf = metrics.r2_score(Y_test, Y_pred_rf)\n",
    "\n",
    "print(\"-\"*30)\n",
    "print(\"Accuracy: \", r2rf)\n",
    "print(\"-\"*30)"
   ]
  }
 ],
 "metadata": {
  "kaggle": {
   "accelerator": "none",
   "dataSources": [
    {
     "datasetId": 2389925,
     "sourceId": 4505098,
     "sourceType": "datasetVersion"
    }
   ],
   "dockerImageVersionId": 30213,
   "isGpuEnabled": false,
   "isInternetEnabled": true,
   "language": "python",
   "sourceType": "notebook"
  },
  "kernelspec": {
   "display_name": "Python 3",
   "language": "python",
   "name": "python3"
  },
  "language_info": {
   "codemirror_mode": {
    "name": "ipython",
    "version": 3
   },
   "file_extension": ".py",
   "mimetype": "text/x-python",
   "name": "python",
   "nbconvert_exporter": "python",
   "pygments_lexer": "ipython3",
   "version": "3.7.12"
  },
  "papermill": {
   "default_parameters": {},
   "duration": 414.416429,
   "end_time": "2024-12-25T05:17:19.903490",
   "environment_variables": {},
   "exception": null,
   "input_path": "__notebook__.ipynb",
   "output_path": "__notebook__.ipynb",
   "parameters": {},
   "start_time": "2024-12-25T05:10:25.487061",
   "version": "2.3.4"
  }
 },
 "nbformat": 4,
 "nbformat_minor": 5
}
