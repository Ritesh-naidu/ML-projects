{
 "cells": [
  {
   "cell_type": "code",
   "execution_count": null,
   "id": "f3765bb6",
   "metadata": {
    "execution": {
     "iopub.execute_input": "2025-02-13T15:08:45.060162Z",
     "iopub.status.busy": "2025-02-13T15:08:45.059750Z",
     "iopub.status.idle": "2025-02-13T15:08:48.057309Z",
     "shell.execute_reply": "2025-02-13T15:08:48.056268Z"
    },
    "id": "HsKh4C7iwOuq",
    "papermill": {
     "duration": 3.011056,
     "end_time": "2025-02-13T15:08:48.059357",
     "exception": false,
     "start_time": "2025-02-13T15:08:45.048301",
     "status": "completed"
    },
    "tags": []
   },
   "outputs": [],
   "source": [
    "import pandas as pd\n",
    "import matplotlib.pyplot as plt\n",
    "import seaborn as sns"
   ]
  },
  {
   "cell_type": "code",
   "execution_count": null,
   "id": "f3d98e5c",
   "metadata": {
    "execution": {
     "iopub.execute_input": "2025-02-13T15:08:48.080954Z",
     "iopub.status.busy": "2025-02-13T15:08:48.080444Z",
     "iopub.status.idle": "2025-02-13T15:08:48.242364Z",
     "shell.execute_reply": "2025-02-13T15:08:48.241248Z"
    },
    "id": "04RIF9vAwSUF",
    "outputId": "eb7a8ef8-7bc0-477e-81d1-6b41bb6f3271",
    "papermill": {
     "duration": 0.174532,
     "end_time": "2025-02-13T15:08:48.244109",
     "exception": false,
     "start_time": "2025-02-13T15:08:48.069577",
     "status": "completed"
    },
    "tags": []
   },
   "outputs": [],
   "source": [
    "data = pd.read_csv('/Users/riteshkumar/Downloads/ML projects/Diamond Price Prediction/diamonds.csv')\n",
    "data"
   ]
  },
  {
   "cell_type": "markdown",
   "id": "51067055",
   "metadata": {
    "id": "wj4yNuBpPJwK",
    "papermill": {
     "duration": 0.009502,
     "end_time": "2025-02-13T15:08:48.263693",
     "exception": false,
     "start_time": "2025-02-13T15:08:48.254191",
     "status": "completed"
    },
    "tags": []
   },
   "source": [
    "## **Dataset Information**\n",
    "\n",
    "The dataset contains the following features:\n",
    "\n",
    "- **price:** Price in US dollars  \n",
    "- **carat:** Weight of the diamond  \n",
    "- **cut:** Quality of the cut (Fair, Good, Very Good, Premium, Ideal)  \n",
    "- **color:** Diamond color, from J (worst) to D (best)  \n",
    "- **clarity:** Measurement of how clear the diamond is (I1 (worst), SI2, SI1, VS2, VS1, VVS2, VVS1, IF (best))  \n",
    "- **x:** Length in mm  \n",
    "- **y:** Width in mm\n",
    "- **z:** Depth in mm\n",
    "- **depth:** Total depth percentage\n",
    "- **table:** Width of the top of the diamond relative to its widest point"
   ]
  },
  {
   "cell_type": "markdown",
   "id": "c26fceae",
   "metadata": {
    "id": "ndFai0whQLDe",
    "papermill": {
     "duration": 0.009527,
     "end_time": "2025-02-13T15:08:48.283693",
     "exception": false,
     "start_time": "2025-02-13T15:08:48.274166",
     "status": "completed"
    },
    "tags": []
   },
   "source": [
    "## First Look"
   ]
  },
  {
   "cell_type": "code",
   "execution_count": null,
   "id": "958d818b",
   "metadata": {
    "execution": {
     "iopub.execute_input": "2025-02-13T15:08:48.304803Z",
     "iopub.status.busy": "2025-02-13T15:08:48.304434Z",
     "iopub.status.idle": "2025-02-13T15:08:48.337193Z",
     "shell.execute_reply": "2025-02-13T15:08:48.335886Z"
    },
    "id": "Up_uBbTrxHBZ",
    "outputId": "2cf9d670-e503-4feb-ba90-8814ee37d661",
    "papermill": {
     "duration": 0.045594,
     "end_time": "2025-02-13T15:08:48.339179",
     "exception": false,
     "start_time": "2025-02-13T15:08:48.293585",
     "status": "completed"
    },
    "tags": []
   },
   "outputs": [],
   "source": [
    "data.info()"
   ]
  },
  {
   "cell_type": "markdown",
   "id": "6d0b88cc",
   "metadata": {
    "id": "kdDa36O_3loa",
    "papermill": {
     "duration": 0.009718,
     "end_time": "2025-02-13T15:08:48.358980",
     "exception": false,
     "start_time": "2025-02-13T15:08:48.349262",
     "status": "completed"
    },
    "tags": []
   },
   "source": [
    "# Drop unnecessary columns #1"
   ]
  },
  {
   "cell_type": "code",
   "execution_count": null,
   "id": "ef1ef8ed",
   "metadata": {
    "execution": {
     "iopub.execute_input": "2025-02-13T15:08:48.379819Z",
     "iopub.status.busy": "2025-02-13T15:08:48.379473Z",
     "iopub.status.idle": "2025-02-13T15:08:48.400826Z",
     "shell.execute_reply": "2025-02-13T15:08:48.399747Z"
    },
    "id": "WBIXATUzx0cM",
    "outputId": "ccee7e4e-971b-483c-9aaa-eb5d196f5d1e",
    "papermill": {
     "duration": 0.033931,
     "end_time": "2025-02-13T15:08:48.402770",
     "exception": false,
     "start_time": "2025-02-13T15:08:48.368839",
     "status": "completed"
    },
    "tags": []
   },
   "outputs": [],
   "source": [
    "data.drop('Unnamed: 0', axis=1, inplace=True)\n",
    "data"
   ]
  },
  {
   "cell_type": "markdown",
   "id": "d46ac0f6",
   "metadata": {
    "id": "W7VHky3QQyMD",
    "papermill": {
     "duration": 0.009873,
     "end_time": "2025-02-13T15:08:48.423038",
     "exception": false,
     "start_time": "2025-02-13T15:08:48.413165",
     "status": "completed"
    },
    "tags": []
   },
   "source": [
    "# some info"
   ]
  },
  {
   "cell_type": "code",
   "execution_count": null,
   "id": "97a4faff",
   "metadata": {
    "execution": {
     "iopub.execute_input": "2025-02-13T15:08:48.444556Z",
     "iopub.status.busy": "2025-02-13T15:08:48.444175Z",
     "iopub.status.idle": "2025-02-13T15:08:48.490093Z",
     "shell.execute_reply": "2025-02-13T15:08:48.488310Z"
    },
    "id": "zOS1L-SKx1W_",
    "outputId": "d6afeeb8-64aa-4f5e-fc35-8713cf5fb3ff",
    "papermill": {
     "duration": 0.058869,
     "end_time": "2025-02-13T15:08:48.492067",
     "exception": false,
     "start_time": "2025-02-13T15:08:48.433198",
     "status": "completed"
    },
    "tags": []
   },
   "outputs": [],
   "source": [
    "data.describe().transpose()"
   ]
  },
  {
   "cell_type": "code",
   "execution_count": null,
   "id": "540b5e4f",
   "metadata": {
    "execution": {
     "iopub.execute_input": "2025-02-13T15:08:48.514444Z",
     "iopub.status.busy": "2025-02-13T15:08:48.514052Z",
     "iopub.status.idle": "2025-02-13T15:08:48.529174Z",
     "shell.execute_reply": "2025-02-13T15:08:48.527946Z"
    },
    "id": "Utv187aTx1qt",
    "outputId": "5ff8063f-72cf-4183-b1f3-07d8f9c56c79",
    "papermill": {
     "duration": 0.028327,
     "end_time": "2025-02-13T15:08:48.531099",
     "exception": false,
     "start_time": "2025-02-13T15:08:48.502772",
     "status": "completed"
    },
    "tags": []
   },
   "outputs": [],
   "source": [
    "print(data['clarity'].unique())     #I1 , SI2, SI1, VS2, VS1, VVS2, VVS1, IF\n",
    "                                           # Worst =====> Best\n",
    "print(data['cut'].unique())         # Fair, Good, Very Good, Premium, Ideal\n",
    "                                           # Worst =====> Best\n",
    "print(data['color'].unique())       # J, I, H, G, F, E, D\n",
    "                                      # Worst =====> Best"
   ]
  },
  {
   "cell_type": "markdown",
   "id": "f154e02a",
   "metadata": {
    "id": "2ej62GYP2m3x",
    "papermill": {
     "duration": 0.010451,
     "end_time": "2025-02-13T15:08:48.552319",
     "exception": false,
     "start_time": "2025-02-13T15:08:48.541868",
     "status": "completed"
    },
    "tags": []
   },
   "source": [
    "# Mapping \"clarity, cut, color\" column to integer values (Ordinal Encoding)"
   ]
  },
  {
   "cell_type": "code",
   "execution_count": null,
   "id": "a424a11b",
   "metadata": {
    "execution": {
     "iopub.execute_input": "2025-02-13T15:08:48.574208Z",
     "iopub.status.busy": "2025-02-13T15:08:48.573802Z",
     "iopub.status.idle": "2025-02-13T15:08:48.607352Z",
     "shell.execute_reply": "2025-02-13T15:08:48.606128Z"
    },
    "id": "R---Lr27x1w_",
    "outputId": "1ffcb740-e28d-46e9-86f6-bf19c664b72e",
    "papermill": {
     "duration": 0.046441,
     "end_time": "2025-02-13T15:08:48.609054",
     "exception": false,
     "start_time": "2025-02-13T15:08:48.562613",
     "status": "completed"
    },
    "tags": []
   },
   "outputs": [],
   "source": [
    "clarity_map = {\n",
    "    'I1': 1, 'SI2': 2, 'SI1': 3,\n",
    "    'VS2': 4, 'VS1': 5,\n",
    "    'VVS2': 6, 'VVS1': 7, 'IF': 8\n",
    "}\n",
    "data['clarity'] = data['clarity'].map(clarity_map)\n",
    "\n",
    "cut_map = {\n",
    "    'Fair': 1, 'Good': 2, 'Very Good': 3,\n",
    "    'Premium': 4, 'Ideal': 5\n",
    "}\n",
    "data['cut'] = data['cut'].map(cut_map)\n",
    "\n",
    "color_map = {\n",
    "    'J': 1, 'I': 2, 'H': 3,\n",
    "    'G': 4, 'F': 5, 'E': 6, 'D': 7\n",
    "}\n",
    "data['color'] = data['color'].map(color_map)\n",
    "\n",
    "data     # mapped\n"
   ]
  },
  {
   "cell_type": "code",
   "execution_count": null,
   "id": "98b5d879",
   "metadata": {
    "execution": {
     "iopub.execute_input": "2025-02-13T15:08:48.631859Z",
     "iopub.status.busy": "2025-02-13T15:08:48.631399Z",
     "iopub.status.idle": "2025-02-13T15:08:48.641663Z",
     "shell.execute_reply": "2025-02-13T15:08:48.640309Z"
    },
    "id": "K0p9ehhnx123",
    "outputId": "0f4372ba-a9ee-472c-b17b-a63db2b0b071",
    "papermill": {
     "duration": 0.023735,
     "end_time": "2025-02-13T15:08:48.643628",
     "exception": false,
     "start_time": "2025-02-13T15:08:48.619893",
     "status": "completed"
    },
    "tags": []
   },
   "outputs": [],
   "source": [
    "print(data['clarity'].unique())\n",
    "\n",
    "print(data['cut'].unique())\n",
    "\n",
    "print(data['color'].unique())"
   ]
  },
  {
   "cell_type": "code",
   "execution_count": null,
   "id": "7a84bc5a",
   "metadata": {
    "execution": {
     "iopub.execute_input": "2025-02-13T15:08:48.667060Z",
     "iopub.status.busy": "2025-02-13T15:08:48.666576Z",
     "iopub.status.idle": "2025-02-13T15:08:48.679237Z",
     "shell.execute_reply": "2025-02-13T15:08:48.677891Z"
    },
    "id": "j7Aqvv8ix2FH",
    "outputId": "93d7504e-cb69-4af8-875a-1c01b02b09a5",
    "papermill": {
     "duration": 0.02642,
     "end_time": "2025-02-13T15:08:48.681087",
     "exception": false,
     "start_time": "2025-02-13T15:08:48.654667",
     "status": "completed"
    },
    "tags": []
   },
   "outputs": [],
   "source": [
    "data.info()"
   ]
  },
  {
   "cell_type": "markdown",
   "id": "805ad97a",
   "metadata": {
    "id": "SIhoODrEhiaD",
    "papermill": {
     "duration": 0.010421,
     "end_time": "2025-02-13T15:08:48.702552",
     "exception": false,
     "start_time": "2025-02-13T15:08:48.692131",
     "status": "completed"
    },
    "tags": []
   },
   "source": [
    "## Relations (graphs, heatmap)"
   ]
  },
  {
   "cell_type": "code",
   "execution_count": null,
   "id": "b05b041d",
   "metadata": {
    "execution": {
     "iopub.execute_input": "2025-02-13T15:08:48.725485Z",
     "iopub.status.busy": "2025-02-13T15:08:48.725121Z",
     "iopub.status.idle": "2025-02-13T15:08:52.016194Z",
     "shell.execute_reply": "2025-02-13T15:08:52.015013Z"
    },
    "id": "zIQ3f5kPx2WY",
    "outputId": "3d611ec4-1496-48b0-ef05-5ed89176f83b",
    "papermill": {
     "duration": 3.304909,
     "end_time": "2025-02-13T15:08:52.018363",
     "exception": false,
     "start_time": "2025-02-13T15:08:48.713454",
     "status": "completed"
    },
    "tags": []
   },
   "outputs": [],
   "source": [
    "for column in data.drop(columns=['price']).columns:\n",
    "      plt.figure(figsize=(6, 4))\n",
    "      plt.scatter(data[column], data['price'], color='blue')\n",
    "      plt.title(f'{column} vs price')\n",
    "      plt.xlabel(column)\n",
    "      plt.ylabel('price')\n",
    "      plt.grid(True)\n",
    "      plt.tight_layout()\n",
    "      plt.show()\n",
    "      print()\n"
   ]
  },
  {
   "cell_type": "code",
   "execution_count": null,
   "id": "f809d310",
   "metadata": {
    "execution": {
     "iopub.execute_input": "2025-02-13T15:08:52.055189Z",
     "iopub.status.busy": "2025-02-13T15:08:52.054760Z",
     "iopub.status.idle": "2025-02-13T15:08:52.656473Z",
     "shell.execute_reply": "2025-02-13T15:08:52.655236Z"
    },
    "id": "VHOpwAIhIKk5",
    "outputId": "b49af144-e32c-4b79-d12d-4a7d8ba237b9",
    "papermill": {
     "duration": 0.622485,
     "end_time": "2025-02-13T15:08:52.658893",
     "exception": false,
     "start_time": "2025-02-13T15:08:52.036408",
     "status": "completed"
    },
    "tags": []
   },
   "outputs": [],
   "source": [
    "plt.figure(figsize=(10, 8))\n",
    "sns.heatmap(data.corr(), annot=True, cmap='coolwarm')\n",
    "plt.show()"
   ]
  },
  {
   "cell_type": "markdown",
   "id": "4df387d5",
   "metadata": {
    "id": "ooI7yGN1M1zJ",
    "papermill": {
     "duration": 0.019513,
     "end_time": "2025-02-13T15:08:52.699395",
     "exception": false,
     "start_time": "2025-02-13T15:08:52.679882",
     "status": "completed"
    },
    "tags": []
   },
   "source": [
    "## From the heatmap, we can see that all the features have either a positive or negative correlation with the price. However, the 'depth' feature has a very low correlation with the price, so dropping it will probably have a positive effect on our model's accuracy."
   ]
  },
  {
   "cell_type": "markdown",
   "id": "69d01203",
   "metadata": {
    "id": "dFibGB5eMsA8",
    "papermill": {
     "duration": 0.019217,
     "end_time": "2025-02-13T15:08:52.738509",
     "exception": false,
     "start_time": "2025-02-13T15:08:52.719292",
     "status": "completed"
    },
    "tags": []
   },
   "source": [
    "# Dropping 'depth' column"
   ]
  },
  {
   "cell_type": "code",
   "execution_count": null,
   "id": "f170856e",
   "metadata": {
    "execution": {
     "iopub.execute_input": "2025-02-13T15:08:52.778898Z",
     "iopub.status.busy": "2025-02-13T15:08:52.778542Z",
     "iopub.status.idle": "2025-02-13T15:08:52.784660Z",
     "shell.execute_reply": "2025-02-13T15:08:52.783656Z"
    },
    "id": "EdmsT-b7Mqbx",
    "papermill": {
     "duration": 0.028313,
     "end_time": "2025-02-13T15:08:52.786344",
     "exception": false,
     "start_time": "2025-02-13T15:08:52.758031",
     "status": "completed"
    },
    "tags": []
   },
   "outputs": [],
   "source": [
    "data = data.drop('depth', axis=1)"
   ]
  },
  {
   "cell_type": "markdown",
   "id": "731952bd",
   "metadata": {
    "id": "XjyxYv_lhtwC",
    "papermill": {
     "duration": 0.019588,
     "end_time": "2025-02-13T15:08:52.825551",
     "exception": false,
     "start_time": "2025-02-13T15:08:52.805963",
     "status": "completed"
    },
    "tags": []
   },
   "source": [
    "# Box plot to detect outliers"
   ]
  },
  {
   "cell_type": "code",
   "execution_count": null,
   "id": "4284d67e",
   "metadata": {
    "execution": {
     "iopub.execute_input": "2025-02-13T15:08:52.866593Z",
     "iopub.status.busy": "2025-02-13T15:08:52.866216Z",
     "iopub.status.idle": "2025-02-13T15:08:53.977292Z",
     "shell.execute_reply": "2025-02-13T15:08:53.976058Z"
    },
    "id": "ELsmUrEydOPh",
    "outputId": "b44e0a94-7df4-4601-b0d0-2e3fbb643ef1",
    "papermill": {
     "duration": 1.134443,
     "end_time": "2025-02-13T15:08:53.979418",
     "exception": false,
     "start_time": "2025-02-13T15:08:52.844975",
     "status": "completed"
    },
    "tags": []
   },
   "outputs": [],
   "source": [
    "for feature in data.columns:\n",
    "    plt.figure(figsize=(6, 4))\n",
    "    sns.boxplot(x=data[feature])\n",
    "    plt.title(f'Box Plot for {feature}')\n",
    "    plt.show()"
   ]
  },
  {
   "cell_type": "markdown",
   "id": "6c495bf3",
   "metadata": {
    "id": "2Im7c-odgqwF",
    "papermill": {
     "duration": 0.021628,
     "end_time": "2025-02-13T15:08:54.024776",
     "exception": false,
     "start_time": "2025-02-13T15:08:54.003148",
     "status": "completed"
    },
    "tags": []
   },
   "source": [
    "## Filtering outliers (columns: carat , depth , table , x , y , z)"
   ]
  },
  {
   "cell_type": "code",
   "execution_count": null,
   "id": "d10cfd10",
   "metadata": {
    "execution": {
     "iopub.execute_input": "2025-02-13T15:08:54.070622Z",
     "iopub.status.busy": "2025-02-13T15:08:54.070264Z",
     "iopub.status.idle": "2025-02-13T15:08:54.105453Z",
     "shell.execute_reply": "2025-02-13T15:08:54.104346Z"
    },
    "id": "TB_ifd3S_goR",
    "outputId": "1b88d4d7-11ee-4f67-d056-6616cab75a21",
    "papermill": {
     "duration": 0.060945,
     "end_time": "2025-02-13T15:08:54.107797",
     "exception": false,
     "start_time": "2025-02-13T15:08:54.046852",
     "status": "completed"
    },
    "tags": []
   },
   "outputs": [],
   "source": [
    "data= data[data['carat'] < 1.9 ]\n",
    "data = data[(data['table'] > 53 ) & (data['table'] < 61)]\n",
    "data = data[data['x'] < 9.2]\n",
    "data = data[data['y'] < 9.2]\n",
    "data = data[(data['z'] < 5.8) & (data['z'] > 1.2)]\n",
    "data"
   ]
  },
  {
   "cell_type": "code",
   "execution_count": null,
   "id": "442c0f4e",
   "metadata": {
    "execution": {
     "iopub.execute_input": "2025-02-13T15:08:54.167427Z",
     "iopub.status.busy": "2025-02-13T15:08:54.167038Z",
     "iopub.status.idle": "2025-02-13T15:08:55.256254Z",
     "shell.execute_reply": "2025-02-13T15:08:55.255091Z"
    },
    "id": "JEl8333nhaUJ",
    "outputId": "9d6b8573-d05e-445c-b0e7-3f9a8a80e129",
    "papermill": {
     "duration": 1.114823,
     "end_time": "2025-02-13T15:08:55.257900",
     "exception": false,
     "start_time": "2025-02-13T15:08:54.143077",
     "status": "completed"
    },
    "tags": []
   },
   "outputs": [],
   "source": [
    "for feature in data.columns:\n",
    "    plt.figure(figsize=(6, 4))\n",
    "    sns.boxplot(x=data[feature])\n",
    "    plt.title(f'Box Plot for {feature}')\n",
    "    plt.show()"
   ]
  },
  {
   "cell_type": "markdown",
   "id": "694954d5",
   "metadata": {
    "id": "mCW2P1FtN8dq",
    "papermill": {
     "duration": 0.025591,
     "end_time": "2025-02-13T15:08:55.310061",
     "exception": false,
     "start_time": "2025-02-13T15:08:55.284470",
     "status": "completed"
    },
    "tags": []
   },
   "source": [
    "# Splitting Features & Output"
   ]
  },
  {
   "cell_type": "code",
   "execution_count": null,
   "id": "2706fcb3",
   "metadata": {
    "execution": {
     "iopub.execute_input": "2025-02-13T15:08:55.363928Z",
     "iopub.status.busy": "2025-02-13T15:08:55.363581Z",
     "iopub.status.idle": "2025-02-13T15:08:55.381706Z",
     "shell.execute_reply": "2025-02-13T15:08:55.380642Z"
    },
    "id": "LAwjigN5_g8m",
    "outputId": "297152af-17cd-4acb-9288-fcf74d7878e0",
    "papermill": {
     "duration": 0.048293,
     "end_time": "2025-02-13T15:08:55.383690",
     "exception": false,
     "start_time": "2025-02-13T15:08:55.335397",
     "status": "completed"
    },
    "tags": []
   },
   "outputs": [],
   "source": [
    "X = data.drop(['price'] , axis=1 , inplace = False)\n",
    "X"
   ]
  },
  {
   "cell_type": "code",
   "execution_count": null,
   "id": "52e0b8b6",
   "metadata": {
    "execution": {
     "iopub.execute_input": "2025-02-13T15:08:55.435829Z",
     "iopub.status.busy": "2025-02-13T15:08:55.435458Z",
     "iopub.status.idle": "2025-02-13T15:08:55.442513Z",
     "shell.execute_reply": "2025-02-13T15:08:55.441429Z"
    },
    "id": "QK8IzAvK_hFt",
    "outputId": "69535c4c-ab0c-42d0-c0bf-06740d0c89dc",
    "papermill": {
     "duration": 0.035111,
     "end_time": "2025-02-13T15:08:55.444316",
     "exception": false,
     "start_time": "2025-02-13T15:08:55.409205",
     "status": "completed"
    },
    "tags": []
   },
   "outputs": [],
   "source": [
    "y = data['price']\n",
    "y"
   ]
  },
  {
   "cell_type": "markdown",
   "id": "c57e1505",
   "metadata": {
    "id": "HoxEhMsoO_0C",
    "papermill": {
     "duration": 0.025101,
     "end_time": "2025-02-13T15:08:55.494385",
     "exception": false,
     "start_time": "2025-02-13T15:08:55.469284",
     "status": "completed"
    },
    "tags": []
   },
   "source": [
    "# Dividing data (Train & Test)"
   ]
  },
  {
   "cell_type": "code",
   "execution_count": null,
   "id": "8d4569d5",
   "metadata": {
    "execution": {
     "iopub.execute_input": "2025-02-13T15:08:55.545813Z",
     "iopub.status.busy": "2025-02-13T15:08:55.545439Z",
     "iopub.status.idle": "2025-02-13T15:08:55.950704Z",
     "shell.execute_reply": "2025-02-13T15:08:55.949028Z"
    },
    "id": "CNVQ7tLASnB_",
    "outputId": "3c1bcec0-72d5-41ba-d398-ff18a0c93958",
    "papermill": {
     "duration": 0.43322,
     "end_time": "2025-02-13T15:08:55.952672",
     "exception": false,
     "start_time": "2025-02-13T15:08:55.519452",
     "status": "completed"
    },
    "tags": []
   },
   "outputs": [],
   "source": [
    "from sklearn.model_selection import train_test_split\n",
    "\n",
    "X_train, X_test, y_train, y_test = train_test_split(X, y, test_size=0.25, random_state=44, shuffle =True)\n",
    "\n",
    "#Splitted Data\n",
    "print('X_train shape is ' , X_train.shape)\n",
    "print('X_test shape is ' , X_test.shape)\n",
    "print('y_train shape is ' , y_train.shape)\n",
    "print('y_test shape is ' , y_test.shape)"
   ]
  },
  {
   "cell_type": "markdown",
   "id": "cecc3cd8",
   "metadata": {
    "id": "VX-xYY02Yr01",
    "papermill": {
     "duration": 0.026315,
     "end_time": "2025-02-13T15:08:56.004145",
     "exception": false,
     "start_time": "2025-02-13T15:08:55.977830",
     "status": "completed"
    },
    "tags": []
   },
   "source": [
    "# Training"
   ]
  },
  {
   "cell_type": "markdown",
   "id": "df819cea",
   "metadata": {
    "id": "MbqmlYv6X9PY",
    "papermill": {
     "duration": 0.024908,
     "end_time": "2025-02-13T15:08:56.055757",
     "exception": false,
     "start_time": "2025-02-13T15:08:56.030849",
     "status": "completed"
    },
    "tags": []
   },
   "source": [
    "# #1 Linear Regression"
   ]
  },
  {
   "cell_type": "code",
   "execution_count": null,
   "id": "48ba8d36",
   "metadata": {
    "execution": {
     "iopub.execute_input": "2025-02-13T15:08:56.107627Z",
     "iopub.status.busy": "2025-02-13T15:08:56.107279Z",
     "iopub.status.idle": "2025-02-13T15:08:56.222042Z",
     "shell.execute_reply": "2025-02-13T15:08:56.220795Z"
    },
    "id": "a0FGR3JQSnaW",
    "papermill": {
     "duration": 0.142996,
     "end_time": "2025-02-13T15:08:56.223980",
     "exception": false,
     "start_time": "2025-02-13T15:08:56.080984",
     "status": "completed"
    },
    "tags": []
   },
   "outputs": [],
   "source": [
    "from sklearn.linear_model import LinearRegression\n",
    "from sklearn.preprocessing import StandardScaler\n",
    "from sklearn.pipeline import make_pipeline"
   ]
  },
  {
   "cell_type": "code",
   "execution_count": null,
   "id": "db11a34b",
   "metadata": {
    "execution": {
     "iopub.execute_input": "2025-02-13T15:08:56.277328Z",
     "iopub.status.busy": "2025-02-13T15:08:56.276911Z",
     "iopub.status.idle": "2025-02-13T15:08:56.369924Z",
     "shell.execute_reply": "2025-02-13T15:08:56.368848Z"
    },
    "id": "l1lgUqXuSnhR",
    "outputId": "0e43a34a-94e5-449b-d510-6b59ea60a951",
    "papermill": {
     "duration": 0.121204,
     "end_time": "2025-02-13T15:08:56.371767",
     "exception": false,
     "start_time": "2025-02-13T15:08:56.250563",
     "status": "completed"
    },
    "tags": []
   },
   "outputs": [],
   "source": [
    "LinearRegressionModel = make_pipeline(StandardScaler() ,LinearRegression(fit_intercept=True, copy_X=True,n_jobs=-1))\n",
    "LinearRegressionModel.fit(X_train, y_train)\n",
    "# 1st step: y = x1Θ1+x2Θ2+x3Θ3+x4Θ4+.......   ===> making the equation\n",
    "# 2nd step: y = n1Θ1+n2Θ2+n3Θ3+n4Θ4+.......   ===> randomizing the weights\n",
    "# 3rd step: calculating output using current weights\n",
    "#           calculating cost function\n",
    "#           updating theta\n",
    "# 3rd step is repeated over all x , y train"
   ]
  },
  {
   "cell_type": "markdown",
   "id": "0793218e",
   "metadata": {
    "id": "w-WLtK34bgG_",
    "papermill": {
     "duration": 0.02612,
     "end_time": "2025-02-13T15:08:56.423438",
     "exception": false,
     "start_time": "2025-02-13T15:08:56.397318",
     "status": "completed"
    },
    "tags": []
   },
   "source": [
    "# Evaluation"
   ]
  },
  {
   "cell_type": "code",
   "execution_count": null,
   "id": "fab81fbe",
   "metadata": {
    "execution": {
     "iopub.execute_input": "2025-02-13T15:08:56.476173Z",
     "iopub.status.busy": "2025-02-13T15:08:56.475686Z",
     "iopub.status.idle": "2025-02-13T15:08:56.485213Z",
     "shell.execute_reply": "2025-02-13T15:08:56.484063Z"
    },
    "id": "8dMhYJdASoO2",
    "outputId": "33093d83-1443-4a4c-c23f-d6cc0e718b1a",
    "papermill": {
     "duration": 0.038425,
     "end_time": "2025-02-13T15:08:56.487270",
     "exception": false,
     "start_time": "2025-02-13T15:08:56.448845",
     "status": "completed"
    },
    "tags": []
   },
   "outputs": [],
   "source": [
    "y_pred = LinearRegressionModel.predict(X_test)"
   ]
  },
  {
   "cell_type": "code",
   "execution_count": null,
   "id": "64025594",
   "metadata": {
    "execution": {
     "iopub.execute_input": "2025-02-13T15:08:56.596347Z",
     "iopub.status.busy": "2025-02-13T15:08:56.595919Z",
     "iopub.status.idle": "2025-02-13T15:08:56.600214Z",
     "shell.execute_reply": "2025-02-13T15:08:56.599093Z"
    },
    "id": "52KdyRVLbnh-",
    "papermill": {
     "duration": 0.032723,
     "end_time": "2025-02-13T15:08:56.601740",
     "exception": false,
     "start_time": "2025-02-13T15:08:56.569017",
     "status": "completed"
    },
    "tags": []
   },
   "outputs": [],
   "source": [
    "from sklearn.metrics import mean_squared_error, r2_score"
   ]
  },
  {
   "cell_type": "code",
   "execution_count": null,
   "id": "ef00ace7",
   "metadata": {
    "execution": {
     "iopub.execute_input": "2025-02-13T15:08:56.656681Z",
     "iopub.status.busy": "2025-02-13T15:08:56.656280Z",
     "iopub.status.idle": "2025-02-13T15:08:56.662891Z",
     "shell.execute_reply": "2025-02-13T15:08:56.661787Z"
    },
    "id": "z12xEFW8GgnQ",
    "outputId": "49c4ecd8-d547-4df1-acb6-352646731b1b",
    "papermill": {
     "duration": 0.036263,
     "end_time": "2025-02-13T15:08:56.664739",
     "exception": false,
     "start_time": "2025-02-13T15:08:56.628476",
     "status": "completed"
    },
    "tags": []
   },
   "outputs": [],
   "source": [
    "#Calculating Cost Function (MSE)\n",
    "MSEValue = mean_squared_error(y_test, y_pred, multioutput='uniform_average')\n",
    "print('Mean Squared Error Value is : ', MSEValue)"
   ]
  },
  {
   "cell_type": "code",
   "execution_count": null,
   "id": "c3d47b2d",
   "metadata": {
    "execution": {
     "iopub.execute_input": "2025-02-13T15:08:56.718645Z",
     "iopub.status.busy": "2025-02-13T15:08:56.718301Z",
     "iopub.status.idle": "2025-02-13T15:08:56.737287Z",
     "shell.execute_reply": "2025-02-13T15:08:56.735929Z"
    },
    "id": "bdUFjD3Pbnt3",
    "outputId": "6ee7761d-69f0-4a2c-b19b-cc5d5aa53f36",
    "papermill": {
     "duration": 0.047907,
     "end_time": "2025-02-13T15:08:56.739215",
     "exception": false,
     "start_time": "2025-02-13T15:08:56.691308",
     "status": "completed"
    },
    "tags": []
   },
   "outputs": [],
   "source": [
    "print('Linear Regression Train Score is : ' , LinearRegressionModel.score(X_train, y_train)*100,\"%\")\n",
    "print('Linear Regression Test Score is : ' , LinearRegressionModel.score(X_test, y_test)*100,\"%\")"
   ]
  },
  {
   "cell_type": "markdown",
   "id": "c4581926",
   "metadata": {
    "id": "IJNo7pqZDb9n",
    "papermill": {
     "duration": 0.025519,
     "end_time": "2025-02-13T15:08:56.790115",
     "exception": false,
     "start_time": "2025-02-13T15:08:56.764596",
     "status": "completed"
    },
    "tags": []
   },
   "source": [
    "# #2 Random Forest Regression"
   ]
  },
  {
   "cell_type": "code",
   "execution_count": null,
   "id": "6f30b4a4",
   "metadata": {
    "execution": {
     "iopub.execute_input": "2025-02-13T15:08:56.844020Z",
     "iopub.status.busy": "2025-02-13T15:08:56.843644Z",
     "iopub.status.idle": "2025-02-13T15:08:58.816241Z",
     "shell.execute_reply": "2025-02-13T15:08:58.815094Z"
    },
    "id": "7SDl0l0tboAQ",
    "outputId": "cf0a1df1-9f4f-427b-8bb3-236f3a1ab657",
    "papermill": {
     "duration": 2.001731,
     "end_time": "2025-02-13T15:08:58.818138",
     "exception": false,
     "start_time": "2025-02-13T15:08:56.816407",
     "status": "completed"
    },
    "tags": []
   },
   "outputs": [],
   "source": [
    "from sklearn.ensemble import RandomForestRegressor\n",
    "\n",
    "RandomForestRegressorModel = RandomForestRegressor(n_estimators=100,max_depth=2, random_state=44)\n",
    "RandomForestRegressorModel.fit(X_train, y_train)"
   ]
  },
  {
   "cell_type": "code",
   "execution_count": null,
   "id": "60b40f01",
   "metadata": {
    "execution": {
     "iopub.execute_input": "2025-02-13T15:08:58.873200Z",
     "iopub.status.busy": "2025-02-13T15:08:58.872773Z",
     "iopub.status.idle": "2025-02-13T15:08:58.978738Z",
     "shell.execute_reply": "2025-02-13T15:08:58.977696Z"
    },
    "id": "qW-crSIxboIc",
    "outputId": "4afe6292-51c6-4cba-e96e-a464e706573d",
    "papermill": {
     "duration": 0.13491,
     "end_time": "2025-02-13T15:08:58.980536",
     "exception": false,
     "start_time": "2025-02-13T15:08:58.845626",
     "status": "completed"
    },
    "tags": []
   },
   "outputs": [],
   "source": [
    "print('Random Forest Regressor Train Score is : ' , RandomForestRegressorModel.score(X_train, y_train)*100,\"%\")\n",
    "print('Random Forest Regressor Test Score is : ' , RandomForestRegressorModel.score(X_test, y_test)*100,\"%\")"
   ]
  },
  {
   "cell_type": "code",
   "execution_count": null,
   "id": "e3b1ab2f",
   "metadata": {
    "execution": {
     "iopub.execute_input": "2025-02-13T15:08:59.035709Z",
     "iopub.status.busy": "2025-02-13T15:08:59.035331Z",
     "iopub.status.idle": "2025-02-13T15:08:59.068237Z",
     "shell.execute_reply": "2025-02-13T15:08:59.067169Z"
    },
    "id": "Iaq4dC7CBbou",
    "outputId": "8ce5a355-ef30-435a-bc62-10a53c559f13",
    "papermill": {
     "duration": 0.062127,
     "end_time": "2025-02-13T15:08:59.069914",
     "exception": false,
     "start_time": "2025-02-13T15:08:59.007787",
     "status": "completed"
    },
    "tags": []
   },
   "outputs": [],
   "source": [
    "#Calculating Cost Function (MSE)\n",
    "y_pred = RandomForestRegressorModel.predict(X_test)\n",
    "\n",
    "MSEValue = mean_squared_error(y_test, y_pred, multioutput='uniform_average')\n",
    "print('Mean Squared Error Value is : ', MSEValue)"
   ]
  },
  {
   "cell_type": "markdown",
   "id": "fcd38ad2",
   "metadata": {
    "id": "mghtUhOOEePv",
    "papermill": {
     "duration": 0.026179,
     "end_time": "2025-02-13T15:08:59.122233",
     "exception": false,
     "start_time": "2025-02-13T15:08:59.096054",
     "status": "completed"
    },
    "tags": []
   },
   "source": [
    "# #3 Decision Tree Rgeression"
   ]
  },
  {
   "cell_type": "code",
   "execution_count": null,
   "id": "820a44ec",
   "metadata": {
    "execution": {
     "iopub.execute_input": "2025-02-13T15:08:59.175871Z",
     "iopub.status.busy": "2025-02-13T15:08:59.175494Z",
     "iopub.status.idle": "2025-02-13T15:08:59.179694Z",
     "shell.execute_reply": "2025-02-13T15:08:59.178635Z"
    },
    "id": "WkIHUrcWD3sg",
    "papermill": {
     "duration": 0.033229,
     "end_time": "2025-02-13T15:08:59.181453",
     "exception": false,
     "start_time": "2025-02-13T15:08:59.148224",
     "status": "completed"
    },
    "tags": []
   },
   "outputs": [],
   "source": [
    "from sklearn.tree import DecisionTreeRegressor"
   ]
  },
  {
   "cell_type": "code",
   "execution_count": null,
   "id": "71c49bad",
   "metadata": {
    "execution": {
     "iopub.execute_input": "2025-02-13T15:08:59.234631Z",
     "iopub.status.busy": "2025-02-13T15:08:59.234242Z",
     "iopub.status.idle": "2025-02-13T15:08:59.274708Z",
     "shell.execute_reply": "2025-02-13T15:08:59.273610Z"
    },
    "id": "ZJPDQq4VD3xd",
    "outputId": "f74b6a44-52e2-4a46-bb72-2ea9b43c7479",
    "papermill": {
     "duration": 0.068972,
     "end_time": "2025-02-13T15:08:59.276597",
     "exception": false,
     "start_time": "2025-02-13T15:08:59.207625",
     "status": "completed"
    },
    "tags": []
   },
   "outputs": [],
   "source": [
    "DecisionTreeRegressorModel = DecisionTreeRegressor( max_depth=3,random_state=33)\n",
    "DecisionTreeRegressorModel.fit(X_train, y_train)"
   ]
  },
  {
   "cell_type": "code",
   "execution_count": null,
   "id": "9862cee1",
   "metadata": {
    "execution": {
     "iopub.execute_input": "2025-02-13T15:08:59.330020Z",
     "iopub.status.busy": "2025-02-13T15:08:59.329616Z",
     "iopub.status.idle": "2025-02-13T15:08:59.338399Z",
     "shell.execute_reply": "2025-02-13T15:08:59.337357Z"
    },
    "id": "0DoUr6A7D33Y",
    "outputId": "860241e4-067b-4913-9081-9f660ec82bbb",
    "papermill": {
     "duration": 0.037446,
     "end_time": "2025-02-13T15:08:59.339974",
     "exception": false,
     "start_time": "2025-02-13T15:08:59.302528",
     "status": "completed"
    },
    "tags": []
   },
   "outputs": [],
   "source": [
    "#Calculating Cost Function (MSE)\n",
    "y_pred = DecisionTreeRegressorModel.predict(X_test)\n",
    "MSEValue = mean_squared_error(y_test, y_pred, multioutput='uniform_average')\n",
    "print('Mean Squared Error Value is : ', MSEValue)"
   ]
  },
  {
   "cell_type": "code",
   "execution_count": null,
   "id": "f64350e6",
   "metadata": {
    "execution": {
     "iopub.execute_input": "2025-02-13T15:08:59.392847Z",
     "iopub.status.busy": "2025-02-13T15:08:59.392518Z",
     "iopub.status.idle": "2025-02-13T15:08:59.405213Z",
     "shell.execute_reply": "2025-02-13T15:08:59.404069Z"
    },
    "id": "aAP8bJ9XZ8Rv",
    "outputId": "9c70afbd-916a-44bf-f9e5-426ea47f7e6e",
    "papermill": {
     "duration": 0.040999,
     "end_time": "2025-02-13T15:08:59.406876",
     "exception": false,
     "start_time": "2025-02-13T15:08:59.365877",
     "status": "completed"
    },
    "tags": []
   },
   "outputs": [],
   "source": [
    "print('DecisionTreeRegressor Train Score is : ' , DecisionTreeRegressorModel.score(X_train, y_train)*100,\"%\")\n",
    "print('DecisionTreeRegressor Test Score is : ' , DecisionTreeRegressorModel.score(X_test, y_test)*100,\"%\")"
   ]
  },
  {
   "cell_type": "markdown",
   "id": "9297dc47",
   "metadata": {
    "id": "DlYnuxyKFLKF",
    "papermill": {
     "duration": 0.026629,
     "end_time": "2025-02-13T15:08:59.459585",
     "exception": false,
     "start_time": "2025-02-13T15:08:59.432956",
     "status": "completed"
    },
    "tags": []
   },
   "source": [
    "# #4 KNN Regression"
   ]
  },
  {
   "cell_type": "code",
   "execution_count": null,
   "id": "8ab32a93",
   "metadata": {
    "execution": {
     "iopub.execute_input": "2025-02-13T15:08:59.514206Z",
     "iopub.status.busy": "2025-02-13T15:08:59.513745Z",
     "iopub.status.idle": "2025-02-13T15:08:59.517897Z",
     "shell.execute_reply": "2025-02-13T15:08:59.516895Z"
    },
    "id": "BxxdoooED3_D",
    "papermill": {
     "duration": 0.033621,
     "end_time": "2025-02-13T15:08:59.519652",
     "exception": false,
     "start_time": "2025-02-13T15:08:59.486031",
     "status": "completed"
    },
    "tags": []
   },
   "outputs": [],
   "source": [
    "from sklearn.neighbors import KNeighborsRegressor"
   ]
  },
  {
   "cell_type": "code",
   "execution_count": null,
   "id": "847fd4c0",
   "metadata": {
    "execution": {
     "iopub.execute_input": "2025-02-13T15:08:59.573495Z",
     "iopub.status.busy": "2025-02-13T15:08:59.573085Z",
     "iopub.status.idle": "2025-02-13T15:08:59.629146Z",
     "shell.execute_reply": "2025-02-13T15:08:59.628090Z"
    },
    "id": "-Rwo7NlfD4Dy",
    "outputId": "6464c76b-ebe9-4e6a-97cf-8c3d62b7f325",
    "papermill": {
     "duration": 0.085302,
     "end_time": "2025-02-13T15:08:59.631028",
     "exception": false,
     "start_time": "2025-02-13T15:08:59.545726",
     "status": "completed"
    },
    "tags": []
   },
   "outputs": [],
   "source": [
    "KNeighborsRegressorModel = KNeighborsRegressor(n_neighbors = 5, weights='uniform', #also can be : distance, or defined function\n",
    "                                               algorithm = 'auto')    #also can be : ball_tree ,  kd_tree  , brute\n",
    "KNeighborsRegressorModel.fit(X_train, y_train)"
   ]
  },
  {
   "cell_type": "code",
   "execution_count": null,
   "id": "e35fae06",
   "metadata": {
    "execution": {
     "iopub.execute_input": "2025-02-13T15:08:59.685158Z",
     "iopub.status.busy": "2025-02-13T15:08:59.684750Z",
     "iopub.status.idle": "2025-02-13T15:09:00.021130Z",
     "shell.execute_reply": "2025-02-13T15:09:00.019920Z"
    },
    "id": "32GIgL0MD4IX",
    "outputId": "59b2f473-7738-4791-fbcd-a5b3ad921642",
    "papermill": {
     "duration": 0.365174,
     "end_time": "2025-02-13T15:09:00.022921",
     "exception": false,
     "start_time": "2025-02-13T15:08:59.657747",
     "status": "completed"
    },
    "tags": []
   },
   "outputs": [],
   "source": [
    "#Calculating Cost Function (MSE)\n",
    "y_pred = KNeighborsRegressorModel.predict(X_test)\n",
    "MSEValue = mean_squared_error(y_test, y_pred, multioutput='uniform_average')\n",
    "print('Mean Squared Error Value is : ', MSEValue)"
   ]
  },
  {
   "cell_type": "code",
   "execution_count": null,
   "id": "ff49ba55",
   "metadata": {
    "execution": {
     "iopub.execute_input": "2025-02-13T15:09:00.077532Z",
     "iopub.status.busy": "2025-02-13T15:09:00.077147Z",
     "iopub.status.idle": "2025-02-13T15:09:01.429198Z",
     "shell.execute_reply": "2025-02-13T15:09:01.428070Z"
    },
    "id": "OhlrdgpYD4NN",
    "outputId": "cba5c1b6-7d94-40b5-cad0-b40ad4b82f74",
    "papermill": {
     "duration": 1.3817,
     "end_time": "2025-02-13T15:09:01.431196",
     "exception": false,
     "start_time": "2025-02-13T15:09:00.049496",
     "status": "completed"
    },
    "tags": []
   },
   "outputs": [],
   "source": [
    "print(\"KNeighborsRegressorModel Train Score is : \" , KNeighborsRegressorModel.score(X_train, y_train)*100,\"%\")\n",
    "print(\"KNeighborsRegressorModel Test Score is : \" , KNeighborsRegressorModel.score(X_test, y_test)*100,\"%\")"
   ]
  },
  {
   "cell_type": "markdown",
   "id": "c63d43c8",
   "metadata": {
    "id": "-15YE9lfWLoR",
    "papermill": {
     "duration": 0.026397,
     "end_time": "2025-02-13T15:09:01.484734",
     "exception": false,
     "start_time": "2025-02-13T15:09:01.458337",
     "status": "completed"
    },
    "tags": []
   },
   "source": [
    "## Conclusion  \n",
    "This project focused on predicting diamond prices using various machine learning models. Initial data exploration revealed that most features showed meaningful correlations with the price, except for `depth`, which was removed to potentially improve model performance. Additionally, outliers were filtered to reduce noise and improve accuracy.\n",
    "\n",
    "We trained and evaluated four models: **K-Nearest Neighbors (KNN), Linear Regression, Decision Tree, and Random Forest.**  \n",
    "The models ranked as follows based on their accuracy:  \n",
    "\n",
    "1. **K-Nearest Neighbors (KNN)** achieved the highest performance, with a train score of **97.83%** and a test score of **96.78%**, demonstrating strong generalization.  \n",
    "2. **Linear Regression** performed well, indicating a linear relationship between features and price, with a train score of **90.17%** and a test score of **90.48%**.  \n",
    "3. **Decision Tree Regressor** showed reasonable accuracy, with a train score of **87.93%** and a test score of **88.19%**.  \n",
    "4. **Random Forest Regressor** delivered lower accuracy than expected, with a train score of **81.81%** and a test score of **82.41%**, possibly due to overfitting or suboptimal hyperparameter settings."
   ]
  }
 ],
 "metadata": {
  "colab": {
   "provenance": []
  },
  "kaggle": {
   "accelerator": "none",
   "dataSources": [
    {
     "datasetId": 1312,
     "sourceId": 2368,
     "sourceType": "datasetVersion"
    }
   ],
   "dockerImageVersionId": 30886,
   "isGpuEnabled": false,
   "isInternetEnabled": false,
   "language": "python",
   "sourceType": "notebook"
  },
  "kernelspec": {
   "display_name": "base",
   "language": "python",
   "name": "python3"
  },
  "language_info": {
   "codemirror_mode": {
    "name": "ipython",
    "version": 3
   },
   "file_extension": ".py",
   "mimetype": "text/x-python",
   "name": "python",
   "nbconvert_exporter": "python",
   "pygments_lexer": "ipython3",
   "version": "3.12.2"
  },
  "papermill": {
   "default_parameters": {},
   "duration": 19.974384,
   "end_time": "2025-02-13T15:09:02.232537",
   "environment_variables": {},
   "exception": null,
   "input_path": "__notebook__.ipynb",
   "output_path": "__notebook__.ipynb",
   "parameters": {},
   "start_time": "2025-02-13T15:08:42.258153",
   "version": "2.6.0"
  }
 },
 "nbformat": 4,
 "nbformat_minor": 5
}
