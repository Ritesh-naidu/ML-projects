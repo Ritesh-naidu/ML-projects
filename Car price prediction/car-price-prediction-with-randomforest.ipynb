{
 "cells": [
  {
   "cell_type": "markdown",
   "metadata": {
    "id": "p2P9W5hneI7-"
   },
   "source": [
    "# Import modules and load data"
   ]
  },
  {
   "cell_type": "code",
   "execution_count": null,
   "metadata": {
    "execution": {
     "iopub.execute_input": "2025-02-12T22:32:21.374300Z",
     "iopub.status.busy": "2025-02-12T22:32:21.374007Z",
     "iopub.status.idle": "2025-02-12T22:32:25.479451Z",
     "shell.execute_reply": "2025-02-12T22:32:25.478271Z",
     "shell.execute_reply.started": "2025-02-12T22:32:21.374272Z"
    },
    "id": "HlFVKeHbNm0I",
    "trusted": true
   },
   "outputs": [],
   "source": [
    "import numpy as np\n",
    "import pandas as pd\n",
    "import matplotlib.pyplot as plt\n",
    "import seaborn as sns\n",
    "import datetime as dt\n",
    "import warnings\n",
    "from sklearn.preprocessing import StandardScaler, LabelEncoder\n",
    "from sklearn.model_selection import train_test_split\n",
    "from sklearn.linear_model import LinearRegression\n",
    "from sklearn.metrics import mean_squared_error,r2_score\n",
    "from sklearn.ensemble import RandomForestRegressor\n",
    "warnings.filterwarnings('ignore')"
   ]
  },
  {
   "cell_type": "code",
   "execution_count": null,
   "metadata": {
    "execution": {
     "iopub.execute_input": "2025-02-12T22:32:25.482027Z",
     "iopub.status.busy": "2025-02-12T22:32:25.481402Z",
     "iopub.status.idle": "2025-02-12T22:32:25.624574Z",
     "shell.execute_reply": "2025-02-12T22:32:25.623131Z",
     "shell.execute_reply.started": "2025-02-12T22:32:25.481991Z"
    },
    "id": "HKOw-JaUN1K6",
    "trusted": true
   },
   "outputs": [],
   "source": [
    "df = pd.read_csv('//Users/riteshkumar/Downloads/ML projects/Car price prediction/car_price_prediction.csv')"
   ]
  },
  {
   "cell_type": "code",
   "execution_count": null,
   "metadata": {
    "colab": {
     "base_uri": "https://localhost:8080/",
     "height": 328
    },
    "execution": {
     "iopub.execute_input": "2025-02-12T22:32:25.626599Z",
     "iopub.status.busy": "2025-02-12T22:32:25.626127Z",
     "iopub.status.idle": "2025-02-12T22:32:25.670714Z",
     "shell.execute_reply": "2025-02-12T22:32:25.669665Z",
     "shell.execute_reply.started": "2025-02-12T22:32:25.626557Z"
    },
    "id": "hJiKdJuiN1H5",
    "outputId": "36f447df-b52d-4d61-877c-3e98c11840c8",
    "trusted": true
   },
   "outputs": [],
   "source": [
    "df.head()"
   ]
  },
  {
   "cell_type": "markdown",
   "metadata": {
    "id": "Q2_SkrKWeVOg"
   },
   "source": [
    "# Exploring the data"
   ]
  },
  {
   "cell_type": "code",
   "execution_count": null,
   "metadata": {
    "colab": {
     "base_uri": "https://localhost:8080/"
    },
    "execution": {
     "iopub.execute_input": "2025-02-12T22:32:25.672281Z",
     "iopub.status.busy": "2025-02-12T22:32:25.671894Z",
     "iopub.status.idle": "2025-02-12T22:32:25.679492Z",
     "shell.execute_reply": "2025-02-12T22:32:25.678485Z",
     "shell.execute_reply.started": "2025-02-12T22:32:25.672245Z"
    },
    "id": "oyl9MpqbSSrw",
    "outputId": "83e56c39-e27d-4d71-ee48-f8365ec1ada5",
    "trusted": true
   },
   "outputs": [],
   "source": [
    "df.shape"
   ]
  },
  {
   "cell_type": "code",
   "execution_count": null,
   "metadata": {
    "colab": {
     "base_uri": "https://localhost:8080/",
     "height": 300
    },
    "execution": {
     "iopub.execute_input": "2025-02-12T22:32:25.682808Z",
     "iopub.status.busy": "2025-02-12T22:32:25.682387Z",
     "iopub.status.idle": "2025-02-12T22:32:25.726118Z",
     "shell.execute_reply": "2025-02-12T22:32:25.725017Z",
     "shell.execute_reply.started": "2025-02-12T22:32:25.682770Z"
    },
    "id": "9HDPoNeUN1Ed",
    "outputId": "e47cc91f-d927-4ee7-c626-10be4615e141",
    "trusted": true
   },
   "outputs": [],
   "source": [
    "df.describe()\n"
   ]
  },
  {
   "cell_type": "code",
   "execution_count": null,
   "metadata": {
    "colab": {
     "base_uri": "https://localhost:8080/"
    },
    "execution": {
     "iopub.execute_input": "2025-02-12T22:32:25.728286Z",
     "iopub.status.busy": "2025-02-12T22:32:25.727950Z",
     "iopub.status.idle": "2025-02-12T22:32:25.769636Z",
     "shell.execute_reply": "2025-02-12T22:32:25.768476Z",
     "shell.execute_reply.started": "2025-02-12T22:32:25.728258Z"
    },
    "id": "aRIsmLl1V2-e",
    "outputId": "9f2480c8-2b87-4a17-ac32-f7248c92dfe7",
    "trusted": true
   },
   "outputs": [],
   "source": [
    "df.info()"
   ]
  },
  {
   "cell_type": "markdown",
   "metadata": {
    "id": "Wk75dZKOfffZ"
   },
   "source": [
    "## Notes:\n",
    "- Id is not useful\n",
    "- Engine volume and Mileage are object instead of numerical data type\n",
    "- Cylinders can be integer"
   ]
  },
  {
   "cell_type": "code",
   "execution_count": null,
   "metadata": {
    "colab": {
     "base_uri": "https://localhost:8080/"
    },
    "execution": {
     "iopub.execute_input": "2025-02-12T22:32:25.771402Z",
     "iopub.status.busy": "2025-02-12T22:32:25.771002Z",
     "iopub.status.idle": "2025-02-12T22:32:25.803844Z",
     "shell.execute_reply": "2025-02-12T22:32:25.802653Z",
     "shell.execute_reply.started": "2025-02-12T22:32:25.771346Z"
    },
    "id": "gCCfSNlRN1Bs",
    "outputId": "e7790e23-0482-464d-8ab6-d49457ea32c6",
    "trusted": true
   },
   "outputs": [],
   "source": [
    "df.duplicated().sum()"
   ]
  },
  {
   "cell_type": "code",
   "execution_count": null,
   "metadata": {
    "colab": {
     "base_uri": "https://localhost:8080/",
     "height": 649
    },
    "execution": {
     "iopub.execute_input": "2025-02-12T22:32:25.805595Z",
     "iopub.status.busy": "2025-02-12T22:32:25.805202Z",
     "iopub.status.idle": "2025-02-12T22:32:25.828073Z",
     "shell.execute_reply": "2025-02-12T22:32:25.826658Z",
     "shell.execute_reply.started": "2025-02-12T22:32:25.805553Z"
    },
    "id": "oV-dznSMN07t",
    "outputId": "0133800f-6122-4ba4-bfc0-330fc48a25a9",
    "trusted": true
   },
   "outputs": [],
   "source": [
    "df.isna().sum()"
   ]
  },
  {
   "cell_type": "code",
   "execution_count": null,
   "metadata": {
    "colab": {
     "base_uri": "https://localhost:8080/",
     "height": 614
    },
    "execution": {
     "iopub.execute_input": "2025-02-12T22:32:25.829501Z",
     "iopub.status.busy": "2025-02-12T22:32:25.829035Z",
     "iopub.status.idle": "2025-02-12T22:32:25.917891Z",
     "shell.execute_reply": "2025-02-12T22:32:25.916360Z",
     "shell.execute_reply.started": "2025-02-12T22:32:25.829461Z"
    },
    "id": "OilZz_1OgE1-",
    "outputId": "ed454b97-b653-4d7d-82a8-5bf66cff2fcc",
    "trusted": true
   },
   "outputs": [],
   "source": [
    "# get the most 5 frequent items in each column in a new dataframe\n",
    "most_frequent_items = df.apply(lambda x: x.value_counts().head(5).index.tolist())\n",
    "most_frequent_items_df = pd.DataFrame(most_frequent_items)\n",
    "most_frequent_items_df\n"
   ]
  },
  {
   "cell_type": "markdown",
   "metadata": {
    "id": "Cbj8-GHretw9"
   },
   "source": [
    "# Data cleaning\n"
   ]
  },
  {
   "cell_type": "code",
   "execution_count": null,
   "metadata": {
    "execution": {
     "iopub.execute_input": "2025-02-12T22:32:25.919683Z",
     "iopub.status.busy": "2025-02-12T22:32:25.919266Z",
     "iopub.status.idle": "2025-02-12T22:32:25.965878Z",
     "shell.execute_reply": "2025-02-12T22:32:25.964494Z",
     "shell.execute_reply.started": "2025-02-12T22:32:25.919650Z"
    },
    "id": "-wyWHoHuN0-W",
    "trusted": true
   },
   "outputs": [],
   "source": [
    "df.drop_duplicates(inplace=True)"
   ]
  },
  {
   "cell_type": "code",
   "execution_count": null,
   "metadata": {
    "execution": {
     "iopub.execute_input": "2025-02-12T22:32:25.967626Z",
     "iopub.status.busy": "2025-02-12T22:32:25.967187Z",
     "iopub.status.idle": "2025-02-12T22:32:25.980210Z",
     "shell.execute_reply": "2025-02-12T22:32:25.978701Z",
     "shell.execute_reply.started": "2025-02-12T22:32:25.967575Z"
    },
    "id": "6qrMXtwocj5F",
    "trusted": true
   },
   "outputs": [],
   "source": [
    "df.drop('ID', axis=1, inplace=True)"
   ]
  },
  {
   "cell_type": "code",
   "execution_count": null,
   "metadata": {
    "colab": {
     "base_uri": "https://localhost:8080/",
     "height": 272
    },
    "execution": {
     "iopub.execute_input": "2025-02-12T22:32:25.982021Z",
     "iopub.status.busy": "2025-02-12T22:32:25.981639Z",
     "iopub.status.idle": "2025-02-12T22:32:25.998319Z",
     "shell.execute_reply": "2025-02-12T22:32:25.997177Z",
     "shell.execute_reply.started": "2025-02-12T22:32:25.981977Z"
    },
    "id": "S489jgslcGkZ",
    "outputId": "844cb022-eeb1-43fd-ab92-1484aa18b3ff",
    "trusted": true
   },
   "outputs": [],
   "source": [
    "df['Levy'].value_counts().head() / len(df)*100"
   ]
  },
  {
   "cell_type": "markdown",
   "metadata": {
    "id": "Jk9C4HGify1R"
   },
   "source": [
    "30% of this column is `-`"
   ]
  },
  {
   "cell_type": "code",
   "execution_count": null,
   "metadata": {
    "execution": {
     "iopub.execute_input": "2025-02-12T22:32:26.000084Z",
     "iopub.status.busy": "2025-02-12T22:32:25.999702Z",
     "iopub.status.idle": "2025-02-12T22:32:26.027512Z",
     "shell.execute_reply": "2025-02-12T22:32:26.026375Z",
     "shell.execute_reply.started": "2025-02-12T22:32:26.000054Z"
    },
    "id": "82mCvjFIcGhz",
    "trusted": true
   },
   "outputs": [],
   "source": [
    "df['Levy'] = df['Levy'].replace('-', 0)\n",
    "df['Levy'] = df['Levy'].astype(float)"
   ]
  },
  {
   "cell_type": "code",
   "execution_count": null,
   "metadata": {
    "execution": {
     "iopub.execute_input": "2025-02-12T22:32:26.032157Z",
     "iopub.status.busy": "2025-02-12T22:32:26.031830Z",
     "iopub.status.idle": "2025-02-12T22:32:26.152637Z",
     "shell.execute_reply": "2025-02-12T22:32:26.151180Z",
     "shell.execute_reply.started": "2025-02-12T22:32:26.032129Z"
    },
    "id": "tzY8SjGdiuMh",
    "trusted": true
   },
   "outputs": [],
   "source": [
    "df['Engine volume'] = df['Engine volume'].str.split(' ').str[0].astype(float)"
   ]
  },
  {
   "cell_type": "code",
   "execution_count": null,
   "metadata": {
    "execution": {
     "iopub.execute_input": "2025-02-12T22:32:26.155104Z",
     "iopub.status.busy": "2025-02-12T22:32:26.154697Z",
     "iopub.status.idle": "2025-02-12T22:32:26.190872Z",
     "shell.execute_reply": "2025-02-12T22:32:26.189651Z",
     "shell.execute_reply.started": "2025-02-12T22:32:26.155070Z"
    },
    "id": "X0o4ErZ3s_Ch",
    "trusted": true
   },
   "outputs": [],
   "source": [
    "df['Mileage']= df['Mileage'].str.split(' ').str[0].astype(float)"
   ]
  },
  {
   "cell_type": "code",
   "execution_count": null,
   "metadata": {
    "execution": {
     "iopub.execute_input": "2025-02-12T22:32:26.192520Z",
     "iopub.status.busy": "2025-02-12T22:32:26.192156Z",
     "iopub.status.idle": "2025-02-12T22:32:26.204078Z",
     "shell.execute_reply": "2025-02-12T22:32:26.202946Z",
     "shell.execute_reply.started": "2025-02-12T22:32:26.192492Z"
    },
    "id": "XNu5mpbpKWPw",
    "trusted": true
   },
   "outputs": [],
   "source": [
    "df['Cylinders'] = df['Cylinders'].astype(int)"
   ]
  },
  {
   "cell_type": "code",
   "execution_count": null,
   "metadata": {
    "execution": {
     "iopub.execute_input": "2025-02-12T22:32:26.205678Z",
     "iopub.status.busy": "2025-02-12T22:32:26.205098Z",
     "iopub.status.idle": "2025-02-12T22:32:26.226340Z",
     "shell.execute_reply": "2025-02-12T22:32:26.224992Z",
     "shell.execute_reply.started": "2025-02-12T22:32:26.205422Z"
    },
    "id": "GiRkhn_UzaL3",
    "trusted": true
   },
   "outputs": [],
   "source": [
    "now_year = dt.datetime.now().year\n",
    "df['Age'] = now_year - df['Prod. year']\n",
    "df.drop('Prod. year', axis=1, inplace=True)"
   ]
  },
  {
   "cell_type": "code",
   "execution_count": null,
   "metadata": {
    "execution": {
     "iopub.execute_input": "2025-02-12T22:32:26.227967Z",
     "iopub.status.busy": "2025-02-12T22:32:26.227586Z",
     "iopub.status.idle": "2025-02-12T22:32:26.256315Z",
     "shell.execute_reply": "2025-02-12T22:32:26.255090Z",
     "shell.execute_reply.started": "2025-02-12T22:32:26.227932Z"
    },
    "id": "rBx31Q6IlXqq",
    "trusted": true
   },
   "outputs": [],
   "source": [
    "numerical_columns = df.select_dtypes(include=['int64', 'float64']).columns\n",
    "categorical_columns = df.select_dtypes(include=['object']).columns"
   ]
  },
  {
   "cell_type": "code",
   "execution_count": null,
   "metadata": {
    "execution": {
     "iopub.execute_input": "2025-02-12T22:32:26.258131Z",
     "iopub.status.busy": "2025-02-12T22:32:26.257726Z",
     "iopub.status.idle": "2025-02-12T22:32:26.293076Z",
     "shell.execute_reply": "2025-02-12T22:32:26.292016Z",
     "shell.execute_reply.started": "2025-02-12T22:32:26.258095Z"
    },
    "id": "OKpPVABftL8L",
    "trusted": true
   },
   "outputs": [],
   "source": [
    "Q1 = df[numerical_columns].quantile(0.25)\n",
    "Q3 = df[numerical_columns].quantile(0.75)\n",
    "IQR = Q3 - Q1\n",
    "lowerBound = Q1 - 1.5 * IQR\n",
    "upperBound = Q3 + 1.5 * IQR\n",
    "df = df[~((df[numerical_columns] < lowerBound) | (df[numerical_columns] > upperBound)).any(axis=1)]"
   ]
  },
  {
   "cell_type": "code",
   "execution_count": null,
   "metadata": {
    "id": "oVpymUO0tL1Y",
    "trusted": true
   },
   "outputs": [],
   "source": []
  },
  {
   "cell_type": "markdown",
   "metadata": {
    "id": "5yLTCUghrfe0"
   },
   "source": [
    "# Exploratory Data Analysis\n"
   ]
  },
  {
   "cell_type": "code",
   "execution_count": null,
   "metadata": {
    "colab": {
     "base_uri": "https://localhost:8080/",
     "height": 806
    },
    "execution": {
     "iopub.execute_input": "2025-02-12T22:32:26.294668Z",
     "iopub.status.busy": "2025-02-12T22:32:26.294266Z",
     "iopub.status.idle": "2025-02-12T22:32:28.193464Z",
     "shell.execute_reply": "2025-02-12T22:32:28.192282Z",
     "shell.execute_reply.started": "2025-02-12T22:32:26.294622Z"
    },
    "id": "dGY2PpAzfYiu",
    "outputId": "8f4071f7-522c-4b2f-924f-e2a803b5a991",
    "trusted": true
   },
   "outputs": [],
   "source": [
    "plt.figure(figsize=(10, 8))\n",
    "\n",
    "for i, column in enumerate(numerical_columns):\n",
    "    plt.subplot(4,2,i + 1)\n",
    "    sns.histplot(df[column], bins=20, alpha=0.5, label=column, kde=True)\n",
    "    plt.legend()\n",
    "    plt.xlabel(column)\n",
    "plt.tight_layout()\n",
    "plt.show()"
   ]
  },
  {
   "cell_type": "code",
   "execution_count": null,
   "metadata": {
    "colab": {
     "base_uri": "https://localhost:8080/",
     "height": 807
    },
    "execution": {
     "iopub.execute_input": "2025-02-12T22:32:28.195220Z",
     "iopub.status.busy": "2025-02-12T22:32:28.194823Z",
     "iopub.status.idle": "2025-02-12T22:32:29.513200Z",
     "shell.execute_reply": "2025-02-12T22:32:29.511910Z",
     "shell.execute_reply.started": "2025-02-12T22:32:28.195179Z"
    },
    "id": "754ylVcvD3yf",
    "outputId": "9e0c760a-3923-4bff-dc28-baa21a809365",
    "trusted": true
   },
   "outputs": [],
   "source": [
    "plt.figure(figsize=(10, 8))\n",
    "\n",
    "for i, column in enumerate(categorical_columns):\n",
    "    plt.subplot(4,3,i + 1)\n",
    "    sns.countplot(x = df[column],order = df[column].value_counts().index[0:5])\n",
    "    plt.xticks(rotation=45)\n",
    "plt.tight_layout()\n",
    "plt.show()\n"
   ]
  },
  {
   "cell_type": "code",
   "execution_count": null,
   "metadata": {
    "colab": {
     "base_uri": "https://localhost:8080/",
     "height": 807
    },
    "execution": {
     "iopub.execute_input": "2025-02-12T22:32:29.514715Z",
     "iopub.status.busy": "2025-02-12T22:32:29.514322Z",
     "iopub.status.idle": "2025-02-12T22:32:31.363404Z",
     "shell.execute_reply": "2025-02-12T22:32:31.362045Z",
     "shell.execute_reply.started": "2025-02-12T22:32:29.514683Z"
    },
    "id": "f39I1lXLD3v1",
    "outputId": "e0aa3fff-b7cd-423b-b138-92d09b2b20aa",
    "trusted": true
   },
   "outputs": [],
   "source": [
    "plt.figure(figsize=(10, 8))\n",
    "\n",
    "for i, column in enumerate(categorical_columns):\n",
    "    plt.subplot(3,4,i + 1)\n",
    "    sns.boxplot(y=df['Price'],x = df[column],order = df[column].value_counts().index[0:5])\n",
    "    plt.xticks(rotation=45)\n",
    "plt.tight_layout()\n",
    "plt.show()"
   ]
  },
  {
   "cell_type": "code",
   "execution_count": null,
   "metadata": {
    "colab": {
     "base_uri": "https://localhost:8080/",
     "height": 223
    },
    "execution": {
     "iopub.execute_input": "2025-02-12T22:32:31.365299Z",
     "iopub.status.busy": "2025-02-12T22:32:31.364862Z",
     "iopub.status.idle": "2025-02-12T22:32:31.421884Z",
     "shell.execute_reply": "2025-02-12T22:32:31.420316Z",
     "shell.execute_reply.started": "2025-02-12T22:32:31.365256Z"
    },
    "id": "QFMR8TKIJ1sX",
    "outputId": "6151dd0a-8b3e-4f7c-cb72-909c25f4dce1",
    "trusted": true
   },
   "outputs": [],
   "source": [
    "encoder = LabelEncoder()\n",
    "for column in categorical_columns:\n",
    "    df[column] = encoder.fit_transform(df[column])\n",
    "df.sample(5)"
   ]
  },
  {
   "cell_type": "code",
   "execution_count": null,
   "metadata": {
    "colab": {
     "base_uri": "https://localhost:8080/",
     "height": 672
    },
    "execution": {
     "iopub.execute_input": "2025-02-12T22:32:31.423720Z",
     "iopub.status.busy": "2025-02-12T22:32:31.423292Z",
     "iopub.status.idle": "2025-02-12T22:32:31.485488Z",
     "shell.execute_reply": "2025-02-12T22:32:31.484262Z",
     "shell.execute_reply.started": "2025-02-12T22:32:31.423684Z"
    },
    "id": "BTjI_yxHJ_it",
    "outputId": "0ddcb84a-c930-4553-af96-aa60510fd015",
    "trusted": true
   },
   "outputs": [],
   "source": [
    "corr = df.corr()\n",
    "corr"
   ]
  },
  {
   "cell_type": "code",
   "execution_count": null,
   "metadata": {
    "colab": {
     "base_uri": "https://localhost:8080/",
     "height": 930
    },
    "execution": {
     "iopub.execute_input": "2025-02-12T22:32:31.486956Z",
     "iopub.status.busy": "2025-02-12T22:32:31.486575Z",
     "iopub.status.idle": "2025-02-12T22:32:32.646565Z",
     "shell.execute_reply": "2025-02-12T22:32:32.645200Z",
     "shell.execute_reply.started": "2025-02-12T22:32:31.486920Z"
    },
    "id": "0WW6CSiWJ_bz",
    "outputId": "8c362e7a-d721-4a83-fdc1-4252ad07ce25",
    "trusted": true
   },
   "outputs": [],
   "source": [
    "plt.figure(figsize=(15, 10))\n",
    "sns.heatmap(corr, annot=True)\n",
    "plt.show()"
   ]
  },
  {
   "cell_type": "markdown",
   "metadata": {
    "id": "cXDTT2XyI3hw"
   },
   "source": [
    "# Results:\n",
    "- Most cars have 4 cylinders\n",
    "- `Toyota` and `Hyundai` are the most common cars\n",
    "- Most of the cars come with petrol engine and are automatic gear\n",
    "- Car price tend to be affected by the age of the car(the production year)\n",
    "- Engine volume and the wheel type have effeect on car price"
   ]
  },
  {
   "cell_type": "code",
   "execution_count": null,
   "metadata": {
    "execution": {
     "iopub.execute_input": "2025-02-12T22:32:32.648193Z",
     "iopub.status.busy": "2025-02-12T22:32:32.647777Z",
     "iopub.status.idle": "2025-02-12T22:32:32.657394Z",
     "shell.execute_reply": "2025-02-12T22:32:32.656136Z",
     "shell.execute_reply.started": "2025-02-12T22:32:32.648156Z"
    },
    "id": "6cn8eMT0D3pP",
    "trusted": true
   },
   "outputs": [],
   "source": [
    "x=df.drop(['Price','Color','Doors','Cylinders','Drive wheels'],axis=1)\n",
    "y = df['Price']"
   ]
  },
  {
   "cell_type": "code",
   "execution_count": null,
   "metadata": {
    "execution": {
     "iopub.execute_input": "2025-02-12T22:32:32.659638Z",
     "iopub.status.busy": "2025-02-12T22:32:32.659018Z",
     "iopub.status.idle": "2025-02-12T22:32:32.683809Z",
     "shell.execute_reply": "2025-02-12T22:32:32.682462Z",
     "shell.execute_reply.started": "2025-02-12T22:32:32.659582Z"
    },
    "id": "Fe2MHvGTfYfG",
    "trusted": true
   },
   "outputs": [],
   "source": [
    "X_train, X_test, y_train, y_test = train_test_split(x, y, test_size=0.2, random_state=42)"
   ]
  },
  {
   "cell_type": "code",
   "execution_count": null,
   "metadata": {
    "execution": {
     "iopub.execute_input": "2025-02-12T22:32:32.685498Z",
     "iopub.status.busy": "2025-02-12T22:32:32.685105Z",
     "iopub.status.idle": "2025-02-12T22:32:36.623830Z",
     "shell.execute_reply": "2025-02-12T22:32:36.622648Z",
     "shell.execute_reply.started": "2025-02-12T22:32:32.685457Z"
    },
    "id": "drrtVO8oMkTT",
    "trusted": true
   },
   "outputs": [],
   "source": [
    "rf = RandomForestRegressor()\n",
    "rf.fit(X_train, y_train)\n",
    "y_pred = rf.predict(X_test)"
   ]
  },
  {
   "cell_type": "code",
   "execution_count": null,
   "metadata": {
    "colab": {
     "base_uri": "https://localhost:8080/"
    },
    "execution": {
     "iopub.execute_input": "2025-02-12T22:32:36.625339Z",
     "iopub.status.busy": "2025-02-12T22:32:36.624933Z",
     "iopub.status.idle": "2025-02-12T22:32:36.632946Z",
     "shell.execute_reply": "2025-02-12T22:32:36.631649Z",
     "shell.execute_reply.started": "2025-02-12T22:32:36.625299Z"
    },
    "id": "rmUMAqvgMkQa",
    "outputId": "e9fdf576-27b8-4911-902c-c3da26454c77",
    "trusted": true
   },
   "outputs": [],
   "source": [
    "print(r2_score(y_test, y_pred)  )\n",
    "print(mean_squared_error(y_test, y_pred))"
   ]
  },
  {
   "cell_type": "markdown",
   "metadata": {},
   "source": [
    "              If you find this notebook useful .. then I'll be thankful for ur upvote\n"
   ]
  }
 ],
 "metadata": {
  "colab": {
   "provenance": []
  },
  "kernelspec": {
   "display_name": "base",
   "language": "python",
   "name": "python3"
  },
  "language_info": {
   "codemirror_mode": {
    "name": "ipython",
    "version": 3
   },
   "file_extension": ".py",
   "mimetype": "text/x-python",
   "name": "python",
   "nbconvert_exporter": "python",
   "pygments_lexer": "ipython3",
   "version": "3.12.2"
  }
 },
 "nbformat": 4,
 "nbformat_minor": 4
}
