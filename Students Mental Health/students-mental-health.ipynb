{
 "cells": [
  {
   "cell_type": "markdown",
   "metadata": {},
   "source": [
    "# Students' mental health EDA\n",
    "\n",
    "The goal of this notebook is to provide comprehensive EDA and probably gain valuable insights into students' menthal health problem."
   ]
  },
  {
   "cell_type": "code",
   "execution_count": null,
   "metadata": {},
   "outputs": [],
   "source": [
    "# This Python 3 environment comes with many helpful analytics libraries installed\n",
    "# For example, here's several helpful packages to load\n",
    "\n",
    "\n",
    "import numpy as np # linear algebra\n",
    "import pandas as pd # data processing, CSV file I/O (e.g. pd.read_csv)\n",
    "import seaborn as sns\n",
    "import matplotlib.pyplot as plt\n",
    "from sklearn.model_selection import train_test_split\n",
    "from sklearn.ensemble import RandomForestClassifier\n",
    "from sklearn.svm import SVC\n",
    "from sklearn.neighbors import KNeighborsClassifier\n",
    "from sklearn.metrics import accuracy_score\n",
    "from sklearn.preprocessing import StandardScaler\n",
    "import tkinter as tk\n",
    "from tkinter import filedialog, messagebox\n",
    "\n",
    "# Input data files are available in the read-only \"../input/\" directory\n",
    "# For example, running this (by clicking run or pressing Shift+Enter) will list all files under the input directory\n",
    "\n"
   ]
  },
  {
   "cell_type": "code",
   "execution_count": null,
   "metadata": {},
   "outputs": [],
   "source": [
    "df = pd.read_csv('/Users/riteshkumar/Downloads/ML projects/Students Mental Health/mentalhealth_dataset.csv')"
   ]
  },
  {
   "cell_type": "code",
   "execution_count": null,
   "metadata": {},
   "outputs": [],
   "source": [
    "df.head()\n",
    "df.shape"
   ]
  },
  {
   "cell_type": "code",
   "execution_count": null,
   "metadata": {},
   "outputs": [],
   "source": [
    "df.describe()"
   ]
  },
  {
   "cell_type": "code",
   "execution_count": null,
   "metadata": {},
   "outputs": [],
   "source": [
    "df.info()"
   ]
  },
  {
   "cell_type": "code",
   "execution_count": null,
   "metadata": {},
   "outputs": [],
   "source": [
    "df.isna().sum()"
   ]
  },
  {
   "cell_type": "markdown",
   "metadata": {},
   "source": [
    "Wow. We have 1000 entries. No missing values. Data looks promissing, it would be interesting to know what features correlate with anxiety and depresion and to check, wheather anxiety and depression have negative effects on CGPA."
   ]
  },
  {
   "cell_type": "markdown",
   "metadata": {},
   "source": [
    "## `Timestamp`"
   ]
  },
  {
   "cell_type": "code",
   "execution_count": null,
   "metadata": {},
   "outputs": [],
   "source": [
    "g = sns.histplot(df, x='Timestamp', discrete=True)\n",
    "g.set(title='Timestamp histogram')\n",
    "xticks = g.get_xticks()\n",
    "xticks_labels = g.get_xticklabels()\n",
    "g.tick_params(axis='x', labelrotation=45);\n"
   ]
  },
  {
   "cell_type": "markdown",
   "metadata": {},
   "source": [
    "Hm. We observe strange peaks at certain dates. Probably these are days when dataset's owner published it somewhere."
   ]
  },
  {
   "cell_type": "markdown",
   "metadata": {},
   "source": [
    "## `Gender`"
   ]
  },
  {
   "cell_type": "code",
   "execution_count": null,
   "metadata": {},
   "outputs": [],
   "source": [
    "sns.countplot(df, x='Gender').set(title='Gender ratio');"
   ]
  },
  {
   "cell_type": "markdown",
   "metadata": {},
   "source": [
    "Wow. Many women took part in the survey, significantly more than men. That's interesting. We will check later the same ratios for different courses."
   ]
  },
  {
   "cell_type": "markdown",
   "metadata": {},
   "source": [
    "## `Age`"
   ]
  },
  {
   "cell_type": "code",
   "execution_count": null,
   "metadata": {},
   "outputs": [],
   "source": [
    "sns.countplot(df, x='Age').set(title='Students of different ages in data');"
   ]
  },
  {
   "cell_type": "markdown",
   "metadata": {},
   "source": [
    "Nice. Dataset is slightly unballanced, but we have enough samples for ages from 18 to 25 years old. Let's check wheather gender ratio varies significantly for any age group."
   ]
  },
  {
   "cell_type": "code",
   "execution_count": null,
   "metadata": {},
   "outputs": [],
   "source": [
    "sns.countplot(df, x='Age', hue='Gender').set(title='Students of different ages and genders in data');"
   ]
  },
  {
   "cell_type": "markdown",
   "metadata": {},
   "source": [
    "We observe no suspicious gender disbalance for any age group."
   ]
  },
  {
   "cell_type": "markdown",
   "metadata": {},
   "source": [
    "## `Course`"
   ]
  },
  {
   "cell_type": "code",
   "execution_count": null,
   "metadata": {},
   "outputs": [],
   "source": [
    "df.Course.value_counts()"
   ]
  },
  {
   "cell_type": "markdown",
   "metadata": {},
   "source": [
    "Okay, we have lot's of different courses here. Let's visualise only the most popular ones."
   ]
  },
  {
   "cell_type": "code",
   "execution_count": null,
   "metadata": {},
   "outputs": [],
   "source": [
    "plt.figure(figsize=(10,10))\n",
    "sns.countplot(df[df.Course.apply(lambda x: df.Course.value_counts()[x] > 16)], x='Course').set(title='Most popular courses in data');"
   ]
  },
  {
   "cell_type": "markdown",
   "metadata": {},
   "source": [
    "Data seems reasanoble enough. Let's check gender ratios for different courses."
   ]
  },
  {
   "cell_type": "code",
   "execution_count": null,
   "metadata": {},
   "outputs": [],
   "source": [
    "plt.figure(figsize=(10,10))\n",
    "\n",
    "sns.countplot(df[df.Course.apply(lambda x: df.Course.value_counts()[x] > 16)], x='Course', hue='Gender').set(title='Most popular courses in data');"
   ]
  },
  {
   "cell_type": "markdown",
   "metadata": {},
   "source": [
    "Aha. We observe that we do not have data on male participants of psycology, KOE (I'm not sure what that is), laws and engine (?), but we have more male participants on engineering, BIT (Bachelor of Information Technology) and BCS (Bachelor of Computer Science)."
   ]
  },
  {
   "cell_type": "markdown",
   "metadata": {},
   "source": [
    "## `YearOfStudy`"
   ]
  },
  {
   "cell_type": "code",
   "execution_count": null,
   "metadata": {},
   "outputs": [],
   "source": [
    "df.YearOfStudy.value_counts()"
   ]
  },
  {
   "cell_type": "markdown",
   "metadata": {},
   "source": [
    "We need a little cleanup here. Let's make all data in this column lowercase."
   ]
  },
  {
   "cell_type": "code",
   "execution_count": null,
   "metadata": {},
   "outputs": [],
   "source": [
    "df.YearOfStudy = df.YearOfStudy.str.lower()"
   ]
  },
  {
   "cell_type": "code",
   "execution_count": null,
   "metadata": {},
   "outputs": [],
   "source": [
    "df.YearOfStudy.value_counts()"
   ]
  },
  {
   "cell_type": "code",
   "execution_count": null,
   "metadata": {},
   "outputs": [],
   "source": [
    "sns.countplot(df.sort_values(by='YearOfStudy'), x='YearOfStudy').set(title='Raitio of different years of study in data', xlabel='Year of study');"
   ]
  },
  {
   "cell_type": "markdown",
   "metadata": {},
   "source": [
    "Nice. Probably first year students were more motivated to participate in a survery?"
   ]
  },
  {
   "cell_type": "markdown",
   "metadata": {},
   "source": [
    "## `CGPA`"
   ]
  },
  {
   "cell_type": "markdown",
   "metadata": {},
   "source": [
    "CGPA is Cumulative Grade Point Average, a significant indicator of academic performance (high CGPA = good performance)."
   ]
  },
  {
   "cell_type": "code",
   "execution_count": null,
   "metadata": {},
   "outputs": [],
   "source": [
    "sns.histplot(df, x='CGPA').set(title='CGPA histogram');"
   ]
  },
  {
   "cell_type": "markdown",
   "metadata": {},
   "source": [
    "We observe two peaks at 4.0 (excellent performance) and 2.0 (bad performance). Otherwise data looks okay."
   ]
  },
  {
   "cell_type": "markdown",
   "metadata": {},
   "source": [
    "## `Depression`"
   ]
  },
  {
   "cell_type": "code",
   "execution_count": null,
   "metadata": {},
   "outputs": [],
   "source": [
    "sns.countplot(df, x='Depression').set(title='Depression ratio amoung survey participants');"
   ]
  },
  {
   "cell_type": "markdown",
   "metadata": {},
   "source": [
    "That's unexpected. We observe really high depression rate. Probably students with depression were more motivated to participate in the survey? Let's check wheather depression rate depends on gender or year of study."
   ]
  },
  {
   "cell_type": "code",
   "execution_count": null,
   "metadata": {},
   "outputs": [],
   "source": [
    "sns.countplot(df, x='Depression', hue='Gender').set(title='Depression ratio amoung survey participants with different genders');"
   ]
  },
  {
   "cell_type": "markdown",
   "metadata": {},
   "source": [
    "No significant difference in depression ratios amoung genders."
   ]
  },
  {
   "cell_type": "code",
   "execution_count": null,
   "metadata": {},
   "outputs": [],
   "source": [
    "sns.countplot(df.sort_values(by='YearOfStudy'), hue='Depression', x='YearOfStudy').set(title='Depression ratio amoung survey participants with different years of study');"
   ]
  },
  {
   "cell_type": "markdown",
   "metadata": {},
   "source": [
    "Hm. Depression levels are high amoung participants of all years of study, but they are higher amoung year 3 and 4. "
   ]
  },
  {
   "cell_type": "markdown",
   "metadata": {},
   "source": [
    "## `Anxiety`"
   ]
  },
  {
   "cell_type": "code",
   "execution_count": null,
   "metadata": {},
   "outputs": [],
   "source": [
    "sns.countplot(df, x='Anxiety').set(title='Anxiety ratio amoung survey participants');"
   ]
  },
  {
   "cell_type": "code",
   "execution_count": null,
   "metadata": {},
   "outputs": [],
   "source": [
    "sns.countplot(df.sort_values(by='YearOfStudy'), hue='Anxiety', x='YearOfStudy').set(title='Anxiety ratio amoung survey participants with different years of study');"
   ]
  },
  {
   "cell_type": "markdown",
   "metadata": {},
   "source": [
    "Anxiety levels are also high amoung all students."
   ]
  },
  {
   "cell_type": "markdown",
   "metadata": {},
   "source": [
    "## `PanicAttack`"
   ]
  },
  {
   "cell_type": "code",
   "execution_count": null,
   "metadata": {},
   "outputs": [],
   "source": [
    "sns.countplot(df, x='PanicAttack').set(title='PanicAttack ratio amoung survey participants');"
   ]
  },
  {
   "cell_type": "markdown",
   "metadata": {},
   "source": [
    "Let's check that depression, anxiety and panic attacks are highly correlated."
   ]
  },
  {
   "cell_type": "code",
   "execution_count": null,
   "metadata": {},
   "outputs": [],
   "source": [
    "df[['Depression', 'Anxiety', 'PanicAttack']].corr()"
   ]
  },
  {
   "cell_type": "markdown",
   "metadata": {},
   "source": [
    "Wait, that's strange. No correlation at all?"
   ]
  },
  {
   "cell_type": "code",
   "execution_count": null,
   "metadata": {},
   "outputs": [],
   "source": [
    "sns.countplot(df, x='Depression', hue='Anxiety');"
   ]
  },
  {
   "cell_type": "code",
   "execution_count": null,
   "metadata": {},
   "outputs": [],
   "source": [
    "sns.countplot(df, x='Depression', hue='PanicAttack');"
   ]
  },
  {
   "cell_type": "markdown",
   "metadata": {},
   "source": [
    "According to our data participants with depression have the same anxiety and panick attack problems as participants without depression. Thats' strange, currently we do not have an explanation to this."
   ]
  },
  {
   "cell_type": "markdown",
   "metadata": {},
   "source": [
    "## `SpecialistTreatment`"
   ]
  },
  {
   "cell_type": "code",
   "execution_count": null,
   "metadata": {},
   "outputs": [],
   "source": [
    "sns.countplot(df, x='SpecialistTreatment').set(title='Specialist treatment ratio amoung survey participants');"
   ]
  },
  {
   "cell_type": "code",
   "execution_count": null,
   "metadata": {},
   "outputs": [],
   "source": [
    "df[(df['Depression'] == 1) & (df['SpecialistTreatment'] == 1)].shape[0], df[df['Depression'] == 1].shape[0]"
   ]
  },
  {
   "cell_type": "markdown",
   "metadata": {},
   "source": [
    "That's sad. Only 30 (amoung 483) survey participants with depression recieve specialist treatment. Let's also check `HasMentalHealthSupport`"
   ]
  },
  {
   "cell_type": "markdown",
   "metadata": {},
   "source": [
    "## `HasMentalHealthSupport`"
   ]
  },
  {
   "cell_type": "code",
   "execution_count": null,
   "metadata": {},
   "outputs": [],
   "source": [
    "sns.countplot(df, x='HasMentalHealthSupport').set(title='Mental health support ratio amoung survey participants');"
   ]
  },
  {
   "cell_type": "code",
   "execution_count": null,
   "metadata": {},
   "outputs": [],
   "source": [
    "df[(df['Depression'] == 1) & (df['HasMentalHealthSupport'] == 1)].shape[0], df[df['Depression'] == 1].shape[0]"
   ]
  },
  {
   "cell_type": "markdown",
   "metadata": {},
   "source": [
    "Once again the amount of students with mental health support is very low."
   ]
  },
  {
   "cell_type": "markdown",
   "metadata": {},
   "source": [
    "## `SleepQuality` and `StudyStressLevel`\n",
    "\n",
    "Let's check wheather sleep quality of study stress level correlate with depression, anxiety or panick attacks."
   ]
  },
  {
   "cell_type": "code",
   "execution_count": null,
   "metadata": {},
   "outputs": [],
   "source": [
    "df[['Depression', 'Anxiety', 'PanicAttack', 'SleepQuality', 'StudyStressLevel']].corr()"
   ]
  },
  {
   "cell_type": "markdown",
   "metadata": {},
   "source": [
    "We observe no significant correlation between sleep quality, study stress level and depression, anxiety and panick attacks. Thats counter intuitive. We currently have no explanation to that."
   ]
  },
  {
   "cell_type": "code",
   "execution_count": null,
   "metadata": {},
   "outputs": [],
   "source": [
    "def load_data():\n",
    "    file_path = filedialog.askopenfilename(filetypes=[(\"CSV files\", \"*.csv\")])\n",
    "    if not file_path:\n",
    "        return\n",
    "    global df\n",
    "    df = pd.read_csv(file_path)\n",
    "    messagebox.showinfo(\"Success\", \"Dataset Loaded Successfully\")\n"
   ]
  },
  {
   "cell_type": "code",
   "execution_count": null,
   "metadata": {},
   "outputs": [],
   "source": [
    "# Feature Engineering\n",
    "X = df[['Age', 'CGPA', 'StudyStressLevel', 'SleepQuality']]\n",
    "y = df['Depression']\n",
    "X_train, X_test, y_train, y_test = train_test_split(X, y, test_size=0.2, random_state=42)\n",
    "scaler = StandardScaler()\n",
    "X_train = scaler.fit_transform(X_train)\n",
    "X_test = scaler.transform(X_test)"
   ]
  },
  {
   "cell_type": "code",
   "execution_count": null,
   "metadata": {},
   "outputs": [],
   "source": [
    "# Initialize models\n",
    "global models\n",
    "models = {\n",
    "    \"RandomForest\": RandomForestClassifier(n_estimators=100, random_state=42),\n",
    "    \"SVC\": SVC(),\n",
    "    \"KNN\": KNeighborsClassifier(n_neighbors=5),\n",
    "}\n"
   ]
  },
  {
   "cell_type": "code",
   "execution_count": null,
   "metadata": {},
   "outputs": [],
   "source": [
    "results = {}\n",
    "for name, model in models.items():\n",
    "        model.fit(X_train, y_train)\n",
    "        y_pred = model.predict(X_test)\n",
    "        results[name] = accuracy_score(y_test, y_pred)\n",
    "    \n",
    "result_text = \"\".join([f\"{model}: Accuracy = {accuracy:.4f}\\n\" for model, accuracy in results.items()])\n"
   ]
  },
  {
   "cell_type": "code",
   "execution_count": null,
   "metadata": {},
   "outputs": [],
   "source": [
    "def predict_depression():\n",
    "    try:\n",
    "        age = int(age_entry.get())\n",
    "        cgpa = float(cgpa_entry.get())\n",
    "        study_stress = int(study_stress_entry.get())\n",
    "        sleep_quality = int(sleep_quality_entry.get())\n",
    "        model_name = model_var.get()\n",
    "        \n",
    "        input_data = np.array([[age, cgpa, study_stress, sleep_quality]])\n",
    "        input_scaled = scaler.transform(input_data)\n",
    "        \n",
    "        model = models.get(model_name)\n",
    "        if not model:\n",
    "            messagebox.showerror(\"Error\", \"Selected model not found!\")\n",
    "            return\n",
    "        \n",
    "        prediction = model.predict(input_scaled)\n",
    "        result = \"The student might be suffering from depression.\" if prediction[0] == 1 else \"The student is not suffering from depression.\"\n",
    "        messagebox.showinfo(\"Prediction Result\", result)\n",
    "    except ValueError:\n",
    "        messagebox.showerror(\"Input Error\", \"Please enter valid numerical values.\")\n",
    "    except Exception as e:\n",
    "        messagebox.showerror(\"Error\", f\"Unexpected error: {e}\")"
   ]
  },
  {
   "cell_type": "code",
   "execution_count": null,
   "metadata": {},
   "outputs": [],
   "source": [
    "# GUI Setup\n",
    "def create_gui():\n",
    "    global age_entry, cgpa_entry, study_stress_entry, sleep_quality_entry, model_var\n",
    "    root = tk.Tk()\n",
    "    root.title(\"Students' Mental Health Analysis\")\n",
    "    root.geometry(\"400x400\")\n",
    "    \n",
    "    tk.Label(root, text=\"Age:\").pack()\n",
    "    age_entry = tk.Entry(root)\n",
    "    age_entry.pack()\n",
    "    \n",
    "    tk.Label(root, text=\"CGPA:\").pack()\n",
    "    cgpa_entry = tk.Entry(root)\n",
    "    cgpa_entry.pack()\n",
    "    \n",
    "    tk.Label(root, text=\"Study Stress Level (1-10):\").pack()\n",
    "    study_stress_entry = tk.Entry(root)\n",
    "    study_stress_entry.pack()\n",
    "    \n",
    "    tk.Label(root, text=\"Sleep Quality (1-10):\").pack()\n",
    "    sleep_quality_entry = tk.Entry(root)\n",
    "    sleep_quality_entry.pack()\n",
    "    \n",
    "    tk.Label(root, text=\"Select Model:\").pack()\n",
    "    model_var = tk.StringVar(root)\n",
    "    model_var.set(\"RandomForest\")\n",
    "    tk.OptionMenu(root, model_var, *models.keys()).pack()\n",
    "    \n",
    "    tk.Button(root, text=\"Predict Depression\", command=predict_depression).pack(pady=5)\n",
    "    tk.Button(root, text=\"Exit\", command=root.quit).pack(pady=5)\n",
    "    \n",
    "    root.mainloop()"
   ]
  },
  {
   "cell_type": "code",
   "execution_count": null,
   "metadata": {},
   "outputs": [],
   "source": [
    "\n",
    "if __name__ == \"__main__\":\n",
    "    create_gui()\n"
   ]
  }
 ],
 "metadata": {
  "kernelspec": {
   "display_name": "base",
   "language": "python",
   "name": "python3"
  },
  "language_info": {
   "codemirror_mode": {
    "name": "ipython",
    "version": 3
   },
   "file_extension": ".py",
   "mimetype": "text/x-python",
   "name": "python",
   "nbconvert_exporter": "python",
   "pygments_lexer": "ipython3",
   "version": "3.12.2"
  }
 },
 "nbformat": 4,
 "nbformat_minor": 2
}
