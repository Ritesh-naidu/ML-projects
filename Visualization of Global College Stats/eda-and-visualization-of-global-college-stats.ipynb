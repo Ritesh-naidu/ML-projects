{
 "cells": [
  {
   "cell_type": "markdown",
   "id": "457a26ca",
   "metadata": {
    "execution": {
     "iopub.execute_input": "2025-01-29T05:22:35.284818Z",
     "iopub.status.busy": "2025-01-29T05:22:35.284455Z",
     "iopub.status.idle": "2025-01-29T05:22:35.290302Z",
     "shell.execute_reply": "2025-01-29T05:22:35.289380Z",
     "shell.execute_reply.started": "2025-01-29T05:22:35.284791Z"
    },
    "papermill": {
     "duration": 0.012449,
     "end_time": "2025-01-29T05:36:53.040283",
     "exception": false,
     "start_time": "2025-01-29T05:36:53.027834",
     "status": "completed"
    },
    "tags": []
   },
   "source": [
    "# EDA and Prediction of Global College Statisttics "
   ]
  },
  {
   "cell_type": "code",
   "execution_count": null,
   "id": "861caad3",
   "metadata": {
    "execution": {
     "iopub.execute_input": "2025-01-29T05:36:53.063451Z",
     "iopub.status.busy": "2025-01-29T05:36:53.062977Z",
     "iopub.status.idle": "2025-01-29T05:36:57.107016Z",
     "shell.execute_reply": "2025-01-29T05:36:57.105873Z"
    },
    "papermill": {
     "duration": 4.058058,
     "end_time": "2025-01-29T05:36:57.109270",
     "exception": false,
     "start_time": "2025-01-29T05:36:53.051212",
     "status": "completed"
    },
    "tags": []
   },
   "outputs": [],
   "source": [
    "import pandas as pd\n",
    "import numpy as np\n",
    "import matplotlib.pyplot as plt\n",
    "import seaborn as sns\n",
    "from sklearn.model_selection import train_test_split\n",
    "from sklearn.preprocessing import LabelEncoder, StandardScaler\n",
    "from sklearn.ensemble import RandomForestRegressor\n",
    "from sklearn.linear_model import LinearRegression\n",
    "from sklearn.metrics import mean_absolute_error, mean_squared_error, r2_score\n"
   ]
  },
  {
   "cell_type": "markdown",
   "id": "ed36f9d2",
   "metadata": {
    "papermill": {
     "duration": 0.009895,
     "end_time": "2025-01-29T05:36:57.129629",
     "exception": false,
     "start_time": "2025-01-29T05:36:57.119734",
     "status": "completed"
    },
    "tags": []
   },
   "source": [
    "## Load the dataset"
   ]
  },
  {
   "cell_type": "code",
   "execution_count": null,
   "id": "28768684",
   "metadata": {
    "execution": {
     "iopub.execute_input": "2025-01-29T05:36:57.151921Z",
     "iopub.status.busy": "2025-01-29T05:36:57.151372Z",
     "iopub.status.idle": "2025-01-29T05:36:57.317872Z",
     "shell.execute_reply": "2025-01-29T05:36:57.316668Z"
    },
    "papermill": {
     "duration": 0.179939,
     "end_time": "2025-01-29T05:36:57.319989",
     "exception": false,
     "start_time": "2025-01-29T05:36:57.140050",
     "status": "completed"
    },
    "tags": []
   },
   "outputs": [],
   "source": [
    "# Load the dataset\n",
    "df = pd.read_csv('/Users/riteshkumar/Downloads/ML projects/Visualization of Global College Stats/College Data.csv')"
   ]
  },
  {
   "cell_type": "markdown",
   "id": "f5b56fcc",
   "metadata": {
    "papermill": {
     "duration": 0.009929,
     "end_time": "2025-01-29T05:36:57.340450",
     "exception": false,
     "start_time": "2025-01-29T05:36:57.330521",
     "status": "completed"
    },
    "tags": []
   },
   "source": [
    "## Display the first few rows of the dataset"
   ]
  },
  {
   "cell_type": "code",
   "execution_count": null,
   "id": "e15d2004",
   "metadata": {
    "execution": {
     "iopub.execute_input": "2025-01-29T05:36:57.362717Z",
     "iopub.status.busy": "2025-01-29T05:36:57.362219Z",
     "iopub.status.idle": "2025-01-29T05:36:57.391005Z",
     "shell.execute_reply": "2025-01-29T05:36:57.389673Z"
    },
    "papermill": {
     "duration": 0.04229,
     "end_time": "2025-01-29T05:36:57.392928",
     "exception": false,
     "start_time": "2025-01-29T05:36:57.350638",
     "status": "completed"
    },
    "tags": []
   },
   "outputs": [],
   "source": [
    "df.head()"
   ]
  },
  {
   "cell_type": "markdown",
   "id": "44a28b36",
   "metadata": {
    "papermill": {
     "duration": 0.009844,
     "end_time": "2025-01-29T05:36:57.413544",
     "exception": false,
     "start_time": "2025-01-29T05:36:57.403700",
     "status": "completed"
    },
    "tags": []
   },
   "source": [
    "## Summary statistics\n"
   ]
  },
  {
   "cell_type": "code",
   "execution_count": null,
   "id": "c1041e18",
   "metadata": {
    "execution": {
     "iopub.execute_input": "2025-01-29T05:36:57.436307Z",
     "iopub.status.busy": "2025-01-29T05:36:57.435841Z",
     "iopub.status.idle": "2025-01-29T05:36:57.486978Z",
     "shell.execute_reply": "2025-01-29T05:36:57.485881Z"
    },
    "papermill": {
     "duration": 0.064967,
     "end_time": "2025-01-29T05:36:57.488752",
     "exception": false,
     "start_time": "2025-01-29T05:36:57.423785",
     "status": "completed"
    },
    "tags": []
   },
   "outputs": [],
   "source": [
    "df.describe()"
   ]
  },
  {
   "cell_type": "markdown",
   "id": "03899889",
   "metadata": {
    "papermill": {
     "duration": 0.010026,
     "end_time": "2025-01-29T05:36:57.509964",
     "exception": false,
     "start_time": "2025-01-29T05:36:57.499938",
     "status": "completed"
    },
    "tags": []
   },
   "source": [
    "## Check for missing values"
   ]
  },
  {
   "cell_type": "code",
   "execution_count": null,
   "id": "ade651be",
   "metadata": {
    "execution": {
     "iopub.execute_input": "2025-01-29T05:36:57.531953Z",
     "iopub.status.busy": "2025-01-29T05:36:57.531583Z",
     "iopub.status.idle": "2025-01-29T05:36:57.551783Z",
     "shell.execute_reply": "2025-01-29T05:36:57.550569Z"
    },
    "papermill": {
     "duration": 0.033464,
     "end_time": "2025-01-29T05:36:57.553723",
     "exception": false,
     "start_time": "2025-01-29T05:36:57.520259",
     "status": "completed"
    },
    "tags": []
   },
   "outputs": [],
   "source": [
    "df.isnull().sum()"
   ]
  },
  {
   "cell_type": "markdown",
   "id": "797f5593",
   "metadata": {
    "papermill": {
     "duration": 0.011681,
     "end_time": "2025-01-29T05:36:57.576190",
     "exception": false,
     "start_time": "2025-01-29T05:36:57.564509",
     "status": "completed"
    },
    "tags": []
   },
   "source": [
    "## Plot histograms for each numerical feature"
   ]
  },
  {
   "cell_type": "code",
   "execution_count": null,
   "id": "6ba0d68c",
   "metadata": {
    "execution": {
     "iopub.execute_input": "2025-01-29T05:36:57.608579Z",
     "iopub.status.busy": "2025-01-29T05:36:57.608038Z",
     "iopub.status.idle": "2025-01-29T05:36:59.458462Z",
     "shell.execute_reply": "2025-01-29T05:36:59.457198Z"
    },
    "papermill": {
     "duration": 1.866158,
     "end_time": "2025-01-29T05:36:59.460317",
     "exception": false,
     "start_time": "2025-01-29T05:36:57.594159",
     "status": "completed"
    },
    "tags": []
   },
   "outputs": [],
   "source": [
    "df.hist(bins=30, figsize=(15, 10))\n",
    "plt.show()"
   ]
  },
  {
   "cell_type": "markdown",
   "id": "4371f18d",
   "metadata": {
    "papermill": {
     "duration": 0.012146,
     "end_time": "2025-01-29T05:36:59.485669",
     "exception": false,
     "start_time": "2025-01-29T05:36:59.473523",
     "status": "completed"
    },
    "tags": []
   },
   "source": [
    "## Define numerical and categorical columns"
   ]
  },
  {
   "cell_type": "code",
   "execution_count": null,
   "id": "257b3334",
   "metadata": {
    "execution": {
     "iopub.execute_input": "2025-01-29T05:36:59.512193Z",
     "iopub.status.busy": "2025-01-29T05:36:59.511738Z",
     "iopub.status.idle": "2025-01-29T05:36:59.517783Z",
     "shell.execute_reply": "2025-01-29T05:36:59.516638Z"
    },
    "papermill": {
     "duration": 0.021461,
     "end_time": "2025-01-29T05:36:59.519650",
     "exception": false,
     "start_time": "2025-01-29T05:36:59.498189",
     "status": "completed"
    },
    "tags": []
   },
   "outputs": [],
   "source": [
    "sns.set(style=\"whitegrid\")\n",
    "\n",
    "numerical_cols = [\"Total Students\", \"Male\", \"Female\", \"CGPA\", \"Annual Family Income\", \n",
    "                  \"Research Papers Published\", \"Placement Rate\", \"Faculty Count\"]\n",
    "categorical_cols = [\"Country\", \"Branch\", \"Sports\"]"
   ]
  },
  {
   "cell_type": "markdown",
   "id": "a3f08791",
   "metadata": {
    "papermill": {
     "duration": 0.012158,
     "end_time": "2025-01-29T05:36:59.544426",
     "exception": false,
     "start_time": "2025-01-29T05:36:59.532268",
     "status": "completed"
    },
    "tags": []
   },
   "source": [
    "## Create subplots for numerical feature distributions"
   ]
  },
  {
   "cell_type": "code",
   "execution_count": null,
   "id": "c8671d61",
   "metadata": {
    "execution": {
     "iopub.execute_input": "2025-01-29T05:36:59.571138Z",
     "iopub.status.busy": "2025-01-29T05:36:59.570702Z",
     "iopub.status.idle": "2025-01-29T05:37:04.791876Z",
     "shell.execute_reply": "2025-01-29T05:37:04.790552Z"
    },
    "papermill": {
     "duration": 5.239184,
     "end_time": "2025-01-29T05:37:04.796235",
     "exception": false,
     "start_time": "2025-01-29T05:36:59.557051",
     "status": "completed"
    },
    "tags": []
   },
   "outputs": [],
   "source": [
    "# Replace infinity values with NaN in the dataframe\n",
    "df.replace([np.inf, -np.inf], np.nan, inplace=True)\n",
    "fig, axes = plt.subplots(nrows=3, ncols=3, figsize=(18, 12))\n",
    "fig.suptitle(\"Distribution of Numerical Features\", fontsize=16)\n",
    "axes = axes.flatten()\n",
    "\n",
    "for i, col in enumerate(numerical_cols):\n",
    "    sns.histplot(df[col], bins=30, kde=True, ax=axes[i])\n",
    "    axes[i].set_title(col)\n",
    "\n",
    "plt.tight_layout(rect=[0, 0, 1, 0.96])\n",
    "plt.show()"
   ]
  },
  {
   "cell_type": "markdown",
   "id": "a5a55ae4",
   "metadata": {
    "papermill": {
     "duration": 0.018002,
     "end_time": "2025-01-29T05:37:04.833085",
     "exception": false,
     "start_time": "2025-01-29T05:37:04.815083",
     "status": "completed"
    },
    "tags": []
   },
   "source": [
    "## Generate Correlation Heatmap"
   ]
  },
  {
   "cell_type": "code",
   "execution_count": null,
   "id": "ec7df9cd",
   "metadata": {
    "execution": {
     "iopub.execute_input": "2025-01-29T05:37:04.869570Z",
     "iopub.status.busy": "2025-01-29T05:37:04.869151Z",
     "iopub.status.idle": "2025-01-29T05:37:05.389949Z",
     "shell.execute_reply": "2025-01-29T05:37:05.388841Z"
    },
    "papermill": {
     "duration": 0.541716,
     "end_time": "2025-01-29T05:37:05.392469",
     "exception": false,
     "start_time": "2025-01-29T05:37:04.850753",
     "status": "completed"
    },
    "tags": []
   },
   "outputs": [],
   "source": [
    "plt.figure(figsize=(10, 6))\n",
    "sns.heatmap(df[numerical_cols].corr(), annot=True, cmap=\"coolwarm\", fmt=\".2f\", linewidths=0.5)\n",
    "plt.title(\"Correlation Heatmap\")\n",
    "plt.show()"
   ]
  },
  {
   "cell_type": "markdown",
   "id": "9a84c44b",
   "metadata": {
    "papermill": {
     "duration": 0.020443,
     "end_time": "2025-01-29T05:37:05.433616",
     "exception": false,
     "start_time": "2025-01-29T05:37:05.413173",
     "status": "completed"
    },
    "tags": []
   },
   "source": [
    "## Generate Boxplots for Outlier Detection"
   ]
  },
  {
   "cell_type": "code",
   "execution_count": null,
   "id": "6703142e",
   "metadata": {
    "execution": {
     "iopub.execute_input": "2025-01-29T05:37:05.476797Z",
     "iopub.status.busy": "2025-01-29T05:37:05.476376Z",
     "iopub.status.idle": "2025-01-29T05:37:07.282154Z",
     "shell.execute_reply": "2025-01-29T05:37:07.280780Z"
    },
    "papermill": {
     "duration": 1.830806,
     "end_time": "2025-01-29T05:37:07.285193",
     "exception": false,
     "start_time": "2025-01-29T05:37:05.454387",
     "status": "completed"
    },
    "tags": []
   },
   "outputs": [],
   "source": [
    "fig, axes = plt.subplots(nrows=3, ncols=3, figsize=(18, 12))\n",
    "fig.suptitle(\"Boxplots for Outlier Detection\", fontsize=16)\n",
    "axes = axes.flatten()\n",
    "\n",
    "for i, col in enumerate(numerical_cols):\n",
    "    sns.boxplot(y=df[col], ax=axes[i])\n",
    "    axes[i].set_title(col)\n",
    "\n",
    "plt.tight_layout(rect=[0, 0, 1, 0.96])\n",
    "plt.show()"
   ]
  },
  {
   "cell_type": "markdown",
   "id": "5bc8e75a",
   "metadata": {
    "papermill": {
     "duration": 0.022062,
     "end_time": "2025-01-29T05:37:07.330634",
     "exception": false,
     "start_time": "2025-01-29T05:37:07.308572",
     "status": "completed"
    },
    "tags": []
   },
   "source": [
    "## Count Plots for Categorical Features"
   ]
  },
  {
   "cell_type": "code",
   "execution_count": null,
   "id": "e57262dc",
   "metadata": {
    "execution": {
     "iopub.execute_input": "2025-01-29T05:37:07.377847Z",
     "iopub.status.busy": "2025-01-29T05:37:07.377513Z",
     "iopub.status.idle": "2025-01-29T05:37:08.375500Z",
     "shell.execute_reply": "2025-01-29T05:37:08.374186Z"
    },
    "papermill": {
     "duration": 1.024463,
     "end_time": "2025-01-29T05:37:08.377648",
     "exception": false,
     "start_time": "2025-01-29T05:37:07.353185",
     "status": "completed"
    },
    "tags": []
   },
   "outputs": [],
   "source": [
    "fig, axes = plt.subplots(1, 3, figsize=(18, 5))\n",
    "fig.suptitle(\"Count Plots for Categorical Features\", fontsize=16)\n",
    "\n",
    "for i, col in enumerate(categorical_cols):\n",
    "    sns.countplot(y=df[col], order=df[col].value_counts().index[:10], ax=axes[i])  # Show top 10 categories\n",
    "    axes[i].set_title(f\"Top 10 {col}\")\n",
    "\n",
    "plt.tight_layout()\n",
    "plt.show()"
   ]
  },
  {
   "cell_type": "markdown",
   "id": "476f684c",
   "metadata": {
    "papermill": {
     "duration": 0.023861,
     "end_time": "2025-01-29T05:37:08.425823",
     "exception": false,
     "start_time": "2025-01-29T05:37:08.401962",
     "status": "completed"
    },
    "tags": []
   },
   "source": [
    "## Check for missing or non-numeric values in selected features"
   ]
  },
  {
   "cell_type": "code",
   "execution_count": null,
   "id": "771f1575",
   "metadata": {
    "execution": {
     "iopub.execute_input": "2025-01-29T05:37:08.475417Z",
     "iopub.status.busy": "2025-01-29T05:37:08.475026Z",
     "iopub.status.idle": "2025-01-29T05:37:08.496765Z",
     "shell.execute_reply": "2025-01-29T05:37:08.495434Z"
    },
    "papermill": {
     "duration": 0.048552,
     "end_time": "2025-01-29T05:37:08.498578",
     "exception": false,
     "start_time": "2025-01-29T05:37:08.450026",
     "status": "completed"
    },
    "tags": []
   },
   "outputs": [],
   "source": [
    "selected_features = [\"CGPA\", \"Placement Rate\", \"Annual Family Income\", \"Research Papers Published\"]\n",
    "df[selected_features].info(), df[selected_features].isnull().sum(), df[selected_features].dtypes"
   ]
  },
  {
   "cell_type": "markdown",
   "id": "529d2edd",
   "metadata": {
    "papermill": {
     "duration": 0.023931,
     "end_time": "2025-01-29T05:37:08.546962",
     "exception": false,
     "start_time": "2025-01-29T05:37:08.523031",
     "status": "completed"
    },
    "tags": []
   },
   "source": [
    "## Generate Pairplot without kde to avoid issues"
   ]
  },
  {
   "cell_type": "code",
   "execution_count": null,
   "id": "1e2a9875",
   "metadata": {
    "execution": {
     "iopub.execute_input": "2025-01-29T05:37:08.596914Z",
     "iopub.status.busy": "2025-01-29T05:37:08.596584Z",
     "iopub.status.idle": "2025-01-29T05:37:14.561640Z",
     "shell.execute_reply": "2025-01-29T05:37:14.560453Z"
    },
    "papermill": {
     "duration": 6.003442,
     "end_time": "2025-01-29T05:37:14.574562",
     "exception": false,
     "start_time": "2025-01-29T05:37:08.571120",
     "status": "completed"
    },
    "tags": []
   },
   "outputs": [],
   "source": [
    "# Replace infinity values with NaN\n",
    "df.replace([np.inf, -np.inf], np.nan, inplace=True)\n",
    "sns.pairplot(df[selected_features], kind='scatter')\n",
    "plt.show()"
   ]
  },
  {
   "cell_type": "markdown",
   "id": "978812b3",
   "metadata": {
    "papermill": {
     "duration": 0.042364,
     "end_time": "2025-01-29T05:37:14.660969",
     "exception": false,
     "start_time": "2025-01-29T05:37:14.618605",
     "status": "completed"
    },
    "tags": []
   },
   "source": [
    "## Identify features and target variable"
   ]
  },
  {
   "cell_type": "code",
   "execution_count": null,
   "id": "793f6562",
   "metadata": {
    "execution": {
     "iopub.execute_input": "2025-01-29T05:37:14.747249Z",
     "iopub.status.busy": "2025-01-29T05:37:14.746829Z",
     "iopub.status.idle": "2025-01-29T05:37:14.751506Z",
     "shell.execute_reply": "2025-01-29T05:37:14.750441Z"
    },
    "papermill": {
     "duration": 0.049561,
     "end_time": "2025-01-29T05:37:14.753156",
     "exception": false,
     "start_time": "2025-01-29T05:37:14.703595",
     "status": "completed"
    },
    "tags": []
   },
   "outputs": [],
   "source": [
    "target = \"Placement Rate\"\n",
    "features = [\"CGPA\", \"Annual Family Income\", \"Research Papers Published\", \"Faculty Count\"]\n"
   ]
  },
  {
   "cell_type": "markdown",
   "id": "50fb15a4",
   "metadata": {
    "papermill": {
     "duration": 0.040687,
     "end_time": "2025-01-29T05:37:14.834606",
     "exception": false,
     "start_time": "2025-01-29T05:37:14.793919",
     "status": "completed"
    },
    "tags": []
   },
   "source": [
    "## Handle categorical variables (encoding)"
   ]
  },
  {
   "cell_type": "code",
   "execution_count": null,
   "id": "8558cea7",
   "metadata": {
    "execution": {
     "iopub.execute_input": "2025-01-29T05:37:14.918654Z",
     "iopub.status.busy": "2025-01-29T05:37:14.918200Z",
     "iopub.status.idle": "2025-01-29T05:37:14.954597Z",
     "shell.execute_reply": "2025-01-29T05:37:14.953500Z"
    },
    "papermill": {
     "duration": 0.081568,
     "end_time": "2025-01-29T05:37:14.956782",
     "exception": false,
     "start_time": "2025-01-29T05:37:14.875214",
     "status": "completed"
    },
    "tags": []
   },
   "outputs": [],
   "source": [
    "categorical_features = [\"Country\", \"Branch\", \"Sports\"]\n",
    "for col in categorical_features:\n",
    "    le = LabelEncoder()\n",
    "    df[col] = le.fit_transform(df[col])"
   ]
  },
  {
   "cell_type": "markdown",
   "id": "efc81341",
   "metadata": {
    "papermill": {
     "duration": 0.041731,
     "end_time": "2025-01-29T05:37:15.039108",
     "exception": false,
     "start_time": "2025-01-29T05:37:14.997377",
     "status": "completed"
    },
    "tags": []
   },
   "source": [
    "## Update feature set to include encoded categorical variables"
   ]
  },
  {
   "cell_type": "code",
   "execution_count": null,
   "id": "d8d45442",
   "metadata": {
    "execution": {
     "iopub.execute_input": "2025-01-29T05:37:15.122919Z",
     "iopub.status.busy": "2025-01-29T05:37:15.122514Z",
     "iopub.status.idle": "2025-01-29T05:37:15.127219Z",
     "shell.execute_reply": "2025-01-29T05:37:15.126045Z"
    },
    "papermill": {
     "duration": 0.048588,
     "end_time": "2025-01-29T05:37:15.129128",
     "exception": false,
     "start_time": "2025-01-29T05:37:15.080540",
     "status": "completed"
    },
    "tags": []
   },
   "outputs": [],
   "source": [
    "features.extend(categorical_features)"
   ]
  },
  {
   "cell_type": "markdown",
   "id": "1ac7b007",
   "metadata": {
    "papermill": {
     "duration": 0.047725,
     "end_time": "2025-01-29T05:37:15.220442",
     "exception": false,
     "start_time": "2025-01-29T05:37:15.172717",
     "status": "completed"
    },
    "tags": []
   },
   "source": [
    "## Split dataset into training and testing sets"
   ]
  },
  {
   "cell_type": "code",
   "execution_count": null,
   "id": "c782697a",
   "metadata": {
    "execution": {
     "iopub.execute_input": "2025-01-29T05:37:15.325387Z",
     "iopub.status.busy": "2025-01-29T05:37:15.324716Z",
     "iopub.status.idle": "2025-01-29T05:37:15.341790Z",
     "shell.execute_reply": "2025-01-29T05:37:15.340493Z"
    },
    "papermill": {
     "duration": 0.069322,
     "end_time": "2025-01-29T05:37:15.344226",
     "exception": false,
     "start_time": "2025-01-29T05:37:15.274904",
     "status": "completed"
    },
    "tags": []
   },
   "outputs": [],
   "source": [
    "X = df[features]\n",
    "y = df[target]\n",
    "X_train, X_test, y_train, y_test = train_test_split(X, y, test_size=0.2, random_state=42)"
   ]
  },
  {
   "cell_type": "markdown",
   "id": "6d5b298f",
   "metadata": {
    "papermill": {
     "duration": 0.041579,
     "end_time": "2025-01-29T05:37:15.439634",
     "exception": false,
     "start_time": "2025-01-29T05:37:15.398055",
     "status": "completed"
    },
    "tags": []
   },
   "source": [
    "## Standardize numerical features"
   ]
  },
  {
   "cell_type": "code",
   "execution_count": null,
   "id": "6107a612",
   "metadata": {
    "execution": {
     "iopub.execute_input": "2025-01-29T05:37:15.537332Z",
     "iopub.status.busy": "2025-01-29T05:37:15.536879Z",
     "iopub.status.idle": "2025-01-29T05:37:15.563372Z",
     "shell.execute_reply": "2025-01-29T05:37:15.562058Z"
    },
    "papermill": {
     "duration": 0.075184,
     "end_time": "2025-01-29T05:37:15.565745",
     "exception": false,
     "start_time": "2025-01-29T05:37:15.490561",
     "status": "completed"
    },
    "tags": []
   },
   "outputs": [],
   "source": [
    "scaler = StandardScaler()\n",
    "X_train[[\"CGPA\", \"Annual Family Income\", \"Research Papers Published\", \"Faculty Count\"]] = scaler.fit_transform(\n",
    "    X_train[[\"CGPA\", \"Annual Family Income\", \"Research Papers Published\", \"Faculty Count\"]]\n",
    ")\n",
    "X_test[[\"CGPA\", \"Annual Family Income\", \"Research Papers Published\", \"Faculty Count\"]] = scaler.transform(\n",
    "    X_test[[\"CGPA\", \"Annual Family Income\", \"Research Papers Published\", \"Faculty Count\"]]\n",
    ")"
   ]
  },
  {
   "cell_type": "markdown",
   "id": "66dcfcb2",
   "metadata": {
    "papermill": {
     "duration": 0.042152,
     "end_time": "2025-01-29T05:37:15.649861",
     "exception": false,
     "start_time": "2025-01-29T05:37:15.607709",
     "status": "completed"
    },
    "tags": []
   },
   "source": [
    "## Train Linear Regression Model"
   ]
  },
  {
   "cell_type": "code",
   "execution_count": null,
   "id": "946d6b66",
   "metadata": {
    "execution": {
     "iopub.execute_input": "2025-01-29T05:37:15.756278Z",
     "iopub.status.busy": "2025-01-29T05:37:15.755761Z",
     "iopub.status.idle": "2025-01-29T05:37:15.816998Z",
     "shell.execute_reply": "2025-01-29T05:37:15.815778Z"
    },
    "papermill": {
     "duration": 0.115044,
     "end_time": "2025-01-29T05:37:15.819481",
     "exception": false,
     "start_time": "2025-01-29T05:37:15.704437",
     "status": "completed"
    },
    "tags": []
   },
   "outputs": [],
   "source": [
    "lr_model = LinearRegression()\n",
    "lr_model.fit(X_train, y_train)\n",
    "y_pred_lr = lr_model.predict(X_test)"
   ]
  },
  {
   "cell_type": "markdown",
   "id": "51d151b6",
   "metadata": {
    "papermill": {
     "duration": 0.04279,
     "end_time": "2025-01-29T05:37:15.913961",
     "exception": false,
     "start_time": "2025-01-29T05:37:15.871171",
     "status": "completed"
    },
    "tags": []
   },
   "source": [
    "## Train Random Forest Model"
   ]
  },
  {
   "cell_type": "code",
   "execution_count": null,
   "id": "b3d2de3b",
   "metadata": {
    "execution": {
     "iopub.execute_input": "2025-01-29T05:37:16.002751Z",
     "iopub.status.busy": "2025-01-29T05:37:16.002138Z",
     "iopub.status.idle": "2025-01-29T05:37:43.495035Z",
     "shell.execute_reply": "2025-01-29T05:37:43.493996Z"
    },
    "papermill": {
     "duration": 27.540069,
     "end_time": "2025-01-29T05:37:43.497283",
     "exception": false,
     "start_time": "2025-01-29T05:37:15.957214",
     "status": "completed"
    },
    "tags": []
   },
   "outputs": [],
   "source": [
    "rf_model = RandomForestRegressor(n_estimators=100, random_state=42)\n",
    "rf_model.fit(X_train, y_train)\n",
    "y_pred_rf = rf_model.predict(X_test)"
   ]
  },
  {
   "cell_type": "markdown",
   "id": "c85eac1f",
   "metadata": {
    "papermill": {
     "duration": 0.040003,
     "end_time": "2025-01-29T05:37:44.834113",
     "exception": false,
     "start_time": "2025-01-29T05:37:44.794110",
     "status": "completed"
    },
    "tags": []
   },
   "source": [
    "## Model Evaluation Function"
   ]
  },
  {
   "cell_type": "code",
   "execution_count": null,
   "id": "a8b83feb",
   "metadata": {
    "execution": {
     "iopub.execute_input": "2025-01-29T05:37:44.916550Z",
     "iopub.status.busy": "2025-01-29T05:37:44.916097Z",
     "iopub.status.idle": "2025-01-29T05:37:44.921654Z",
     "shell.execute_reply": "2025-01-29T05:37:44.920422Z"
    },
    "papermill": {
     "duration": 0.048776,
     "end_time": "2025-01-29T05:37:44.923234",
     "exception": false,
     "start_time": "2025-01-29T05:37:44.874458",
     "status": "completed"
    },
    "tags": []
   },
   "outputs": [],
   "source": [
    "# Model Evaluation Function\n",
    "def evaluate_model(y_true, y_pred, model_name):\n",
    "    mae = mean_absolute_error(y_true, y_pred)\n",
    "    rmse = np.sqrt(mean_squared_error(y_true, y_pred))\n",
    "    r2 = r2_score(y_true, y_pred)\n",
    "    print(f\"{model_name} Performance:\\n MAE: {mae:.2f}, RMSE: {rmse:.2f}, R² Score: {r2:.2f}\\n\")\n"
   ]
  },
  {
   "cell_type": "markdown",
   "id": "b087d02c",
   "metadata": {
    "papermill": {
     "duration": 0.041596,
     "end_time": "2025-01-29T05:37:45.006157",
     "exception": false,
     "start_time": "2025-01-29T05:37:44.964561",
     "status": "completed"
    },
    "tags": []
   },
   "source": [
    "## Evaluate the models"
   ]
  },
  {
   "cell_type": "code",
   "execution_count": null,
   "id": "8039a630",
   "metadata": {
    "execution": {
     "iopub.execute_input": "2025-01-29T05:37:45.090568Z",
     "iopub.status.busy": "2025-01-29T05:37:45.090119Z",
     "iopub.status.idle": "2025-01-29T05:37:45.110893Z",
     "shell.execute_reply": "2025-01-29T05:37:45.109561Z"
    },
    "papermill": {
     "duration": 0.065347,
     "end_time": "2025-01-29T05:37:45.112640",
     "exception": false,
     "start_time": "2025-01-29T05:37:45.047293",
     "status": "completed"
    },
    "tags": []
   },
   "outputs": [],
   "source": [
    "evaluate_model(y_test, y_pred_rf, \"standard scaler\")\n",
    "evaluate_model(y_test, y_pred_lr, \"Linear Regression\")\n",
    "evaluate_model(y_test, y_pred_rf, \"Random Forest\")\n"
   ]
  },
  {
   "cell_type": "markdown",
   "id": "9d675fe4",
   "metadata": {
    "papermill": {
     "duration": 0.040512,
     "end_time": "2025-01-29T05:37:45.193978",
     "exception": false,
     "start_time": "2025-01-29T05:37:45.153466",
     "status": "completed"
    },
    "tags": []
   },
   "source": [
    "## Feature Importance Plot (Random Forest)"
   ]
  },
  {
   "cell_type": "code",
   "execution_count": null,
   "id": "0490ae46",
   "metadata": {
    "execution": {
     "iopub.execute_input": "2025-01-29T05:37:45.276743Z",
     "iopub.status.busy": "2025-01-29T05:37:45.276271Z",
     "iopub.status.idle": "2025-01-29T05:37:45.622869Z",
     "shell.execute_reply": "2025-01-29T05:37:45.621704Z"
    },
    "papermill": {
     "duration": 0.390173,
     "end_time": "2025-01-29T05:37:45.624680",
     "exception": false,
     "start_time": "2025-01-29T05:37:45.234507",
     "status": "completed"
    },
    "tags": []
   },
   "outputs": [],
   "source": [
    "plt.figure(figsize=(10, 5))\n",
    "sns.barplot(x=rf_model.feature_importances_, y=features)\n",
    "plt.title(\"Feature Importance (Random Forest)\")\n",
    "plt.show()"
   ]
  },
  {
   "cell_type": "markdown",
   "id": "8e6dc669",
   "metadata": {
    "papermill": {
     "duration": 0.040901,
     "end_time": "2025-01-29T05:37:46.137989",
     "exception": false,
     "start_time": "2025-01-29T05:37:46.097088",
     "status": "completed"
    },
    "tags": []
   },
   "source": [
    "## Feature Importance Plot (Linear Model)"
   ]
  },
  {
   "cell_type": "code",
   "execution_count": null,
   "id": "c3c56065",
   "metadata": {
    "execution": {
     "iopub.execute_input": "2025-01-29T05:37:46.221891Z",
     "iopub.status.busy": "2025-01-29T05:37:46.221457Z",
     "iopub.status.idle": "2025-01-29T05:37:46.502842Z",
     "shell.execute_reply": "2025-01-29T05:37:46.501452Z"
    },
    "papermill": {
     "duration": 0.32554,
     "end_time": "2025-01-29T05:37:46.504661",
     "exception": false,
     "start_time": "2025-01-29T05:37:46.179121",
     "status": "completed"
    },
    "tags": []
   },
   "outputs": [],
   "source": [
    "plt.figure(figsize=(10, 5))\n",
    "sns.barplot(x=lr_model.coef_, y=features)\n",
    "plt.title(\"Feature Importance (Linear Model)\")\n",
    "plt.show()"
   ]
  },
  {
   "cell_type": "markdown",
   "id": "36584c54",
   "metadata": {
    "papermill": {
     "duration": 0.041483,
     "end_time": "2025-01-29T05:37:46.647324",
     "exception": false,
     "start_time": "2025-01-29T05:37:46.605841",
     "status": "completed"
    },
    "tags": []
   },
   "source": [
    "## Actual vs. Predicted Plot (Linear Regression)"
   ]
  },
  {
   "cell_type": "code",
   "execution_count": null,
   "id": "1938e4ee",
   "metadata": {
    "execution": {
     "iopub.execute_input": "2025-01-29T05:37:46.732680Z",
     "iopub.status.busy": "2025-01-29T05:37:46.732215Z",
     "iopub.status.idle": "2025-01-29T05:37:47.149221Z",
     "shell.execute_reply": "2025-01-29T05:37:47.148099Z"
    },
    "papermill": {
     "duration": 0.464442,
     "end_time": "2025-01-29T05:37:47.153398",
     "exception": false,
     "start_time": "2025-01-29T05:37:46.688956",
     "status": "completed"
    },
    "tags": []
   },
   "outputs": [],
   "source": [
    "plt.figure(figsize=(8, 5))\n",
    "sns.scatterplot(x=y_test, y=y_pred_lr, alpha=0.6, color=\"blue\")\n",
    "plt.plot([y_test.min(), y_test.max()], [y_test.min(), y_test.max()], color=\"red\", linestyle=\"--\")  # 45-degree line\n",
    "plt.xlabel(\"Actual Placement Rate\")\n",
    "plt.ylabel(\"Predicted Placement Rate\")\n",
    "plt.title(\"Actual vs. Predicted (Linear Regression)\")\n",
    "plt.show()\n"
   ]
  },
  {
   "cell_type": "markdown",
   "id": "26f3c70b",
   "metadata": {
    "papermill": {
     "duration": 0.053842,
     "end_time": "2025-01-29T05:37:47.282164",
     "exception": false,
     "start_time": "2025-01-29T05:37:47.228322",
     "status": "completed"
    },
    "tags": []
   },
   "source": [
    "## Actual vs. Predicted Plot (Random Forest)"
   ]
  },
  {
   "cell_type": "code",
   "execution_count": null,
   "id": "ee6a8ecb",
   "metadata": {
    "execution": {
     "iopub.execute_input": "2025-01-29T05:37:47.384815Z",
     "iopub.status.busy": "2025-01-29T05:37:47.384316Z",
     "iopub.status.idle": "2025-01-29T05:37:48.108286Z",
     "shell.execute_reply": "2025-01-29T05:37:48.107121Z"
    },
    "papermill": {
     "duration": 0.782698,
     "end_time": "2025-01-29T05:37:48.116380",
     "exception": false,
     "start_time": "2025-01-29T05:37:47.333682",
     "status": "completed"
    },
    "tags": []
   },
   "outputs": [],
   "source": [
    "plt.figure(figsize=(8, 5))\n",
    "sns.scatterplot(x=y_test, y=y_pred_rf, alpha=0.6, color=\"green\")\n",
    "plt.plot([y_test.min(), y_test.max()], [y_test.min(), y_test.max()], color=\"red\", linestyle=\"--\")  # 45-degree line\n",
    "plt.xlabel(\"Actual Placement Rate\")\n",
    "plt.ylabel(\"Predicted Placement Rate\")\n",
    "plt.title(\"Actual vs. Predicted (Random Forest)\")\n",
    "plt.show()"
   ]
  }
 ],
 "metadata": {
  "kaggle": {
   "accelerator": "none",
   "dataSources": [
    {
     "datasetId": 6564075,
     "sourceId": 10604071,
     "sourceType": "datasetVersion"
    }
   ],
   "dockerImageVersionId": 30839,
   "isGpuEnabled": false,
   "isInternetEnabled": true,
   "language": "python",
   "sourceType": "notebook"
  },
  "kernelspec": {
   "display_name": "base",
   "language": "python",
   "name": "python3"
  },
  "language_info": {
   "codemirror_mode": {
    "name": "ipython",
    "version": 3
   },
   "file_extension": ".py",
   "mimetype": "text/x-python",
   "name": "python",
   "nbconvert_exporter": "python",
   "pygments_lexer": "ipython3",
   "version": "3.12.2"
  },
  "papermill": {
   "default_parameters": {},
   "duration": 60.848082,
   "end_time": "2025-01-29T05:37:50.964705",
   "environment_variables": {},
   "exception": null,
   "input_path": "__notebook__.ipynb",
   "output_path": "__notebook__.ipynb",
   "parameters": {},
   "start_time": "2025-01-29T05:36:50.116623",
   "version": "2.6.0"
  }
 },
 "nbformat": 4,
 "nbformat_minor": 5
}
