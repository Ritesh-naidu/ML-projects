{
 "cells": [
  {
   "cell_type": "markdown",
   "id": "a7e879e3",
   "metadata": {
    "papermill": {
     "duration": 0.006313,
     "end_time": "2025-02-12T11:53:44.123096",
     "exception": false,
     "start_time": "2025-02-12T11:53:44.116783",
     "status": "completed"
    },
    "tags": []
   },
   "source": [
    "**Introduction**\n",
    "\n",
    "Alzheimer's disease is a neurodegenerative disease that affects a person's cognitive abilities. Early diagnosis can help improve patients' quality of life. In this project, we analyze the data and build a machine learning model to predict the diagnosis."
   ]
  },
  {
   "cell_type": "markdown",
   "id": "62689120",
   "metadata": {
    "papermill": {
     "duration": 0.005318,
     "end_time": "2025-02-12T11:53:44.134170",
     "exception": false,
     "start_time": "2025-02-12T11:53:44.128852",
     "status": "completed"
    },
    "tags": []
   },
   "source": [
    "# 1. Downloading the necessary libraries"
   ]
  },
  {
   "cell_type": "code",
   "execution_count": null,
   "id": "5d046516",
   "metadata": {
    "execution": {
     "iopub.execute_input": "2025-02-12T11:53:44.146798Z",
     "iopub.status.busy": "2025-02-12T11:53:44.146453Z",
     "iopub.status.idle": "2025-02-12T11:53:47.518489Z",
     "shell.execute_reply": "2025-02-12T11:53:47.517317Z"
    },
    "papermill": {
     "duration": 3.380747,
     "end_time": "2025-02-12T11:53:47.520480",
     "exception": false,
     "start_time": "2025-02-12T11:53:44.139733",
     "status": "completed"
    },
    "tags": []
   },
   "outputs": [],
   "source": [
    "import numpy as np\n",
    "import pandas as pd\n",
    "import matplotlib.pyplot as plt\n",
    "import seaborn as sns\n",
    "\n",
    "from sklearn.model_selection import train_test_split, GridSearchCV\n",
    "from sklearn.preprocessing import StandardScaler\n",
    "\n",
    "from sklearn.linear_model import LogisticRegression\n",
    "from sklearn.ensemble import RandomForestClassifier, GradientBoostingClassifier\n",
    "from sklearn.svm import SVC\n",
    "from sklearn.neural_network import MLPClassifier\n",
    "\n",
    "from sklearn.metrics import ConfusionMatrixDisplay, classification_report, accuracy_score"
   ]
  },
  {
   "cell_type": "markdown",
   "id": "1f07b08a",
   "metadata": {
    "papermill": {
     "duration": 0.005316,
     "end_time": "2025-02-12T11:53:47.531812",
     "exception": false,
     "start_time": "2025-02-12T11:53:47.526496",
     "status": "completed"
    },
    "tags": []
   },
   "source": [
    "# 2. Loading and analyzing data"
   ]
  },
  {
   "cell_type": "code",
   "execution_count": null,
   "id": "545a66cd",
   "metadata": {
    "execution": {
     "iopub.execute_input": "2025-02-12T11:53:47.544629Z",
     "iopub.status.busy": "2025-02-12T11:53:47.543982Z",
     "iopub.status.idle": "2025-02-12T11:53:47.986422Z",
     "shell.execute_reply": "2025-02-12T11:53:47.985516Z"
    },
    "papermill": {
     "duration": 0.450915,
     "end_time": "2025-02-12T11:53:47.988274",
     "exception": false,
     "start_time": "2025-02-12T11:53:47.537359",
     "status": "completed"
    },
    "tags": []
   },
   "outputs": [],
   "source": [
    "df = pd.read_csv('/Users/riteshkumar/Downloads/ML projects/Predicting Alzheimer Disease /alzheimers_prediction_dataset.csv')"
   ]
  },
  {
   "cell_type": "code",
   "execution_count": null,
   "id": "b5acd167",
   "metadata": {
    "execution": {
     "iopub.execute_input": "2025-02-12T11:53:48.001168Z",
     "iopub.status.busy": "2025-02-12T11:53:48.000794Z",
     "iopub.status.idle": "2025-02-12T11:53:48.007333Z",
     "shell.execute_reply": "2025-02-12T11:53:48.006425Z"
    },
    "papermill": {
     "duration": 0.014703,
     "end_time": "2025-02-12T11:53:48.008925",
     "exception": false,
     "start_time": "2025-02-12T11:53:47.994222",
     "status": "completed"
    },
    "tags": []
   },
   "outputs": [],
   "source": [
    "df.shape"
   ]
  },
  {
   "cell_type": "code",
   "execution_count": null,
   "id": "6bbb3730",
   "metadata": {
    "execution": {
     "iopub.execute_input": "2025-02-12T11:53:48.021702Z",
     "iopub.status.busy": "2025-02-12T11:53:48.021329Z",
     "iopub.status.idle": "2025-02-12T11:53:48.071042Z",
     "shell.execute_reply": "2025-02-12T11:53:48.069878Z"
    },
    "papermill": {
     "duration": 0.058379,
     "end_time": "2025-02-12T11:53:48.073113",
     "exception": false,
     "start_time": "2025-02-12T11:53:48.014734",
     "status": "completed"
    },
    "tags": []
   },
   "outputs": [],
   "source": [
    "df.describe()"
   ]
  },
  {
   "cell_type": "code",
   "execution_count": null,
   "id": "b9646a2b",
   "metadata": {
    "execution": {
     "iopub.execute_input": "2025-02-12T11:53:48.086557Z",
     "iopub.status.busy": "2025-02-12T11:53:48.086209Z",
     "iopub.status.idle": "2025-02-12T11:53:48.185662Z",
     "shell.execute_reply": "2025-02-12T11:53:48.184172Z"
    },
    "papermill": {
     "duration": 0.108264,
     "end_time": "2025-02-12T11:53:48.187612",
     "exception": false,
     "start_time": "2025-02-12T11:53:48.079348",
     "status": "completed"
    },
    "tags": []
   },
   "outputs": [],
   "source": [
    "df.info()"
   ]
  },
  {
   "cell_type": "code",
   "execution_count": null,
   "id": "00c8cbf6",
   "metadata": {
    "execution": {
     "iopub.execute_input": "2025-02-12T11:53:48.201935Z",
     "iopub.status.busy": "2025-02-12T11:53:48.201608Z",
     "iopub.status.idle": "2025-02-12T11:53:48.285130Z",
     "shell.execute_reply": "2025-02-12T11:53:48.284111Z"
    },
    "papermill": {
     "duration": 0.092772,
     "end_time": "2025-02-12T11:53:48.286812",
     "exception": false,
     "start_time": "2025-02-12T11:53:48.194040",
     "status": "completed"
    },
    "tags": []
   },
   "outputs": [],
   "source": [
    "df.isna().sum()"
   ]
  },
  {
   "cell_type": "code",
   "execution_count": null,
   "id": "3e6f993b",
   "metadata": {
    "execution": {
     "iopub.execute_input": "2025-02-12T11:53:48.300894Z",
     "iopub.status.busy": "2025-02-12T11:53:48.300569Z",
     "iopub.status.idle": "2025-02-12T11:53:48.324208Z",
     "shell.execute_reply": "2025-02-12T11:53:48.323040Z"
    },
    "papermill": {
     "duration": 0.0329,
     "end_time": "2025-02-12T11:53:48.326088",
     "exception": false,
     "start_time": "2025-02-12T11:53:48.293188",
     "status": "completed"
    },
    "tags": []
   },
   "outputs": [],
   "source": [
    "df.head()"
   ]
  },
  {
   "cell_type": "code",
   "execution_count": null,
   "id": "ca264a0f",
   "metadata": {
    "execution": {
     "iopub.execute_input": "2025-02-12T11:53:48.342480Z",
     "iopub.status.busy": "2025-02-12T11:53:48.342132Z",
     "iopub.status.idle": "2025-02-12T11:53:48.354184Z",
     "shell.execute_reply": "2025-02-12T11:53:48.353154Z"
    },
    "papermill": {
     "duration": 0.021254,
     "end_time": "2025-02-12T11:53:48.355715",
     "exception": false,
     "start_time": "2025-02-12T11:53:48.334461",
     "status": "completed"
    },
    "tags": []
   },
   "outputs": [],
   "source": [
    "df['Alzheimer’s Diagnosis'].value_counts()"
   ]
  },
  {
   "cell_type": "markdown",
   "id": "9af35c0c",
   "metadata": {
    "papermill": {
     "duration": 0.006284,
     "end_time": "2025-02-12T11:53:48.368662",
     "exception": false,
     "start_time": "2025-02-12T11:53:48.362378",
     "status": "completed"
    },
    "tags": []
   },
   "source": [
    "# 3. Data visualization"
   ]
  },
  {
   "cell_type": "code",
   "execution_count": null,
   "id": "33e8f80e",
   "metadata": {
    "execution": {
     "iopub.execute_input": "2025-02-12T11:53:48.383399Z",
     "iopub.status.busy": "2025-02-12T11:53:48.382974Z",
     "iopub.status.idle": "2025-02-12T11:53:48.632093Z",
     "shell.execute_reply": "2025-02-12T11:53:48.631009Z"
    },
    "papermill": {
     "duration": 0.258237,
     "end_time": "2025-02-12T11:53:48.633777",
     "exception": false,
     "start_time": "2025-02-12T11:53:48.375540",
     "status": "completed"
    },
    "tags": []
   },
   "outputs": [],
   "source": [
    "sns.countplot(data=df, x='Alzheimer’s Diagnosis');"
   ]
  },
  {
   "cell_type": "code",
   "execution_count": null,
   "id": "60d185e8",
   "metadata": {
    "execution": {
     "iopub.execute_input": "2025-02-12T11:53:48.649241Z",
     "iopub.status.busy": "2025-02-12T11:53:48.648864Z",
     "iopub.status.idle": "2025-02-12T11:53:55.189553Z",
     "shell.execute_reply": "2025-02-12T11:53:55.188531Z"
    },
    "papermill": {
     "duration": 6.556909,
     "end_time": "2025-02-12T11:53:55.197794",
     "exception": false,
     "start_time": "2025-02-12T11:53:48.640885",
     "status": "completed"
    },
    "tags": []
   },
   "outputs": [],
   "source": [
    "sns.scatterplot(data=df, x='Age', y='BMI', hue='Alzheimer’s Diagnosis'); "
   ]
  },
  {
   "cell_type": "markdown",
   "id": "31e63055",
   "metadata": {
    "papermill": {
     "duration": 0.015378,
     "end_time": "2025-02-12T11:53:55.229175",
     "exception": false,
     "start_time": "2025-02-12T11:53:55.213797",
     "status": "completed"
    },
    "tags": []
   },
   "source": [
    "Here we can see that Alzheimer's is not strongly related to BMI, but there is a strong correlation between Alzheimer's and age"
   ]
  },
  {
   "cell_type": "markdown",
   "id": "9b07e5da",
   "metadata": {
    "papermill": {
     "duration": 0.015234,
     "end_time": "2025-02-12T11:53:55.259997",
     "exception": false,
     "start_time": "2025-02-12T11:53:55.244763",
     "status": "completed"
    },
    "tags": []
   },
   "source": [
    "# 4. Data preparation"
   ]
  },
  {
   "cell_type": "code",
   "execution_count": null,
   "id": "430e464b",
   "metadata": {
    "execution": {
     "iopub.execute_input": "2025-02-12T11:53:55.292716Z",
     "iopub.status.busy": "2025-02-12T11:53:55.292364Z",
     "iopub.status.idle": "2025-02-12T11:53:55.314962Z",
     "shell.execute_reply": "2025-02-12T11:53:55.313588Z"
    },
    "papermill": {
     "duration": 0.041133,
     "end_time": "2025-02-12T11:53:55.316508",
     "exception": false,
     "start_time": "2025-02-12T11:53:55.275375",
     "status": "completed"
    },
    "tags": []
   },
   "outputs": [],
   "source": [
    "X = df.drop('Alzheimer’s Diagnosis', axis=1)"
   ]
  },
  {
   "cell_type": "code",
   "execution_count": null,
   "id": "f6a3bbf0",
   "metadata": {
    "execution": {
     "iopub.execute_input": "2025-02-12T11:53:55.349331Z",
     "iopub.status.busy": "2025-02-12T11:53:55.348879Z",
     "iopub.status.idle": "2025-02-12T11:53:55.495155Z",
     "shell.execute_reply": "2025-02-12T11:53:55.493957Z"
    },
    "papermill": {
     "duration": 0.164699,
     "end_time": "2025-02-12T11:53:55.496956",
     "exception": false,
     "start_time": "2025-02-12T11:53:55.332257",
     "status": "completed"
    },
    "tags": []
   },
   "outputs": [],
   "source": [
    "X = pd.get_dummies(X)"
   ]
  },
  {
   "cell_type": "code",
   "execution_count": null,
   "id": "565db744",
   "metadata": {
    "execution": {
     "iopub.execute_input": "2025-02-12T11:53:55.529598Z",
     "iopub.status.busy": "2025-02-12T11:53:55.529224Z",
     "iopub.status.idle": "2025-02-12T11:53:55.533313Z",
     "shell.execute_reply": "2025-02-12T11:53:55.532307Z"
    },
    "papermill": {
     "duration": 0.022246,
     "end_time": "2025-02-12T11:53:55.534956",
     "exception": false,
     "start_time": "2025-02-12T11:53:55.512710",
     "status": "completed"
    },
    "tags": []
   },
   "outputs": [],
   "source": [
    "y = df['Alzheimer’s Diagnosis']"
   ]
  },
  {
   "cell_type": "code",
   "execution_count": null,
   "id": "eb968a44",
   "metadata": {
    "execution": {
     "iopub.execute_input": "2025-02-12T11:53:55.567722Z",
     "iopub.status.busy": "2025-02-12T11:53:55.567354Z",
     "iopub.status.idle": "2025-02-12T11:53:55.590151Z",
     "shell.execute_reply": "2025-02-12T11:53:55.589292Z"
    },
    "papermill": {
     "duration": 0.041277,
     "end_time": "2025-02-12T11:53:55.592045",
     "exception": false,
     "start_time": "2025-02-12T11:53:55.550768",
     "status": "completed"
    },
    "tags": []
   },
   "outputs": [],
   "source": [
    "X_train, X_test, y_train, y_test = train_test_split(X, y, test_size=0.1, random_state=101)"
   ]
  },
  {
   "cell_type": "code",
   "execution_count": null,
   "id": "3e890baf",
   "metadata": {
    "execution": {
     "iopub.execute_input": "2025-02-12T11:53:55.626222Z",
     "iopub.status.busy": "2025-02-12T11:53:55.625848Z",
     "iopub.status.idle": "2025-02-12T11:53:55.630006Z",
     "shell.execute_reply": "2025-02-12T11:53:55.628939Z"
    },
    "papermill": {
     "duration": 0.023582,
     "end_time": "2025-02-12T11:53:55.631735",
     "exception": false,
     "start_time": "2025-02-12T11:53:55.608153",
     "status": "completed"
    },
    "tags": []
   },
   "outputs": [],
   "source": [
    "scaler = StandardScaler()"
   ]
  },
  {
   "cell_type": "code",
   "execution_count": null,
   "id": "43f92f91",
   "metadata": {
    "execution": {
     "iopub.execute_input": "2025-02-12T11:53:55.664890Z",
     "iopub.status.busy": "2025-02-12T11:53:55.664567Z",
     "iopub.status.idle": "2025-02-12T11:53:55.936398Z",
     "shell.execute_reply": "2025-02-12T11:53:55.935171Z"
    },
    "papermill": {
     "duration": 0.290765,
     "end_time": "2025-02-12T11:53:55.938431",
     "exception": false,
     "start_time": "2025-02-12T11:53:55.647666",
     "status": "completed"
    },
    "tags": []
   },
   "outputs": [],
   "source": [
    "scaled_X_train = scaler.fit_transform(X_train)"
   ]
  },
  {
   "cell_type": "code",
   "execution_count": null,
   "id": "d3ab6b7d",
   "metadata": {
    "execution": {
     "iopub.execute_input": "2025-02-12T11:53:55.973842Z",
     "iopub.status.busy": "2025-02-12T11:53:55.973506Z",
     "iopub.status.idle": "2025-02-12T11:53:55.993679Z",
     "shell.execute_reply": "2025-02-12T11:53:55.992697Z"
    },
    "papermill": {
     "duration": 0.038725,
     "end_time": "2025-02-12T11:53:55.995528",
     "exception": false,
     "start_time": "2025-02-12T11:53:55.956803",
     "status": "completed"
    },
    "tags": []
   },
   "outputs": [],
   "source": [
    "scaled_X_test = scaler.transform(X_test)"
   ]
  },
  {
   "cell_type": "markdown",
   "id": "270b11c2",
   "metadata": {
    "papermill": {
     "duration": 0.01561,
     "end_time": "2025-02-12T11:53:56.027023",
     "exception": false,
     "start_time": "2025-02-12T11:53:56.011413",
     "status": "completed"
    },
    "tags": []
   },
   "source": [
    "# 5. Model training\n",
    "## All hyperparameters for the models were calculated using GridSearchCV"
   ]
  },
  {
   "cell_type": "markdown",
   "id": "d97cb3f5",
   "metadata": {
    "papermill": {
     "duration": 0.015872,
     "end_time": "2025-02-12T11:53:56.058808",
     "exception": false,
     "start_time": "2025-02-12T11:53:56.042936",
     "status": "completed"
    },
    "tags": []
   },
   "source": [
    "## 5.1. LogisticRegression"
   ]
  },
  {
   "cell_type": "code",
   "execution_count": null,
   "id": "629e5484",
   "metadata": {
    "execution": {
     "iopub.execute_input": "2025-02-12T11:53:56.092342Z",
     "iopub.status.busy": "2025-02-12T11:53:56.091927Z",
     "iopub.status.idle": "2025-02-12T11:53:57.479477Z",
     "shell.execute_reply": "2025-02-12T11:53:57.478369Z"
    },
    "papermill": {
     "duration": 1.406369,
     "end_time": "2025-02-12T11:53:57.481115",
     "exception": false,
     "start_time": "2025-02-12T11:53:56.074746",
     "status": "completed"
    },
    "tags": []
   },
   "outputs": [],
   "source": [
    "model = LogisticRegression(C=0.1, max_iter=100, solver='newton-cg')\n",
    "model.fit(scaled_X_train, y_train)\n",
    "y_pred = model.predict(scaled_X_test)\n",
    "print(classification_report(y_test, y_pred))\n",
    "print(f'Accuracy: {accuracy_score(y_test, y_pred) * 100:.2f}%')\n",
    "ConfusionMatrixDisplay.from_estimator(model, scaled_X_test, y_test);"
   ]
  },
  {
   "cell_type": "markdown",
   "id": "cfb64d17",
   "metadata": {
    "papermill": {
     "duration": 0.015733,
     "end_time": "2025-02-12T11:53:57.513089",
     "exception": false,
     "start_time": "2025-02-12T11:53:57.497356",
     "status": "completed"
    },
    "tags": []
   },
   "source": [
    "## 5.2. RandomForestClassifier"
   ]
  },
  {
   "cell_type": "code",
   "execution_count": null,
   "id": "79e069db",
   "metadata": {
    "execution": {
     "iopub.execute_input": "2025-02-12T11:53:57.546553Z",
     "iopub.status.busy": "2025-02-12T11:53:57.546172Z",
     "iopub.status.idle": "2025-02-12T11:54:22.718574Z",
     "shell.execute_reply": "2025-02-12T11:54:22.717405Z"
    },
    "papermill": {
     "duration": 25.191056,
     "end_time": "2025-02-12T11:54:22.720184",
     "exception": false,
     "start_time": "2025-02-12T11:53:57.529128",
     "status": "completed"
    },
    "tags": []
   },
   "outputs": [],
   "source": [
    "model = RandomForestClassifier(max_depth=20, min_samples_leaf=1, min_samples_split=5, n_estimators=200, random_state=101)\n",
    "model.fit(X_train, y_train)\n",
    "y_pred = model.predict(X_test)\n",
    "print(classification_report(y_test, y_pred))\n",
    "print(f'Accuracy: {accuracy_score(y_test, y_pred) * 100:.2f}%')\n",
    "ConfusionMatrixDisplay.from_estimator(model, X_test, y_test);"
   ]
  },
  {
   "cell_type": "markdown",
   "id": "cb9f105e",
   "metadata": {
    "papermill": {
     "duration": 0.016685,
     "end_time": "2025-02-12T11:54:22.754624",
     "exception": false,
     "start_time": "2025-02-12T11:54:22.737939",
     "status": "completed"
    },
    "tags": []
   },
   "source": [
    "## 5.3. GradientBoostingClassifier"
   ]
  },
  {
   "cell_type": "code",
   "execution_count": null,
   "id": "fe15e82f",
   "metadata": {
    "execution": {
     "iopub.execute_input": "2025-02-12T11:54:22.790158Z",
     "iopub.status.busy": "2025-02-12T11:54:22.789784Z",
     "iopub.status.idle": "2025-02-12T11:54:44.897215Z",
     "shell.execute_reply": "2025-02-12T11:54:44.896094Z"
    },
    "papermill": {
     "duration": 22.127244,
     "end_time": "2025-02-12T11:54:44.899032",
     "exception": false,
     "start_time": "2025-02-12T11:54:22.771788",
     "status": "completed"
    },
    "tags": []
   },
   "outputs": [],
   "source": [
    "model = GradientBoostingClassifier(learning_rate=0.1, max_depth=4, min_samples_leaf=3, min_samples_split=5, n_estimators=100, subsample=0.8, random_state=101)\n",
    "model.fit(X_train, y_train)\n",
    "y_pred = model.predict(X_test)\n",
    "print(classification_report(y_test, y_pred))\n",
    "print(f'Accuracy: {accuracy_score(y_test, y_pred) * 100:.2f}%')\n",
    "ConfusionMatrixDisplay.from_estimator(model, X_test, y_test);"
   ]
  },
  {
   "cell_type": "markdown",
   "id": "f67d3d0b",
   "metadata": {
    "papermill": {
     "duration": 0.017387,
     "end_time": "2025-02-12T11:54:44.935128",
     "exception": false,
     "start_time": "2025-02-12T11:54:44.917741",
     "status": "completed"
    },
    "tags": []
   },
   "source": [
    "**Conclusion**\n",
    "\n",
    "Based on the accuracy, we can conclude that GradientBoostingClassifier (72.63%) is the best choice. It is possible to find better hyperparameters for the models, but this significantly increases the time it takes to find them"
   ]
  },
  {
   "cell_type": "code",
   "execution_count": null,
   "id": "c8aeb2df",
   "metadata": {
    "papermill": {
     "duration": 0.017456,
     "end_time": "2025-02-12T11:54:44.970291",
     "exception": false,
     "start_time": "2025-02-12T11:54:44.952835",
     "status": "completed"
    },
    "tags": []
   },
   "outputs": [],
   "source": []
  }
 ],
 "metadata": {
  "kaggle": {
   "accelerator": "none",
   "dataSources": [
    {
     "datasetId": 6574594,
     "sourceId": 10618775,
     "sourceType": "datasetVersion"
    }
   ],
   "dockerImageVersionId": 30886,
   "isGpuEnabled": false,
   "isInternetEnabled": false,
   "language": "python",
   "sourceType": "notebook"
  },
  "kernelspec": {
   "display_name": "base",
   "language": "python",
   "name": "python3"
  },
  "language_info": {
   "codemirror_mode": {
    "name": "ipython",
    "version": 3
   },
   "file_extension": ".py",
   "mimetype": "text/x-python",
   "name": "python",
   "nbconvert_exporter": "python",
   "pygments_lexer": "ipython3",
   "version": "3.12.2"
  },
  "papermill": {
   "default_parameters": {},
   "duration": 64.525784,
   "end_time": "2025-02-12T11:54:45.809682",
   "environment_variables": {},
   "exception": null,
   "input_path": "__notebook__.ipynb",
   "output_path": "__notebook__.ipynb",
   "parameters": {},
   "start_time": "2025-02-12T11:53:41.283898",
   "version": "2.6.0"
  }
 },
 "nbformat": 4,
 "nbformat_minor": 5
}
